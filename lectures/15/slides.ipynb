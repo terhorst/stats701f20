{
 "cells": [
  {
   "cell_type": "code",
   "execution_count": 2,
   "metadata": {},
   "outputs": [
    {
     "name": "stdout",
     "output_type": "stream",
     "text": [
      "The nb_black extension is already loaded. To reload it, use:\n",
      "  %reload_ext nb_black\n"
     ]
    },
    {
     "data": {
      "application/javascript": [
       "\n",
       "            setTimeout(function() {\n",
       "                var nbb_cell_id = 2;\n",
       "                var nbb_unformatted_code = \"%run -i ../init.py\";\n",
       "                var nbb_formatted_code = \"%run -i ../init.py\";\n",
       "                var nbb_cells = Jupyter.notebook.get_cells();\n",
       "                for (var i = 0; i < nbb_cells.length; ++i) {\n",
       "                    if (nbb_cells[i].input_prompt_number == nbb_cell_id) {\n",
       "                        if (nbb_cells[i].get_text() == nbb_unformatted_code) {\n",
       "                             nbb_cells[i].set_text(nbb_formatted_code);\n",
       "                        }\n",
       "                        break;\n",
       "                    }\n",
       "                }\n",
       "            }, 500);\n",
       "            "
      ],
      "text/plain": [
       "<IPython.core.display.Javascript object>"
      ]
     },
     "metadata": {},
     "output_type": "display_data"
    }
   ],
   "source": [
    "%run -i ../init.py"
   ]
  },
  {
   "cell_type": "markdown",
   "metadata": {},
   "source": [
    "# Lecture 15\n",
    "## Approximate Bayesian computation"
   ]
  },
  {
   "cell_type": "markdown",
   "metadata": {},
   "source": [
    "As we have seen, exact statistical inference in many genetics problems is often impossible because of the presence of many nuisance parameters. In particular, we often need to integrate over all possible genealogies, which quickly becomes challenging."
   ]
  },
  {
   "cell_type": "markdown",
   "metadata": {},
   "source": [
    "## Example: inferring the TMRCA\n",
    "In the 1990s there was great interest in inferring the time to most recent common ancestor of all humans. That is, given some data $D$ from $n$ samples, we want to estimate $T_n$, the overall height of the coalescent tree for two samples."
   ]
  },
  {
   "cell_type": "markdown",
   "metadata": {},
   "source": [
    "Concretely, suppose that \n",
    "\n",
    "$$D= \n",
    "\\pmatrix{\n",
    "    \\texttt{A} &     \\texttt{C} &     \\texttt{G} &     \\texttt{T} \\\\\n",
    "        \\texttt{A} &     \\texttt{A} &     \\texttt{G} &     \\texttt{T} \\\\\n",
    "            \\texttt{A} &     \\texttt{C} &     \\texttt{G} &     \\texttt{T} \\\\\n",
    "                \\texttt{C} &     \\texttt{C} &     \\texttt{C} &     \\texttt{T} \n",
    "}.\n",
    "$$\n",
    "\n",
    "What is the posterior distribution of $T_4$?"
   ]
  },
  {
   "cell_type": "markdown",
   "metadata": {},
   "source": [
    "For $n=2$ this is easy enough. We know that $T_2 \\sim \\mathrm{Exp}(1)$, and that the number of differences between the two sequences is\n",
    "\n",
    "$$D \\mid T_2 \\sim \\mathrm{Poisson}(\\theta T_2)$$ \n",
    "\n",
    "under the inifinte sites model. By conjugacy,\n",
    "\n",
    "$$T_2 \\mid D=k \\sim \\mathrm{Gamma}(1 + k, 1+\\theta).$$"
   ]
  },
  {
   "cell_type": "markdown",
   "metadata": {},
   "source": [
    "For $n>2$, this becomes a more difficult problem: $D$ potentially contains a lot of information about the tree topology and branch lengths, such that the posterior distribution $T_n\\mid D$ is difficult to find analytically."
   ]
  },
  {
   "cell_type": "markdown",
   "metadata": {},
   "source": [
    "In fact, we cannot even sample from it, because \n",
    "\n",
    "$$f_{T_n}(t\\mid D) \\propto f_{T_n}(t) \\mathbb{P}(D\\mid T_n=t),$$\n",
    "\n",
    "and computing $\\mathbb{P}(D\\mid T_n=t)$ is challenging."
   ]
  },
  {
   "cell_type": "markdown",
   "metadata": {},
   "source": [
    "### Conditioning on a summary statistic\n",
    "Tavaré *et al*. (1997) had the idea of summarizing $D$ by $S_n$, the number of segregating sites in the sample. This is much simpler to reason about, because $S_n$ only depends on the overall *length* of the coalescent tree and not its topology."
   ]
  },
  {
   "cell_type": "markdown",
   "metadata": {},
   "source": [
    "In particular, letting $L_n$ be the overall branch length of the coalescent tree on $n$ samples, we have that\n",
    "\n",
    "$$\\mathbb{P}(S_n=k \\mid L_n) = \\mathrm{Po}(k,L_n\\theta/2),$$\n",
    "\n",
    "where $\\mathrm{Po}(\\cdot,\\mu)$ is the pmf of a $\\mathrm{Poisson}(\\mu)$ random variable."
   ]
  },
  {
   "cell_type": "markdown",
   "metadata": {},
   "source": [
    "Here is a simple and intuitive algorithm for drawing a sample from $T_n \\mid S_n=k$:\n",
    "\n",
    "1. Sample $T_n,L_n$ from the coalescent.\n",
    "2. Draw $S \\sim \\mathrm{Pois}(L_n \\theta / 2)$.\n",
    "3. If $S=k$, return $T_n$. \n",
    "4. Else, go back to 1."
   ]
  },
  {
   "cell_type": "markdown",
   "metadata": {},
   "source": [
    "Let $X$ be the number returned by this algorithm. To check that $X$ has the correct distribution, note that \n",
    "\n",
    "\\begin{align}\n",
    "\\mathbb{P}(X < t) &= \\mathbb{P}(T_n<t \\mid S=k) \\\\\n",
    "&\\propto \\mathbb{P}(S = k\\mid T_n<t)\\, \\mathbb{P}(T_n<t)\\\\\n",
    "&= \\mathbb{E}_{L_n\\mid T_n<t} \\, \\mathrm{Po}(k,L_n\\theta/2)  \\, \\mathbb{P}(T_n<t)\\\\\n",
    "&= \\mathbb{E}_{L_n\\mid T_n<t} \\, \\mathbb{P}(S_n=k\\mid L_n) \\mathbb{P}(T_n<t)\\\\\n",
    "&= \\mathbb{P}(S_n=k, T_n<t) \\\\\n",
    "&\\propto \\mathbb{P}(T_n<t \\mid S_n=k).\n",
    "\\end{align}"
   ]
  },
  {
   "cell_type": "markdown",
   "metadata": {},
   "source": [
    "This algorithm is correct, but it will suffer from many rejections, because frequently we will have $S\\neq k$ even if $T_n$ is very close to the true value. Indeed, the probability of acceptance is \n",
    "\n",
    "$$\\mathbb{P}(S=k) = \\mathbb{E}\\mathrm{Po}(k,L_n\\theta/2).$$"
   ]
  },
  {
   "cell_type": "markdown",
   "metadata": {},
   "source": [
    "Here is a modified algorithm that has a strictly higher rate of acceptance:\n",
    "\n",
    "\n",
    "1. Sample $T_n,L_n$ from the coalescent.\n",
    "2. Draw $U\\sim \\mathrm{Uniform}(0,1)$.\n",
    "3. If $U < \\frac{\\mathrm{Po}(k,L_n \\theta/2)}{\\mathrm{Po}(k,k)}$, return $T_n$.\n",
    "4. Else, go back to 1.\n",
    "\n",
    "The acceptance rate of this algorithm is higher by a factor of $1/c$, where \n",
    "\n",
    "$$c=\\mathrm{Po}(k,k)<1.$$\n",
    "\n"
   ]
  },
  {
   "cell_type": "markdown",
   "metadata": {},
   "source": [
    "To check that it still has the correct distribution, note that\n",
    "\n",
    "\\begin{align}\n",
    "\\mathbb{P}(X < t)& \\propto \\mathbb{E}_{L_n\\mid T_n<t} \\, \\mathbb{P}\\Big(U < \\frac{\\mathrm{Po}(k,L_n\\theta/2)}{c}\\Big)  \\, \\mathbb{P}(T_n<t)\\\\\n",
    "&\\propto \\mathbb{E}_{L_n\\mid T_n<t} \\, \\mathrm{Po}(k,L_n\\theta/2)  \\, \\mathbb{P}(T_n<t).\n",
    "\\end{align}"
   ]
  },
  {
   "cell_type": "markdown",
   "metadata": {},
   "source": [
    "### Demonstration"
   ]
  },
  {
   "cell_type": "code",
   "execution_count": 16,
   "metadata": {},
   "outputs": [
    {
     "data": {
      "application/javascript": [
       "\n",
       "            setTimeout(function() {\n",
       "                var nbb_cell_id = 16;\n",
       "                var nbb_unformatted_code = \"def TnLn(n):\\n    k = np.arange(2, n + 1)\\n    S = np.random.exponential(scale=2 / k / (k - 1))\\n    T_n = S.sum()  # height\\n    L_n = (k * S).sum()  # length\\n    return T_n, L_n\";\n",
       "                var nbb_formatted_code = \"def TnLn(n):\\n    k = np.arange(2, n + 1)\\n    S = np.random.exponential(scale=2 / k / (k - 1))\\n    T_n = S.sum()  # height\\n    L_n = (k * S).sum()  # length\\n    return T_n, L_n\";\n",
       "                var nbb_cells = Jupyter.notebook.get_cells();\n",
       "                for (var i = 0; i < nbb_cells.length; ++i) {\n",
       "                    if (nbb_cells[i].input_prompt_number == nbb_cell_id) {\n",
       "                        if (nbb_cells[i].get_text() == nbb_unformatted_code) {\n",
       "                             nbb_cells[i].set_text(nbb_formatted_code);\n",
       "                        }\n",
       "                        break;\n",
       "                    }\n",
       "                }\n",
       "            }, 500);\n",
       "            "
      ],
      "text/plain": [
       "<IPython.core.display.Javascript object>"
      ]
     },
     "metadata": {},
     "output_type": "display_data"
    }
   ],
   "source": [
    "def TnLn(n):\n",
    "    k = np.arange(2, n + 1)\n",
    "    S = np.random.exponential(scale=2 / k / (k - 1))\n",
    "    T_n = S.sum()  # height\n",
    "    L_n = (k * S).sum()  # length\n",
    "    return T_n, L_n"
   ]
  },
  {
   "cell_type": "code",
   "execution_count": 50,
   "metadata": {},
   "outputs": [
    {
     "data": {
      "text/plain": [
       "22"
      ]
     },
     "execution_count": 50,
     "metadata": {},
     "output_type": "execute_result"
    },
    {
     "data": {
      "application/javascript": [
       "\n",
       "            setTimeout(function() {\n",
       "                var nbb_cell_id = 50;\n",
       "                var nbb_unformatted_code = \"import msprime as msp\\n\\n# simulate a population, get TMRCA and number of mutations\\nn = 50\\ntheta = 1\\ntree = msp.simulate(sample_size=n, mutation_rate=theta).first()\\ntmrca = tree.get_time(tree.root)\\nk = tree.get_num_mutations()\\nk\";\n",
       "                var nbb_formatted_code = \"import msprime as msp\\n\\n# simulate a population, get TMRCA and number of mutations\\nn = 50\\ntheta = 1\\ntree = msp.simulate(sample_size=n, mutation_rate=theta).first()\\ntmrca = tree.get_time(tree.root)\\nk = tree.get_num_mutations()\\nk\";\n",
       "                var nbb_cells = Jupyter.notebook.get_cells();\n",
       "                for (var i = 0; i < nbb_cells.length; ++i) {\n",
       "                    if (nbb_cells[i].input_prompt_number == nbb_cell_id) {\n",
       "                        if (nbb_cells[i].get_text() == nbb_unformatted_code) {\n",
       "                             nbb_cells[i].set_text(nbb_formatted_code);\n",
       "                        }\n",
       "                        break;\n",
       "                    }\n",
       "                }\n",
       "            }, 500);\n",
       "            "
      ],
      "text/plain": [
       "<IPython.core.display.Javascript object>"
      ]
     },
     "metadata": {},
     "output_type": "display_data"
    }
   ],
   "source": [
    "import msprime as msp\n",
    "\n",
    "# simulate a population, get TMRCA and number of mutations\n",
    "n = 50\n",
    "theta = 1\n",
    "tree = msp.simulate(sample_size=n, mutation_rate=theta).first()\n",
    "tmrca = tree.get_time(tree.root)\n",
    "k = tree.get_num_mutations()\n",
    "k"
   ]
  },
  {
   "cell_type": "code",
   "execution_count": 81,
   "metadata": {},
   "outputs": [
    {
     "data": {
      "application/javascript": [
       "\n",
       "            setTimeout(function() {\n",
       "                var nbb_cell_id = 81;\n",
       "                var nbb_unformatted_code = \"# rejection sample for posterior T_n | S_n = k\\nfrom scipy.stats import poisson\\nfrom functools import partial\\n\\npois = partial(poisson.pmf, k=k)\\np_k = pois(mu=k)\\nspl = []\\nwhile len(spl) < 1000:\\n    T_n, L_n = TnLn(n)\\n    if np.random.rand() < pois(mu=L_n * theta) / p_k:\\n        spl.append(T_n)\";\n",
       "                var nbb_formatted_code = \"# rejection sample for posterior T_n | S_n = k\\nfrom scipy.stats import poisson\\nfrom functools import partial\\n\\npois = partial(poisson.pmf, k=k)\\np_k = pois(mu=k)\\nspl = []\\nwhile len(spl) < 1000:\\n    T_n, L_n = TnLn(n)\\n    if np.random.rand() < pois(mu=L_n * theta) / p_k:\\n        spl.append(T_n)\";\n",
       "                var nbb_cells = Jupyter.notebook.get_cells();\n",
       "                for (var i = 0; i < nbb_cells.length; ++i) {\n",
       "                    if (nbb_cells[i].input_prompt_number == nbb_cell_id) {\n",
       "                        if (nbb_cells[i].get_text() == nbb_unformatted_code) {\n",
       "                             nbb_cells[i].set_text(nbb_formatted_code);\n",
       "                        }\n",
       "                        break;\n",
       "                    }\n",
       "                }\n",
       "            }, 500);\n",
       "            "
      ],
      "text/plain": [
       "<IPython.core.display.Javascript object>"
      ]
     },
     "metadata": {},
     "output_type": "display_data"
    }
   ],
   "source": [
    "# rejection sample for posterior T_n | S_n = k\n",
    "from scipy.stats import poisson\n",
    "from functools import partial\n",
    "\n",
    "pois = partial(poisson.pmf, k=k)\n",
    "p_k = pois(mu=k)\n",
    "spl = []\n",
    "while len(spl) < 1000:\n",
    "    T_n, L_n = TnLn(n)\n",
    "    if np.random.rand() < pois(mu=L_n * theta) / p_k:\n",
    "        spl.append(T_n)"
   ]
  },
  {
   "cell_type": "code",
   "execution_count": 84,
   "metadata": {},
   "outputs": [
    {
     "data": {
      "text/plain": [
       "(5.231245993035708, 4.79627785010042)"
      ]
     },
     "execution_count": 84,
     "metadata": {},
     "output_type": "execute_result"
    },
    {
     "data": {
      "image/svg+xml": [
       "<?xml version=\"1.0\" encoding=\"utf-8\" standalone=\"no\"?>\n",
       "<!DOCTYPE svg PUBLIC \"-//W3C//DTD SVG 1.1//EN\"\n",
       "  \"http://www.w3.org/Graphics/SVG/1.1/DTD/svg11.dtd\">\n",
       "<!-- Created with matplotlib (https://matplotlib.org/) -->\n",
       "<svg height=\"244.485312pt\" version=\"1.1\" viewBox=\"0 0 369.382812 244.485312\" width=\"369.382812pt\" xmlns=\"http://www.w3.org/2000/svg\" xmlns:xlink=\"http://www.w3.org/1999/xlink\">\n",
       " <metadata>\n",
       "  <rdf:RDF xmlns:cc=\"http://creativecommons.org/ns#\" xmlns:dc=\"http://purl.org/dc/elements/1.1/\" xmlns:rdf=\"http://www.w3.org/1999/02/22-rdf-syntax-ns#\">\n",
       "   <cc:Work>\n",
       "    <dc:type rdf:resource=\"http://purl.org/dc/dcmitype/StillImage\"/>\n",
       "    <dc:date>2020-10-20T11:58:28.685490</dc:date>\n",
       "    <dc:format>image/svg+xml</dc:format>\n",
       "    <dc:creator>\n",
       "     <cc:Agent>\n",
       "      <dc:title>Matplotlib v3.3.2, https://matplotlib.org/</dc:title>\n",
       "     </cc:Agent>\n",
       "    </dc:creator>\n",
       "   </cc:Work>\n",
       "  </rdf:RDF>\n",
       " </metadata>\n",
       " <defs>\n",
       "  <style type=\"text/css\">*{stroke-linecap:butt;stroke-linejoin:round;}</style>\n",
       " </defs>\n",
       " <g id=\"figure_1\">\n",
       "  <g id=\"patch_1\">\n",
       "   <path d=\"M 0 244.485312 \n",
       "L 369.382812 244.485312 \n",
       "L 369.382812 0 \n",
       "L 0 0 \n",
       "z\n",
       "\" style=\"fill:#ffffff;\"/>\n",
       "  </g>\n",
       "  <g id=\"axes_1\">\n",
       "   <g id=\"patch_2\">\n",
       "    <path d=\"M 27.382812 224.64 \n",
       "L 362.182813 224.64 \n",
       "L 362.182813 7.2 \n",
       "L 27.382812 7.2 \n",
       "z\n",
       "\" style=\"fill:#ffffff;\"/>\n",
       "   </g>\n",
       "   <g id=\"matplotlib.axis_1\">\n",
       "    <g id=\"xtick_1\">\n",
       "     <g id=\"line2d_1\"/>\n",
       "     <g id=\"text_1\">\n",
       "      <!-- 2 -->\n",
       "      <g style=\"fill:#262626;\" transform=\"translate(71.869309 235.297812)scale(0.1 -0.1)\">\n",
       "       <defs>\n",
       "        <path d=\"M 50.34375 8.453125 \n",
       "L 50.34375 0 \n",
       "L 3.03125 0 \n",
       "Q 2.9375 3.171875 4.046875 6.109375 \n",
       "Q 5.859375 10.9375 9.828125 15.625 \n",
       "Q 13.8125 20.3125 21.34375 26.46875 \n",
       "Q 33.015625 36.03125 37.109375 41.625 \n",
       "Q 41.21875 47.21875 41.21875 52.203125 \n",
       "Q 41.21875 57.421875 37.46875 61 \n",
       "Q 33.734375 64.59375 27.734375 64.59375 \n",
       "Q 21.390625 64.59375 17.578125 60.78125 \n",
       "Q 13.765625 56.984375 13.71875 50.25 \n",
       "L 4.6875 51.171875 \n",
       "Q 5.609375 61.28125 11.65625 66.578125 \n",
       "Q 17.71875 71.875 27.9375 71.875 \n",
       "Q 38.234375 71.875 44.234375 66.15625 \n",
       "Q 50.25 60.453125 50.25 52 \n",
       "Q 50.25 47.703125 48.484375 43.546875 \n",
       "Q 46.734375 39.40625 42.65625 34.8125 \n",
       "Q 38.578125 30.21875 29.109375 22.21875 \n",
       "Q 21.1875 15.578125 18.9375 13.203125 \n",
       "Q 16.703125 10.84375 15.234375 8.453125 \n",
       "z\n",
       "\" id=\"ArialMT-50\"/>\n",
       "       </defs>\n",
       "       <use xlink:href=\"#ArialMT-50\"/>\n",
       "      </g>\n",
       "     </g>\n",
       "    </g>\n",
       "    <g id=\"xtick_2\">\n",
       "     <g id=\"line2d_2\"/>\n",
       "     <g id=\"text_2\">\n",
       "      <!-- 4 -->\n",
       "      <g style=\"fill:#262626;\" transform=\"translate(135.548268 235.297812)scale(0.1 -0.1)\">\n",
       "       <defs>\n",
       "        <path d=\"M 32.328125 0 \n",
       "L 32.328125 17.140625 \n",
       "L 1.265625 17.140625 \n",
       "L 1.265625 25.203125 \n",
       "L 33.9375 71.578125 \n",
       "L 41.109375 71.578125 \n",
       "L 41.109375 25.203125 \n",
       "L 50.78125 25.203125 \n",
       "L 50.78125 17.140625 \n",
       "L 41.109375 17.140625 \n",
       "L 41.109375 0 \n",
       "z\n",
       "M 32.328125 25.203125 \n",
       "L 32.328125 57.46875 \n",
       "L 9.90625 25.203125 \n",
       "z\n",
       "\" id=\"ArialMT-52\"/>\n",
       "       </defs>\n",
       "       <use xlink:href=\"#ArialMT-52\"/>\n",
       "      </g>\n",
       "     </g>\n",
       "    </g>\n",
       "    <g id=\"xtick_3\">\n",
       "     <g id=\"line2d_3\"/>\n",
       "     <g id=\"text_3\">\n",
       "      <!-- 6 -->\n",
       "      <g style=\"fill:#262626;\" transform=\"translate(199.227226 235.297812)scale(0.1 -0.1)\">\n",
       "       <defs>\n",
       "        <path d=\"M 49.75 54.046875 \n",
       "L 41.015625 53.375 \n",
       "Q 39.84375 58.546875 37.703125 60.890625 \n",
       "Q 34.125 64.65625 28.90625 64.65625 \n",
       "Q 24.703125 64.65625 21.53125 62.3125 \n",
       "Q 17.390625 59.28125 14.984375 53.46875 \n",
       "Q 12.59375 47.65625 12.5 36.921875 \n",
       "Q 15.671875 41.75 20.265625 44.09375 \n",
       "Q 24.859375 46.4375 29.890625 46.4375 \n",
       "Q 38.671875 46.4375 44.84375 39.96875 \n",
       "Q 51.03125 33.5 51.03125 23.25 \n",
       "Q 51.03125 16.5 48.125 10.71875 \n",
       "Q 45.21875 4.9375 40.140625 1.859375 \n",
       "Q 35.0625 -1.21875 28.609375 -1.21875 \n",
       "Q 17.625 -1.21875 10.6875 6.859375 \n",
       "Q 3.765625 14.9375 3.765625 33.5 \n",
       "Q 3.765625 54.25 11.421875 63.671875 \n",
       "Q 18.109375 71.875 29.4375 71.875 \n",
       "Q 37.890625 71.875 43.28125 67.140625 \n",
       "Q 48.6875 62.40625 49.75 54.046875 \n",
       "z\n",
       "M 13.875 23.1875 \n",
       "Q 13.875 18.65625 15.796875 14.5 \n",
       "Q 17.71875 10.359375 21.1875 8.171875 \n",
       "Q 24.65625 6 28.46875 6 \n",
       "Q 34.03125 6 38.03125 10.484375 \n",
       "Q 42.046875 14.984375 42.046875 22.703125 \n",
       "Q 42.046875 30.125 38.078125 34.390625 \n",
       "Q 34.125 38.671875 28.125 38.671875 \n",
       "Q 22.171875 38.671875 18.015625 34.390625 \n",
       "Q 13.875 30.125 13.875 23.1875 \n",
       "z\n",
       "\" id=\"ArialMT-54\"/>\n",
       "       </defs>\n",
       "       <use xlink:href=\"#ArialMT-54\"/>\n",
       "      </g>\n",
       "     </g>\n",
       "    </g>\n",
       "    <g id=\"xtick_4\">\n",
       "     <g id=\"line2d_4\"/>\n",
       "     <g id=\"text_4\">\n",
       "      <!-- 8 -->\n",
       "      <g style=\"fill:#262626;\" transform=\"translate(262.906185 235.297812)scale(0.1 -0.1)\">\n",
       "       <defs>\n",
       "        <path d=\"M 17.671875 38.8125 \n",
       "Q 12.203125 40.828125 9.5625 44.53125 \n",
       "Q 6.9375 48.25 6.9375 53.421875 \n",
       "Q 6.9375 61.234375 12.546875 66.546875 \n",
       "Q 18.171875 71.875 27.484375 71.875 \n",
       "Q 36.859375 71.875 42.578125 66.421875 \n",
       "Q 48.296875 60.984375 48.296875 53.171875 \n",
       "Q 48.296875 48.1875 45.671875 44.5 \n",
       "Q 43.0625 40.828125 37.75 38.8125 \n",
       "Q 44.34375 36.671875 47.78125 31.875 \n",
       "Q 51.21875 27.09375 51.21875 20.453125 \n",
       "Q 51.21875 11.28125 44.71875 5.03125 \n",
       "Q 38.234375 -1.21875 27.640625 -1.21875 \n",
       "Q 17.046875 -1.21875 10.546875 5.046875 \n",
       "Q 4.046875 11.328125 4.046875 20.703125 \n",
       "Q 4.046875 27.6875 7.59375 32.390625 \n",
       "Q 11.140625 37.109375 17.671875 38.8125 \n",
       "z\n",
       "M 15.921875 53.71875 \n",
       "Q 15.921875 48.640625 19.1875 45.40625 \n",
       "Q 22.46875 42.1875 27.6875 42.1875 \n",
       "Q 32.765625 42.1875 36.015625 45.375 \n",
       "Q 39.265625 48.578125 39.265625 53.21875 \n",
       "Q 39.265625 58.0625 35.90625 61.359375 \n",
       "Q 32.5625 64.65625 27.59375 64.65625 \n",
       "Q 22.5625 64.65625 19.234375 61.421875 \n",
       "Q 15.921875 58.203125 15.921875 53.71875 \n",
       "z\n",
       "M 13.09375 20.65625 \n",
       "Q 13.09375 16.890625 14.875 13.375 \n",
       "Q 16.65625 9.859375 20.171875 7.921875 \n",
       "Q 23.6875 6 27.734375 6 \n",
       "Q 34.03125 6 38.125 10.046875 \n",
       "Q 42.234375 14.109375 42.234375 20.359375 \n",
       "Q 42.234375 26.703125 38.015625 30.859375 \n",
       "Q 33.796875 35.015625 27.4375 35.015625 \n",
       "Q 21.234375 35.015625 17.15625 30.90625 \n",
       "Q 13.09375 26.8125 13.09375 20.65625 \n",
       "z\n",
       "\" id=\"ArialMT-56\"/>\n",
       "       </defs>\n",
       "       <use xlink:href=\"#ArialMT-56\"/>\n",
       "      </g>\n",
       "     </g>\n",
       "    </g>\n",
       "    <g id=\"xtick_5\">\n",
       "     <g id=\"line2d_5\"/>\n",
       "     <g id=\"text_5\">\n",
       "      <!-- 10 -->\n",
       "      <g style=\"fill:#262626;\" transform=\"translate(323.804675 235.297812)scale(0.1 -0.1)\">\n",
       "       <defs>\n",
       "        <path d=\"M 37.25 0 \n",
       "L 28.46875 0 \n",
       "L 28.46875 56 \n",
       "Q 25.296875 52.984375 20.140625 49.953125 \n",
       "Q 14.984375 46.921875 10.890625 45.40625 \n",
       "L 10.890625 53.90625 \n",
       "Q 18.265625 57.375 23.78125 62.296875 \n",
       "Q 29.296875 67.234375 31.59375 71.875 \n",
       "L 37.25 71.875 \n",
       "z\n",
       "\" id=\"ArialMT-49\"/>\n",
       "        <path d=\"M 4.15625 35.296875 \n",
       "Q 4.15625 48 6.765625 55.734375 \n",
       "Q 9.375 63.484375 14.515625 67.671875 \n",
       "Q 19.671875 71.875 27.484375 71.875 \n",
       "Q 33.25 71.875 37.59375 69.546875 \n",
       "Q 41.9375 67.234375 44.765625 62.859375 \n",
       "Q 47.609375 58.5 49.21875 52.21875 \n",
       "Q 50.828125 45.953125 50.828125 35.296875 \n",
       "Q 50.828125 22.703125 48.234375 14.96875 \n",
       "Q 45.65625 7.234375 40.5 3 \n",
       "Q 35.359375 -1.21875 27.484375 -1.21875 \n",
       "Q 17.140625 -1.21875 11.234375 6.203125 \n",
       "Q 4.15625 15.140625 4.15625 35.296875 \n",
       "z\n",
       "M 13.1875 35.296875 \n",
       "Q 13.1875 17.671875 17.3125 11.828125 \n",
       "Q 21.4375 6 27.484375 6 \n",
       "Q 33.546875 6 37.671875 11.859375 \n",
       "Q 41.796875 17.71875 41.796875 35.296875 \n",
       "Q 41.796875 52.984375 37.671875 58.78125 \n",
       "Q 33.546875 64.59375 27.390625 64.59375 \n",
       "Q 21.34375 64.59375 17.71875 59.46875 \n",
       "Q 13.1875 52.9375 13.1875 35.296875 \n",
       "z\n",
       "\" id=\"ArialMT-48\"/>\n",
       "       </defs>\n",
       "       <use xlink:href=\"#ArialMT-49\"/>\n",
       "       <use x=\"55.615234\" xlink:href=\"#ArialMT-48\"/>\n",
       "      </g>\n",
       "     </g>\n",
       "    </g>\n",
       "   </g>\n",
       "   <g id=\"matplotlib.axis_2\">\n",
       "    <g id=\"ytick_1\">\n",
       "     <g id=\"line2d_6\"/>\n",
       "     <g id=\"text_6\">\n",
       "      <!-- 0 -->\n",
       "      <g style=\"fill:#262626;\" transform=\"translate(18.321875 228.218906)scale(0.1 -0.1)\">\n",
       "       <use xlink:href=\"#ArialMT-48\"/>\n",
       "      </g>\n",
       "     </g>\n",
       "    </g>\n",
       "    <g id=\"ytick_2\">\n",
       "     <g id=\"line2d_7\"/>\n",
       "     <g id=\"text_7\">\n",
       "      <!-- 50 -->\n",
       "      <g style=\"fill:#262626;\" transform=\"translate(12.760937 186.076921)scale(0.1 -0.1)\">\n",
       "       <defs>\n",
       "        <path d=\"M 4.15625 18.75 \n",
       "L 13.375 19.53125 \n",
       "Q 14.40625 12.796875 18.140625 9.390625 \n",
       "Q 21.875 6 27.15625 6 \n",
       "Q 33.5 6 37.890625 10.78125 \n",
       "Q 42.28125 15.578125 42.28125 23.484375 \n",
       "Q 42.28125 31 38.0625 35.34375 \n",
       "Q 33.84375 39.703125 27 39.703125 \n",
       "Q 22.75 39.703125 19.328125 37.765625 \n",
       "Q 15.921875 35.84375 13.96875 32.765625 \n",
       "L 5.71875 33.84375 \n",
       "L 12.640625 70.609375 \n",
       "L 48.25 70.609375 \n",
       "L 48.25 62.203125 \n",
       "L 19.671875 62.203125 \n",
       "L 15.828125 42.96875 \n",
       "Q 22.265625 47.46875 29.34375 47.46875 \n",
       "Q 38.71875 47.46875 45.15625 40.96875 \n",
       "Q 51.609375 34.46875 51.609375 24.265625 \n",
       "Q 51.609375 14.546875 45.953125 7.46875 \n",
       "Q 39.0625 -1.21875 27.15625 -1.21875 \n",
       "Q 17.390625 -1.21875 11.203125 4.25 \n",
       "Q 5.03125 9.71875 4.15625 18.75 \n",
       "z\n",
       "\" id=\"ArialMT-53\"/>\n",
       "       </defs>\n",
       "       <use xlink:href=\"#ArialMT-53\"/>\n",
       "       <use x=\"55.615234\" xlink:href=\"#ArialMT-48\"/>\n",
       "      </g>\n",
       "     </g>\n",
       "    </g>\n",
       "    <g id=\"ytick_3\">\n",
       "     <g id=\"line2d_8\"/>\n",
       "     <g id=\"text_8\">\n",
       "      <!-- 100 -->\n",
       "      <g style=\"fill:#262626;\" transform=\"translate(7.2 143.934936)scale(0.1 -0.1)\">\n",
       "       <use xlink:href=\"#ArialMT-49\"/>\n",
       "       <use x=\"55.615234\" xlink:href=\"#ArialMT-48\"/>\n",
       "       <use x=\"111.230469\" xlink:href=\"#ArialMT-48\"/>\n",
       "      </g>\n",
       "     </g>\n",
       "    </g>\n",
       "    <g id=\"ytick_4\">\n",
       "     <g id=\"line2d_9\"/>\n",
       "     <g id=\"text_9\">\n",
       "      <!-- 150 -->\n",
       "      <g style=\"fill:#262626;\" transform=\"translate(7.2 101.792951)scale(0.1 -0.1)\">\n",
       "       <use xlink:href=\"#ArialMT-49\"/>\n",
       "       <use x=\"55.615234\" xlink:href=\"#ArialMT-53\"/>\n",
       "       <use x=\"111.230469\" xlink:href=\"#ArialMT-48\"/>\n",
       "      </g>\n",
       "     </g>\n",
       "    </g>\n",
       "    <g id=\"ytick_5\">\n",
       "     <g id=\"line2d_10\"/>\n",
       "     <g id=\"text_10\">\n",
       "      <!-- 200 -->\n",
       "      <g style=\"fill:#262626;\" transform=\"translate(7.2 59.650966)scale(0.1 -0.1)\">\n",
       "       <use xlink:href=\"#ArialMT-50\"/>\n",
       "       <use x=\"55.615234\" xlink:href=\"#ArialMT-48\"/>\n",
       "       <use x=\"111.230469\" xlink:href=\"#ArialMT-48\"/>\n",
       "      </g>\n",
       "     </g>\n",
       "    </g>\n",
       "    <g id=\"ytick_6\">\n",
       "     <g id=\"line2d_11\"/>\n",
       "     <g id=\"text_11\">\n",
       "      <!-- 250 -->\n",
       "      <g style=\"fill:#262626;\" transform=\"translate(7.2 17.508981)scale(0.1 -0.1)\">\n",
       "       <use xlink:href=\"#ArialMT-50\"/>\n",
       "       <use x=\"55.615234\" xlink:href=\"#ArialMT-53\"/>\n",
       "       <use x=\"111.230469\" xlink:href=\"#ArialMT-48\"/>\n",
       "      </g>\n",
       "     </g>\n",
       "    </g>\n",
       "   </g>\n",
       "   <g id=\"patch_3\">\n",
       "    <path clip-path=\"url(#p01f0f20cd2)\" d=\"M 42.600994 224.64 \n",
       "L 73.037358 224.64 \n",
       "L 73.037358 213.683084 \n",
       "L 42.600994 213.683084 \n",
       "z\n",
       "\" style=\"fill:#1f77b4;\"/>\n",
       "   </g>\n",
       "   <g id=\"patch_4\">\n",
       "    <path clip-path=\"url(#p01f0f20cd2)\" d=\"M 73.037358 224.64 \n",
       "L 103.473722 224.64 \n",
       "L 103.473722 138.670351 \n",
       "L 73.037358 138.670351 \n",
       "z\n",
       "\" style=\"fill:#1f77b4;\"/>\n",
       "   </g>\n",
       "   <g id=\"patch_5\">\n",
       "    <path clip-path=\"url(#p01f0f20cd2)\" d=\"M 103.473722 224.64 \n",
       "L 133.910085 224.64 \n",
       "L 133.910085 61.971938 \n",
       "L 103.473722 61.971938 \n",
       "z\n",
       "\" style=\"fill:#1f77b4;\"/>\n",
       "   </g>\n",
       "   <g id=\"patch_6\">\n",
       "    <path clip-path=\"url(#p01f0f20cd2)\" d=\"M 133.910085 224.64 \n",
       "L 164.346449 224.64 \n",
       "L 164.346449 27.41551 \n",
       "L 133.910085 27.41551 \n",
       "z\n",
       "\" style=\"fill:#1f77b4;\"/>\n",
       "   </g>\n",
       "   <g id=\"patch_7\">\n",
       "    <path clip-path=\"url(#p01f0f20cd2)\" d=\"M 164.346449 224.64 \n",
       "L 194.782812 224.64 \n",
       "L 194.782812 56.9149 \n",
       "L 164.346449 56.9149 \n",
       "z\n",
       "\" style=\"fill:#1f77b4;\"/>\n",
       "   </g>\n",
       "   <g id=\"patch_8\">\n",
       "    <path clip-path=\"url(#p01f0f20cd2)\" d=\"M 194.782812 224.64 \n",
       "L 225.219176 224.64 \n",
       "L 225.219176 105.799602 \n",
       "L 194.782812 105.799602 \n",
       "z\n",
       "\" style=\"fill:#1f77b4;\"/>\n",
       "   </g>\n",
       "   <g id=\"patch_9\">\n",
       "    <path clip-path=\"url(#p01f0f20cd2)\" d=\"M 225.219176 224.64 \n",
       "L 255.65554 224.64 \n",
       "L 255.65554 175.755297 \n",
       "L 225.219176 175.755297 \n",
       "z\n",
       "\" style=\"fill:#1f77b4;\"/>\n",
       "   </g>\n",
       "   <g id=\"patch_10\">\n",
       "    <path clip-path=\"url(#p01f0f20cd2)\" d=\"M 255.65554 224.64 \n",
       "L 286.091903 224.64 \n",
       "L 286.091903 191.769252 \n",
       "L 255.65554 191.769252 \n",
       "z\n",
       "\" style=\"fill:#1f77b4;\"/>\n",
       "   </g>\n",
       "   <g id=\"patch_11\">\n",
       "    <path clip-path=\"url(#p01f0f20cd2)\" d=\"M 286.091903 224.64 \n",
       "L 316.528267 224.64 \n",
       "L 316.528267 210.311725 \n",
       "L 286.091903 210.311725 \n",
       "z\n",
       "\" style=\"fill:#1f77b4;\"/>\n",
       "   </g>\n",
       "   <g id=\"patch_12\">\n",
       "    <path clip-path=\"url(#p01f0f20cd2)\" d=\"M 316.528267 224.64 \n",
       "L 346.964631 224.64 \n",
       "L 346.964631 221.268641 \n",
       "L 316.528267 221.268641 \n",
       "z\n",
       "\" style=\"fill:#1f77b4;\"/>\n",
       "   </g>\n",
       "   <g id=\"LineCollection_1\">\n",
       "    <path clip-path=\"url(#p01f0f20cd2)\" d=\"M 177.530968 224.64 \n",
       "L 177.530968 17.554286 \n",
       "\" style=\"fill:none;stroke:#000000;stroke-width:1.5;\"/>\n",
       "   </g>\n",
       "   <g id=\"patch_13\">\n",
       "    <path d=\"M 27.382812 224.64 \n",
       "L 27.382812 7.2 \n",
       "\" style=\"fill:none;stroke:#262626;stroke-linecap:square;stroke-linejoin:miter;stroke-width:1.25;\"/>\n",
       "   </g>\n",
       "   <g id=\"patch_14\">\n",
       "    <path d=\"M 362.182813 224.64 \n",
       "L 362.182813 7.2 \n",
       "\" style=\"fill:none;stroke:#262626;stroke-linecap:square;stroke-linejoin:miter;stroke-width:1.25;\"/>\n",
       "   </g>\n",
       "   <g id=\"patch_15\">\n",
       "    <path d=\"M 27.382812 224.64 \n",
       "L 362.182813 224.64 \n",
       "\" style=\"fill:none;stroke:#262626;stroke-linecap:square;stroke-linejoin:miter;stroke-width:1.25;\"/>\n",
       "   </g>\n",
       "   <g id=\"patch_16\">\n",
       "    <path d=\"M 27.382812 7.2 \n",
       "L 362.182813 7.2 \n",
       "\" style=\"fill:none;stroke:#262626;stroke-linecap:square;stroke-linejoin:miter;stroke-width:1.25;\"/>\n",
       "   </g>\n",
       "  </g>\n",
       " </g>\n",
       " <defs>\n",
       "  <clipPath id=\"p01f0f20cd2\">\n",
       "   <rect height=\"217.44\" width=\"334.8\" x=\"27.382812\" y=\"7.2\"/>\n",
       "  </clipPath>\n",
       " </defs>\n",
       "</svg>\n"
      ],
      "text/plain": [
       "<Figure size 432x288 with 1 Axes>"
      ]
     },
     "metadata": {},
     "output_type": "display_data"
    },
    {
     "data": {
      "application/javascript": [
       "\n",
       "            setTimeout(function() {\n",
       "                var nbb_cell_id = 84;\n",
       "                var nbb_unformatted_code = \"plt.hist(spl)\\nplt.vlines(tmrca, *plt.ylim(), color=\\\"black\\\")\\ntmrca, np.mean(spl)\";\n",
       "                var nbb_formatted_code = \"plt.hist(spl)\\nplt.vlines(tmrca, *plt.ylim(), color=\\\"black\\\")\\ntmrca, np.mean(spl)\";\n",
       "                var nbb_cells = Jupyter.notebook.get_cells();\n",
       "                for (var i = 0; i < nbb_cells.length; ++i) {\n",
       "                    if (nbb_cells[i].input_prompt_number == nbb_cell_id) {\n",
       "                        if (nbb_cells[i].get_text() == nbb_unformatted_code) {\n",
       "                             nbb_cells[i].set_text(nbb_formatted_code);\n",
       "                        }\n",
       "                        break;\n",
       "                    }\n",
       "                }\n",
       "            }, 500);\n",
       "            "
      ],
      "text/plain": [
       "<IPython.core.display.Javascript object>"
      ]
     },
     "metadata": {},
     "output_type": "display_data"
    }
   ],
   "source": [
    "plt.hist(spl)\n",
    "plt.vlines(tmrca, *plt.ylim(), color=\"black\")\n",
    "tmrca, np.mean(spl)"
   ]
  },
  {
   "cell_type": "markdown",
   "metadata": {},
   "source": [
    "## Approximate Bayesian computation\n",
    "A more general formulation of the above procedure is:\n",
    "\n",
    "- Let $S(\\cdot):\\mathbb{R}^n \\to \\mathbb{R}^d$ be a function which maps the $n$-dimensional data vector to a $d$-dimension summary statistic;\n",
    "- Let $K_h(\\mathbf{x}):\\mathbb{R}^d \\to \\mathbb{R}$ be a kernel function, with bandwidth $h$, such that $\\int K_h(\\mathbf{x})\\,d\\mathbf{x}=1$.\n",
    "\n",
    "Let the observed data be $\\mathbf{y}_\\text{obs}$ and $\\mathbf{s}_\\text{obs}=S(\\mathbf{y}_\\text{obs})$."
   ]
  },
  {
   "cell_type": "markdown",
   "metadata": {},
   "source": [
    "Define\n",
    "\n",
    "\\begin{gather}p(\\theta \\mid \\mathbf{y}_\\text{obs}) = \\int \\pi(\\mathbf{y} \\mid \\theta) K_h(S(\\mathbf{y}) - \\mathbf{s}_\\text{obs})\\,d\\mathbf{y}\\\\\n",
    "\\pi_{\\text{ABC}}(\\theta \\mid \\mathbf{s}_\\text{obs}) \\propto \\pi(\\theta) p(\\theta \\mid \\mathbf{s}_\\text{obs})\n",
    "\\end{gather}"
   ]
  },
  {
   "cell_type": "markdown",
   "metadata": {},
   "source": [
    "Two important facts:\n",
    "- To get an unbiased estimate of $p(\\theta \\mid \\mathbf{y}_\\text{obs})$, we only need to be able to sample from $\\pi(\\mathbf{y} \\mid \\theta)$. In many scientific settings, this is easy.\n",
    "- When $h\\to0$, $\\pi_{\\text{ABC}}(\\theta \\mid \\mathbf{s}_\\text{obs}) \\to \\pi(\\theta \\mid \\mathbf{s}_\\text{obs}).$"
   ]
  },
  {
   "cell_type": "markdown",
   "metadata": {},
   "source": [
    "There are many interesting questions posed by this general formulation:\n",
    "- How to select the kernel function $K$ and/or bandwidth $h$?\n",
    "- Most importantly, what is a good choice for $S(\\cdot)$? This is by no means obvious.\n",
    "\n",
    "See the paper by Fearnhead and Prangle (2012) for an in-depth discussion of these issues."
   ]
  },
  {
   "cell_type": "markdown",
   "metadata": {},
   "source": [
    "### MCMC ABC\n",
    "One difficulty with \"naive\" ABC is that it can have a low acceptance rate. To improve the rate, one proposal is to use MCMC in combination with ABC."
   ]
  },
  {
   "cell_type": "markdown",
   "metadata": {},
   "source": [
    "Recall the naive Metropolis-Hastings algorithm:\n",
    "1. Given an existing parameter $\\theta$, sample $\\theta' \\sim q(\\theta\\to\\theta')$, where $q(\\cdot)$ is a proposal distribution.\n",
    "2. Let $$h = 1\\wedge \\frac{\\mathbb{P}(D\\mid \\theta')\\pi(\\theta')q(\\theta'\\to\\theta)}{\\mathbb{P}(D\\mid \\theta)\\pi(\\theta)q(\\theta\\to\\theta')}.$$\n",
    "3. With probability $h$, set $\\theta=\\theta'$; else let it alone.\n",
    "4. Go to 1."
   ]
  },
  {
   "cell_type": "markdown",
   "metadata": {},
   "source": [
    "Once again, if we are in a setting where computing $\\mathbb{P}(D\\mid \\theta)$ is hard, then this algorithm is unworkable. This motivates the following *likelihood-free* variant of MCMC:"
   ]
  },
  {
   "cell_type": "markdown",
   "metadata": {},
   "source": [
    "1. Given an existing parameter $\\theta$, sample $\\theta' \\sim q(\\theta\\to\\theta')$, where $q(\\cdot)$ is a proposal distribution.\n",
    "2. Generate $D'$ according to $\\theta'$.\n",
    "3. Repeat 2 until $D'=D$.\n",
    "3. Let $$h=1\\wedge \\frac{\\pi(\\theta')q(\\theta'\\to\\theta)}{\\pi(\\theta)q(\\theta\\to\\theta')}.$$\n",
    "4. Accept $\\theta'$ with probability $h$; else leave it alone.\n",
    "5. Go to 1."
   ]
  },
  {
   "cell_type": "markdown",
   "metadata": {},
   "source": [
    "**Theorem**. The stationary distribution of the above procedure is $f(\\theta \\mid D)$.\n",
    "\n",
    "See Marjoram *et al.* (2003) for proof."
   ]
  },
  {
   "cell_type": "markdown",
   "metadata": {},
   "source": [
    "Step 2 may have a low probability of succeeding in practice, in which case we could replace it by:\n",
    "\n",
    "3'. Repeat until $\\rho(D,D')<\\epsilon$.\n",
    "\n",
    "or\n",
    "\n",
    "3''. Repeat until $\\rho(S(D),S(D'))<\\epsilon$.\n",
    "\n",
    "Where $\\rho$ and $S$ are suitable metrics and summary statistics."
   ]
  },
  {
   "cell_type": "markdown",
   "metadata": {},
   "source": [
    "## Example: Y chromosome microsatellites\n",
    "Pritchard et al (1999) analyzed microsatellite data from 445 human Y chromosomes. The data are [still online](http://web.stanford.edu/group/pritchardlab/dataArchive/ydata.html)!"
   ]
  },
  {
   "cell_type": "code",
   "execution_count": 96,
   "metadata": {},
   "outputs": [
    {
     "data": {
      "text/html": [
       "<div>\n",
       "<style scoped>\n",
       "    .dataframe tbody tr th:only-of-type {\n",
       "        vertical-align: middle;\n",
       "    }\n",
       "\n",
       "    .dataframe tbody tr th {\n",
       "        vertical-align: top;\n",
       "    }\n",
       "\n",
       "    .dataframe thead th {\n",
       "        text-align: right;\n",
       "    }\n",
       "</style>\n",
       "<table border=\"1\" class=\"dataframe\">\n",
       "  <thead>\n",
       "    <tr style=\"text-align: right;\">\n",
       "      <th></th>\n",
       "      <th>Sample</th>\n",
       "      <th>DYS19</th>\n",
       "      <th>DYS388</th>\n",
       "      <th>DYS389a</th>\n",
       "      <th>DYS389c</th>\n",
       "      <th>DYS390</th>\n",
       "      <th>DYS391</th>\n",
       "      <th>DYS392</th>\n",
       "      <th>DYS393</th>\n",
       "    </tr>\n",
       "  </thead>\n",
       "  <tbody>\n",
       "    <tr>\n",
       "      <th>0</th>\n",
       "      <td>Australian21</td>\n",
       "      <td>192</td>\n",
       "      <td>128</td>\n",
       "      <td>253</td>\n",
       "      <td>116</td>\n",
       "      <td>216</td>\n",
       "      <td>284</td>\n",
       "      <td>256</td>\n",
       "      <td>124</td>\n",
       "    </tr>\n",
       "    <tr>\n",
       "      <th>1</th>\n",
       "      <td>Australian23</td>\n",
       "      <td>192</td>\n",
       "      <td>134</td>\n",
       "      <td>249</td>\n",
       "      <td>116</td>\n",
       "      <td>212</td>\n",
       "      <td>284</td>\n",
       "      <td>250</td>\n",
       "      <td>124</td>\n",
       "    </tr>\n",
       "    <tr>\n",
       "      <th>2</th>\n",
       "      <td>Australian25</td>\n",
       "      <td>196</td>\n",
       "      <td>131</td>\n",
       "      <td>249</td>\n",
       "      <td>124</td>\n",
       "      <td>220</td>\n",
       "      <td>284</td>\n",
       "      <td>250</td>\n",
       "      <td>120</td>\n",
       "    </tr>\n",
       "    <tr>\n",
       "      <th>3</th>\n",
       "      <td>Australian26</td>\n",
       "      <td>196</td>\n",
       "      <td>131</td>\n",
       "      <td>249</td>\n",
       "      <td>124</td>\n",
       "      <td>220</td>\n",
       "      <td>284</td>\n",
       "      <td>250</td>\n",
       "      <td>120</td>\n",
       "    </tr>\n",
       "    <tr>\n",
       "      <th>4</th>\n",
       "      <td>Australian27</td>\n",
       "      <td>196</td>\n",
       "      <td>131</td>\n",
       "      <td>249</td>\n",
       "      <td>124</td>\n",
       "      <td>220</td>\n",
       "      <td>284</td>\n",
       "      <td>250</td>\n",
       "      <td>120</td>\n",
       "    </tr>\n",
       "    <tr>\n",
       "      <th>...</th>\n",
       "      <td>...</td>\n",
       "      <td>...</td>\n",
       "      <td>...</td>\n",
       "      <td>...</td>\n",
       "      <td>...</td>\n",
       "      <td>...</td>\n",
       "      <td>...</td>\n",
       "      <td>...</td>\n",
       "      <td>...</td>\n",
       "    </tr>\n",
       "    <tr>\n",
       "      <th>440</th>\n",
       "      <td>Zulu47</td>\n",
       "      <td>200</td>\n",
       "      <td>128</td>\n",
       "      <td>253</td>\n",
       "      <td>120</td>\n",
       "      <td>204</td>\n",
       "      <td>284</td>\n",
       "      <td>253</td>\n",
       "      <td>132</td>\n",
       "    </tr>\n",
       "    <tr>\n",
       "      <th>441</th>\n",
       "      <td>Zulu49</td>\n",
       "      <td>200</td>\n",
       "      <td>128</td>\n",
       "      <td>253</td>\n",
       "      <td>120</td>\n",
       "      <td>204</td>\n",
       "      <td>284</td>\n",
       "      <td>250</td>\n",
       "      <td>132</td>\n",
       "    </tr>\n",
       "    <tr>\n",
       "      <th>442</th>\n",
       "      <td>Zulu77</td>\n",
       "      <td>200</td>\n",
       "      <td>128</td>\n",
       "      <td>253</td>\n",
       "      <td>120</td>\n",
       "      <td>204</td>\n",
       "      <td>284</td>\n",
       "      <td>253</td>\n",
       "      <td>132</td>\n",
       "    </tr>\n",
       "    <tr>\n",
       "      <th>443</th>\n",
       "      <td>Zulu80</td>\n",
       "      <td>192</td>\n",
       "      <td>128</td>\n",
       "      <td>257</td>\n",
       "      <td>116</td>\n",
       "      <td>220</td>\n",
       "      <td>284</td>\n",
       "      <td>250</td>\n",
       "      <td>124</td>\n",
       "    </tr>\n",
       "    <tr>\n",
       "      <th>444</th>\n",
       "      <td>Zulu82</td>\n",
       "      <td>192</td>\n",
       "      <td>122</td>\n",
       "      <td>253</td>\n",
       "      <td>124</td>\n",
       "      <td>216</td>\n",
       "      <td>284</td>\n",
       "      <td>250</td>\n",
       "      <td>124</td>\n",
       "    </tr>\n",
       "  </tbody>\n",
       "</table>\n",
       "<p>445 rows × 9 columns</p>\n",
       "</div>"
      ],
      "text/plain": [
       "           Sample  DYS19  DYS388  DYS389a  DYS389c  DYS390  DYS391  DYS392  \\\n",
       "0    Australian21    192     128      253      116     216     284     256   \n",
       "1    Australian23    192     134      249      116     212     284     250   \n",
       "2    Australian25    196     131      249      124     220     284     250   \n",
       "3    Australian26    196     131      249      124     220     284     250   \n",
       "4    Australian27    196     131      249      124     220     284     250   \n",
       "..            ...    ...     ...      ...      ...     ...     ...     ...   \n",
       "440        Zulu47    200     128      253      120     204     284     253   \n",
       "441        Zulu49    200     128      253      120     204     284     250   \n",
       "442        Zulu77    200     128      253      120     204     284     253   \n",
       "443        Zulu80    192     128      257      116     220     284     250   \n",
       "444        Zulu82    192     122      253      124     216     284     250   \n",
       "\n",
       "     DYS393  \n",
       "0       124  \n",
       "1       124  \n",
       "2       120  \n",
       "3       120  \n",
       "4       120  \n",
       "..      ...  \n",
       "440     132  \n",
       "441     132  \n",
       "442     132  \n",
       "443     124  \n",
       "444     124  \n",
       "\n",
       "[445 rows x 9 columns]"
      ]
     },
     "execution_count": 96,
     "metadata": {},
     "output_type": "execute_result"
    },
    {
     "data": {
      "application/javascript": [
       "\n",
       "            setTimeout(function() {\n",
       "                var nbb_cell_id = 96;\n",
       "                var nbb_unformatted_code = \"import pandas as pd\\n\\nms = pd.read_csv(\\\"microsatellites.txt\\\"); ms\";\n",
       "                var nbb_formatted_code = \"import pandas as pd\\n\\nms = pd.read_csv(\\\"microsatellites.txt\\\")\\nms\";\n",
       "                var nbb_cells = Jupyter.notebook.get_cells();\n",
       "                for (var i = 0; i < nbb_cells.length; ++i) {\n",
       "                    if (nbb_cells[i].input_prompt_number == nbb_cell_id) {\n",
       "                        if (nbb_cells[i].get_text() == nbb_unformatted_code) {\n",
       "                             nbb_cells[i].set_text(nbb_formatted_code);\n",
       "                        }\n",
       "                        break;\n",
       "                    }\n",
       "                }\n",
       "            }, 500);\n",
       "            "
      ],
      "text/plain": [
       "<IPython.core.display.Javascript object>"
      ]
     },
     "metadata": {},
     "output_type": "display_data"
    }
   ],
   "source": [
    "import pandas as pd\n",
    "\n",
    "ms = pd.read_csv(\"microsatellites.txt\")\n",
    "ms"
   ]
  },
  {
   "cell_type": "markdown",
   "metadata": {},
   "source": [
    "A microsatellite is a small bit of repetitive DNA whose copy number increases or decreases with each generation. Each entry of the above table represents the length of the microsatellite marker. "
   ]
  },
  {
   "cell_type": "markdown",
   "metadata": {},
   "source": [
    "Note that the individuals columns have different *repeat lengths*. For example, the first column ([DYS19](https://strbase.nist.gov/str_y19.htm) has repeat length four:"
   ]
  },
  {
   "cell_type": "code",
   "execution_count": 103,
   "metadata": {},
   "outputs": [
    {
     "data": {
      "text/plain": [
       "0"
      ]
     },
     "execution_count": 103,
     "metadata": {},
     "output_type": "execute_result"
    },
    {
     "data": {
      "application/javascript": [
       "\n",
       "            setTimeout(function() {\n",
       "                var nbb_cell_id = 103;\n",
       "                var nbb_unformatted_code = \"(ms.DYS19 % 4).max()\";\n",
       "                var nbb_formatted_code = \"(ms.DYS19 % 4).max()\";\n",
       "                var nbb_cells = Jupyter.notebook.get_cells();\n",
       "                for (var i = 0; i < nbb_cells.length; ++i) {\n",
       "                    if (nbb_cells[i].input_prompt_number == nbb_cell_id) {\n",
       "                        if (nbb_cells[i].get_text() == nbb_unformatted_code) {\n",
       "                             nbb_cells[i].set_text(nbb_formatted_code);\n",
       "                        }\n",
       "                        break;\n",
       "                    }\n",
       "                }\n",
       "            }, 500);\n",
       "            "
      ],
      "text/plain": [
       "<IPython.core.display.Javascript object>"
      ]
     },
     "metadata": {},
     "output_type": "display_data"
    }
   ],
   "source": [
    "(ms.DYS19 % 4).max()"
   ]
  },
  {
   "cell_type": "markdown",
   "metadata": {},
   "source": [
    "### Model of microsatellite evolution\n",
    "Microsatellites evolve differently than the biallelic, infinite sites model that we have been assuming so far. We will assume a *one-step* mutation model, which says that if the repeat count is $p$, then at the next generation, the repeat count $p'$ is \n",
    "\n",
    "$$p' = \\begin{cases}p+1,&\\text{w.p. }\\mu/2\\\\\n",
    "p-1,&\\text{w.p. }\\mu/2\\\\\n",
    "p,&\\text{otherwise}.\n",
    "\\end{cases}\n",
    "$$"
   ]
  },
  {
   "cell_type": "markdown",
   "metadata": {},
   "source": [
    "### Estimating $\\theta$\n",
    "The total number of unique haplotypes in this sample is:"
   ]
  },
  {
   "cell_type": "code",
   "execution_count": 134,
   "metadata": {},
   "outputs": [
    {
     "data": {
      "text/plain": [
       "(316, 9)"
      ]
     },
     "execution_count": 134,
     "metadata": {},
     "output_type": "execute_result"
    },
    {
     "data": {
      "application/javascript": [
       "\n",
       "            setTimeout(function() {\n",
       "                var nbb_cell_id = 134;\n",
       "                var nbb_unformatted_code = \"ms.drop_duplicates(subset=ms.columns[1:]).shape\";\n",
       "                var nbb_formatted_code = \"ms.drop_duplicates(subset=ms.columns[1:]).shape\";\n",
       "                var nbb_cells = Jupyter.notebook.get_cells();\n",
       "                for (var i = 0; i < nbb_cells.length; ++i) {\n",
       "                    if (nbb_cells[i].input_prompt_number == nbb_cell_id) {\n",
       "                        if (nbb_cells[i].get_text() == nbb_unformatted_code) {\n",
       "                             nbb_cells[i].set_text(nbb_formatted_code);\n",
       "                        }\n",
       "                        break;\n",
       "                    }\n",
       "                }\n",
       "            }, 500);\n",
       "            "
      ],
      "text/plain": [
       "<IPython.core.display.Javascript object>"
      ]
     },
     "metadata": {},
     "output_type": "display_data"
    }
   ],
   "source": [
    "ms.drop_duplicates(subset=ms.columns[1:]).shape"
   ]
  },
  {
   "cell_type": "markdown",
   "metadata": {},
   "source": [
    "An estimate of the population-scaled mutation rate is therefore:"
   ]
  },
  {
   "cell_type": "code",
   "execution_count": 137,
   "metadata": {},
   "outputs": [
    {
     "data": {
      "text/plain": [
       "51.81963770499467"
      ]
     },
     "execution_count": 137,
     "metadata": {},
     "output_type": "execute_result"
    },
    {
     "data": {
      "application/javascript": [
       "\n",
       "            setTimeout(function() {\n",
       "                var nbb_cell_id = 137;\n",
       "                var nbb_unformatted_code = \"316 / np.log(445)\";\n",
       "                var nbb_formatted_code = \"316 / np.log(445)\";\n",
       "                var nbb_cells = Jupyter.notebook.get_cells();\n",
       "                for (var i = 0; i < nbb_cells.length; ++i) {\n",
       "                    if (nbb_cells[i].input_prompt_number == nbb_cell_id) {\n",
       "                        if (nbb_cells[i].get_text() == nbb_unformatted_code) {\n",
       "                             nbb_cells[i].set_text(nbb_formatted_code);\n",
       "                        }\n",
       "                        break;\n",
       "                    }\n",
       "                }\n",
       "            }, 500);\n",
       "            "
      ],
      "text/plain": [
       "<IPython.core.display.Javascript object>"
      ]
     },
     "metadata": {},
     "output_type": "display_data"
    }
   ],
   "source": [
    "316 / np.log(445)"
   ]
  },
  {
   "cell_type": "markdown",
   "metadata": {},
   "source": [
    "Assuming an effective population size of $N_e=10^4$, we infer that the biological rate of mutation for indels is at least"
   ]
  },
  {
   "cell_type": "code",
   "execution_count": 140,
   "metadata": {},
   "outputs": [
    {
     "data": {
      "text/plain": [
       "0.0012955"
      ]
     },
     "execution_count": 140,
     "metadata": {},
     "output_type": "execute_result"
    },
    {
     "data": {
      "application/javascript": [
       "\n",
       "            setTimeout(function() {\n",
       "                var nbb_cell_id = 140;\n",
       "                var nbb_unformatted_code = \"51.82 / 1e4 / 4\";\n",
       "                var nbb_formatted_code = \"51.82 / 1e4 / 4\";\n",
       "                var nbb_cells = Jupyter.notebook.get_cells();\n",
       "                for (var i = 0; i < nbb_cells.length; ++i) {\n",
       "                    if (nbb_cells[i].input_prompt_number == nbb_cell_id) {\n",
       "                        if (nbb_cells[i].get_text() == nbb_unformatted_code) {\n",
       "                             nbb_cells[i].set_text(nbb_formatted_code);\n",
       "                        }\n",
       "                        break;\n",
       "                    }\n",
       "                }\n",
       "            }, 500);\n",
       "            "
      ],
      "text/plain": [
       "<IPython.core.display.Javascript object>"
      ]
     },
     "metadata": {},
     "output_type": "display_data"
    }
   ],
   "source": [
    "51.82 / 1e4 / 4"
   ]
  },
  {
   "cell_type": "markdown",
   "metadata": {},
   "source": [
    "Which is about 5 orders of magnitude higher than for SNPs. (Note that this is a lower bound, because the infinitely-many alleles model does not apply here.) Thus, microsatellites are useful for studying very recent evolution."
   ]
  },
  {
   "cell_type": "markdown",
   "metadata": {},
   "source": [
    "## Simulating microsatellite evolution\n",
    "To infer evolutionary parameters from microsatellites using ABC, we need to be able to simulate their evolution. We will do this by drawing coalescent trees, and then conditional on the tree, running a stochastic process along its branches. The process runs the mutation model that we described above."
   ]
  },
  {
   "cell_type": "code",
   "execution_count": 142,
   "metadata": {},
   "outputs": [
    {
     "data": {
      "image/svg+xml": [
       "<svg xmlns=\"http://www.w3.org/2000/svg\" xmlns:ev=\"http://www.w3.org/2001/xml-events\" xmlns:xlink=\"http://www.w3.org/1999/xlink\" baseProfile=\"full\" height=\"200\" version=\"1.1\" width=\"200\"><defs><style type=\"text/css\"><![CDATA[.axis {font-weight: bold}.tree, .axis {font-size: 14px; text-anchor:middle}.edge {stroke: black; fill: none}.node > .sym {fill: black; stroke: none}.tree text {dominant-baseline: middle}.tree .lab.lft {text-anchor: end}.tree .lab.rgt {text-anchor: start}.mut {fill: red; font-style: italic}]]></style></defs><g class=\"tree t0\"><g class=\"node n18 p0 root\" transform=\"translate(101.023 30.0)\"><g class=\"a18 node n15 p0\" transform=\"translate(-39.8864 58.9737)\"><g class=\"a15 leaf node n3 p0 sample\" transform=\"translate(14.3182 81.0263)\"><path class=\"edge\" d=\"M 0 0 V -81.0263 H -14.3182\"/><circle class=\"sym\" cx=\"0\" cy=\"0\" r=\"3\"/><text class=\"lab\" transform=\"translate(0 12)\">3</text></g><g class=\"a15 node n14 p0\" transform=\"translate(-14.3182 21.1294)\"><g class=\"a14 leaf node n6 p0 sample\" transform=\"translate(12.2727 59.8969)\"><path class=\"edge\" d=\"M 0 0 V -59.8969 H -12.2727\"/><circle class=\"sym\" cx=\"0\" cy=\"0\" r=\"3\"/><text class=\"lab\" transform=\"translate(0 12)\">6</text></g><g class=\"a14 node n13 p0\" transform=\"translate(-12.2727 42.0284)\"><g class=\"a13 leaf node n0 p0 sample\" transform=\"translate(-8.18182 17.8685)\"><path class=\"edge\" d=\"M 0 0 V -17.8685 H 8.18182\"/><circle class=\"sym\" cx=\"0\" cy=\"0\" r=\"3\"/><text class=\"lab\" transform=\"translate(0 12)\">0</text></g><g class=\"a13 leaf node n9 p0 sample\" transform=\"translate(8.18182 17.8685)\"><path class=\"edge\" d=\"M 0 0 V -17.8685 H -8.18182\"/><circle class=\"sym\" cx=\"0\" cy=\"0\" r=\"3\"/><text class=\"lab\" transform=\"translate(0 12)\">9</text></g><path class=\"edge\" d=\"M 0 0 V -42.0284 H 12.2727\"/><circle class=\"sym\" cx=\"0\" cy=\"0\" r=\"3\"/><text class=\"lab lft\" transform=\"translate(-3 -6)\">13</text></g><path class=\"edge\" d=\"M 0 0 V -21.1294 H 14.3182\"/><circle class=\"sym\" cx=\"0\" cy=\"0\" r=\"3\"/><text class=\"lab lft\" transform=\"translate(-3 -6)\">14</text></g><path class=\"edge\" d=\"M 0 0 V -58.9737 H 39.8864\"/><circle class=\"sym\" cx=\"0\" cy=\"0\" r=\"3\"/><text class=\"lab lft\" transform=\"translate(-3 -6)\">15</text></g><g class=\"a18 node n17 p0\" transform=\"translate(39.8864 2.52677)\"><g class=\"a17 node n11 p0\" transform=\"translate(24.5455 122.643)\"><g class=\"a11 leaf node n7 p0 sample\" transform=\"translate(-8.18182 14.8299)\"><path class=\"edge\" d=\"M 0 0 V -14.8299 H 8.18182\"/><circle class=\"sym\" cx=\"0\" cy=\"0\" r=\"3\"/><text class=\"lab\" transform=\"translate(0 12)\">7</text></g><g class=\"a11 leaf node n8 p0 sample\" transform=\"translate(8.18182 14.8299)\"><path class=\"edge\" d=\"M 0 0 V -14.8299 H -8.18182\"/><circle class=\"sym\" cx=\"0\" cy=\"0\" r=\"3\"/><text class=\"lab\" transform=\"translate(0 12)\">8</text></g><path class=\"edge\" d=\"M 0 0 V -122.643 H -24.5455\"/><circle class=\"sym\" cx=\"0\" cy=\"0\" r=\"3\"/><text class=\"lab rgt\" transform=\"translate(3 -6)\">11</text></g><g class=\"a17 node n16 p0\" transform=\"translate(-24.5455 46.7759)\"><g class=\"a16 node n10 p0\" transform=\"translate(16.3636 76.8607)\"><g class=\"a10 leaf node n2 p0 sample\" transform=\"translate(-8.18182 13.8366)\"><path class=\"edge\" d=\"M 0 0 V -13.8366 H 8.18182\"/><circle class=\"sym\" cx=\"0\" cy=\"0\" r=\"3\"/><text class=\"lab\" transform=\"translate(0 12)\">2</text></g><g class=\"a10 leaf node n5 p0 sample\" transform=\"translate(8.18182 13.8366)\"><path class=\"edge\" d=\"M 0 0 V -13.8366 H -8.18182\"/><circle class=\"sym\" cx=\"0\" cy=\"0\" r=\"3\"/><text class=\"lab\" transform=\"translate(0 12)\">5</text></g><path class=\"edge\" d=\"M 0 0 V -76.8607 H -16.3636\"/><circle class=\"sym\" cx=\"0\" cy=\"0\" r=\"3\"/><text class=\"lab rgt\" transform=\"translate(3 -6)\">10</text></g><g class=\"a16 node n12 p0\" transform=\"translate(-16.3636 74.6101)\"><g class=\"a12 leaf node n1 p0 sample\" transform=\"translate(-8.18182 16.0873)\"><path class=\"edge\" d=\"M 0 0 V -16.0873 H 8.18182\"/><circle class=\"sym\" cx=\"0\" cy=\"0\" r=\"3\"/><text class=\"lab\" transform=\"translate(0 12)\">1</text></g><g class=\"a12 leaf node n4 p0 sample\" transform=\"translate(8.18182 16.0873)\"><path class=\"edge\" d=\"M 0 0 V -16.0873 H -8.18182\"/><circle class=\"sym\" cx=\"0\" cy=\"0\" r=\"3\"/><text class=\"lab\" transform=\"translate(0 12)\">4</text></g><path class=\"edge\" d=\"M 0 0 V -74.6101 H 16.3636\"/><circle class=\"sym\" cx=\"0\" cy=\"0\" r=\"3\"/><text class=\"lab lft\" transform=\"translate(-3 -6)\">12</text></g><path class=\"edge\" d=\"M 0 0 V -46.7759 H 24.5455\"/><circle class=\"sym\" cx=\"0\" cy=\"0\" r=\"3\"/><text class=\"lab lft\" transform=\"translate(-3 -6)\">16</text></g><path class=\"edge\" d=\"M 0 0 V -2.52677 H -39.8864\"/><circle class=\"sym\" cx=\"0\" cy=\"0\" r=\"3\"/><text class=\"lab rgt\" transform=\"translate(3 -6)\">17</text></g><circle class=\"sym\" cx=\"0\" cy=\"0\" r=\"3\"/><text class=\"lab\" transform=\"translate(0 -10)\">18</text></g></g></svg>"
      ],
      "text/plain": [
       "<IPython.core.display.SVG object>"
      ]
     },
     "execution_count": 142,
     "metadata": {},
     "output_type": "execute_result"
    },
    {
     "data": {
      "application/javascript": [
       "\n",
       "            setTimeout(function() {\n",
       "                var nbb_cell_id = 142;\n",
       "                var nbb_unformatted_code = \"tree = msp.simulate(sample_size=10, Ne=1e4).first()\\nSVG(tree.draw())\";\n",
       "                var nbb_formatted_code = \"tree = msp.simulate(sample_size=10, Ne=1e4).first()\\nSVG(tree.draw())\";\n",
       "                var nbb_cells = Jupyter.notebook.get_cells();\n",
       "                for (var i = 0; i < nbb_cells.length; ++i) {\n",
       "                    if (nbb_cells[i].input_prompt_number == nbb_cell_id) {\n",
       "                        if (nbb_cells[i].get_text() == nbb_unformatted_code) {\n",
       "                             nbb_cells[i].set_text(nbb_formatted_code);\n",
       "                        }\n",
       "                        break;\n",
       "                    }\n",
       "                }\n",
       "            }, 500);\n",
       "            "
      ],
      "text/plain": [
       "<IPython.core.display.Javascript object>"
      ]
     },
     "metadata": {},
     "output_type": "display_data"
    }
   ],
   "source": [
    "tree = msp.simulate(sample_size=10, Ne=1e4).first()\n",
    "SVG(tree.draw())"
   ]
  },
  {
   "cell_type": "code",
   "execution_count": 151,
   "metadata": {},
   "outputs": [
    {
     "name": "stdout",
     "output_type": "stream",
     "text": [
      "removed 18, added (15, 17), 20578.652330688696 generations elapse\n",
      "removed 17, added (11, 16), 13576.673688817427 generations elapse\n",
      "removed 15, added (3, 14), 8966.09372870404 generations elapse\n",
      "removed 14, added (6, 13), 2674.768739926026 generations elapse\n",
      "removed 16, added (10, 12), 2408.1390921731654 generations elapse\n",
      "removed 13, added (0, 9), 0.0 generations elapse\n",
      "removed 11, added (7, 8), 0.0 generations elapse\n",
      "removed 10, added (2, 5), 0.0 generations elapse\n",
      "removed 12, added (1, 4), 0.0 generations elapse\n"
     ]
    },
    {
     "data": {
      "text/plain": [
       "[3, 6, 0, 9, 7, 8, 2, 5, 1, 4]"
      ]
     },
     "execution_count": 151,
     "metadata": {},
     "output_type": "execute_result"
    },
    {
     "data": {
      "application/javascript": [
       "\n",
       "            setTimeout(function() {\n",
       "                var nbb_cell_id = 151;\n",
       "                var nbb_unformatted_code = \"def sim_along_tree(tree, ancestral_alleles):\\n    haps = [ancestral_alleles]\\n    nodes = [tree.root]\\n    while True:\\n        try:\\n            t, c = max([(tree.get_time(c), c) for n in nodes for c in tree.children(n)])\\n        except ValueError:\\n            # no more nodes have children => we are at the end\\n            break\\n        p = tree.parent(c)\\n        ch = tree.get_children(p)\\n        print(f\\\"removed {p}, added {ch}, {t} generations elapse\\\")\\n        nodes.remove(p)\\n        nodes += ch\\n    return nodes\\n\\n\\nsim_along_tree(tree, [0])\";\n",
       "                var nbb_formatted_code = \"def sim_along_tree(tree, ancestral_alleles):\\n    haps = [ancestral_alleles]\\n    nodes = [tree.root]\\n    while True:\\n        try:\\n            t, c = max([(tree.get_time(c), c) for n in nodes for c in tree.children(n)])\\n        except ValueError:\\n            # no more nodes have children => we are at the end\\n            break\\n        p = tree.parent(c)\\n        ch = tree.get_children(p)\\n        print(f\\\"removed {p}, added {ch}, {t} generations elapse\\\")\\n        nodes.remove(p)\\n        nodes += ch\\n    return nodes\\n\\n\\nsim_along_tree(tree, [0])\";\n",
       "                var nbb_cells = Jupyter.notebook.get_cells();\n",
       "                for (var i = 0; i < nbb_cells.length; ++i) {\n",
       "                    if (nbb_cells[i].input_prompt_number == nbb_cell_id) {\n",
       "                        if (nbb_cells[i].get_text() == nbb_unformatted_code) {\n",
       "                             nbb_cells[i].set_text(nbb_formatted_code);\n",
       "                        }\n",
       "                        break;\n",
       "                    }\n",
       "                }\n",
       "            }, 500);\n",
       "            "
      ],
      "text/plain": [
       "<IPython.core.display.Javascript object>"
      ]
     },
     "metadata": {},
     "output_type": "display_data"
    }
   ],
   "source": []
  },
  {
   "cell_type": "markdown",
   "metadata": {},
   "source": [
    "## Example: model of a pandemic\n",
    "We will use ABC to study the [following model](https://doi.org/10.1093/sysbio/syw077) of infectious disease transmission:\n",
    "![transmission tree](https://oup.silverchair-cdn.com/oup/backfile/Content_public/Journal/sysbio/66/1/10.1093_sysbio_syw077/13/m_syw077f2.png?Expires=1606139364&Signature=z4kxa6WjnVsyjdlz8~GbE-7Akwj2DREW6CUEMqpYYb2pLZBu8RByPh-9hiuIch8dh5APMv7igD4I5t-HLTB-7A9XC9yrp788BkidLoOnHfHTWP0APQgrA2HelKd~CEnLfARGWZXG8tF2hDgpnLaci5Zb1Pam7lNN-7OEDzgOrxTqx0yKcEEd5Ah2J0z8eGwt-oQ1r6FL9RXTTG5R6kf2I5JA8OYHCpZAOW17oqG5MKMn6Mbsy~yGxmGxZgEr~j6pOud84O94MR9zNDX5IDSVbh04NBHL0ocgXV7iK0uZYSNO1zt9AqQfq6fcUKUIx-~pu2WYzdtHXMXD3pqECI2KFw__&Key-Pair-Id=APKAIE5G5CRDK6RD3PGA)"
   ]
  },
  {
   "cell_type": "markdown",
   "metadata": {},
   "source": [
    "We can equivalently represent this using a transmission tree:\n",
    "![transmission tree](https://oup.silverchair-cdn.com/oup/backfile/Content_public/Journal/sysbio/66/1/10.1093_sysbio_syw077/13/m_syw077f3.png?Expires=1606139364&Signature=LA7uKWX5a8qLSkHdEs5tPMMnxEZMCHUHdPEqrihHvGbn8P0NNPdfTc3qCA-UlbWedrg7wbkxpACxZmNg~cnmiOoL8YXRJqN8NEKhr9AVOFoWHAXWjkRDTsv9NsqqlgjEc1gbFcMy5ozSVHhIa-2lzKXFxZ7h5fgJIOyioQ1rwDENwYe4UuwQJG5A8TKuBxJHO5rJpudler07gJbMcODNQr-luFLGDfnsnX3KemOb2ndXFTjF8lcKxulT-qGAdq5QddTgc2bFRmqjZbnPnSIpKnuVIql3jP~9RBft5svAXbDWAIOTQEGOKM2qRLDUwvkiJBaoLjJ9qbp3KuMZlPHCdQ__&Key-Pair-Id=APKAIE5G5CRDK6RD3PGA)"
   ]
  },
  {
   "cell_type": "markdown",
   "metadata": {},
   "source": [
    "The parameters of this process are $\\theta=(\\alpha,\\delta,\\tau)$ which represent the rates of"
   ]
  }
 ],
 "metadata": {
  "kernelspec": {
   "display_name": "Python 3",
   "language": "python",
   "name": "python3"
  },
  "language_info": {
   "codemirror_mode": {
    "name": "ipython",
    "version": 3
   },
   "file_extension": ".py",
   "mimetype": "text/x-python",
   "name": "python",
   "nbconvert_exporter": "python",
   "pygments_lexer": "ipython3",
   "version": "3.8.5"
  }
 },
 "nbformat": 4,
 "nbformat_minor": 4
}
