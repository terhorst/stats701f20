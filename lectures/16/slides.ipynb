{
 "cells": [
  {
   "cell_type": "code",
   "execution_count": 21,
   "metadata": {
    "slideshow": {
     "slide_type": "notes"
    }
   },
   "outputs": [
    {
     "name": "stdout",
     "output_type": "stream",
     "text": [
      "The nb_black extension is already loaded. To reload it, use:\n",
      "  %reload_ext nb_black\n"
     ]
    },
    {
     "data": {
      "application/javascript": [
       "\n",
       "            setTimeout(function() {\n",
       "                var nbb_cell_id = 21;\n",
       "                var nbb_unformatted_code = \"%run -i ../init.py\\nimport msprime as msp\";\n",
       "                var nbb_formatted_code = \"%run -i ../init.py\\nimport msprime as msp\";\n",
       "                var nbb_cells = Jupyter.notebook.get_cells();\n",
       "                for (var i = 0; i < nbb_cells.length; ++i) {\n",
       "                    if (nbb_cells[i].input_prompt_number == nbb_cell_id) {\n",
       "                        if (nbb_cells[i].get_text() == nbb_unformatted_code) {\n",
       "                             nbb_cells[i].set_text(nbb_formatted_code);\n",
       "                        }\n",
       "                        break;\n",
       "                    }\n",
       "                }\n",
       "            }, 500);\n",
       "            "
      ],
      "text/plain": [
       "<IPython.core.display.Javascript object>"
      ]
     },
     "metadata": {},
     "output_type": "display_data"
    }
   ],
   "source": [
    "%run -i ../init.py\n",
    "import msprime as msp"
   ]
  },
  {
   "cell_type": "markdown",
   "metadata": {
    "slideshow": {
     "slide_type": "slide"
    }
   },
   "source": [
    "# STATS 701\n",
    "## Lecture 16: Inferring recent population history using ABC"
   ]
  },
  {
   "cell_type": "markdown",
   "metadata": {
    "slideshow": {
     "slide_type": "slide"
    }
   },
   "source": [
    "## Example: Y chromosome microsatellites\n",
    "A microsatellite is a small bit of repetitive DNA whose copy number increases or decreases with each generation. Each entry of the above table represents the length of the microsatellite marker. \n",
    "Pritchard et al (1999) analyzed microsatellite data from 445 human Y chromosomes. The data are [still online](http://web.stanford.edu/group/pritchardlab/dataArchive/ydata.html)!"
   ]
  },
  {
   "cell_type": "code",
   "execution_count": 1,
   "metadata": {
    "slideshow": {
     "slide_type": "slide"
    }
   },
   "outputs": [
    {
     "data": {
      "text/html": [
       "<div>\n",
       "<style scoped>\n",
       "    .dataframe tbody tr th:only-of-type {\n",
       "        vertical-align: middle;\n",
       "    }\n",
       "\n",
       "    .dataframe tbody tr th {\n",
       "        vertical-align: top;\n",
       "    }\n",
       "\n",
       "    .dataframe thead th {\n",
       "        text-align: right;\n",
       "    }\n",
       "</style>\n",
       "<table border=\"1\" class=\"dataframe\">\n",
       "  <thead>\n",
       "    <tr style=\"text-align: right;\">\n",
       "      <th></th>\n",
       "      <th>Sample</th>\n",
       "      <th>DYS19</th>\n",
       "      <th>DYS388</th>\n",
       "      <th>DYS389a</th>\n",
       "      <th>DYS389c</th>\n",
       "      <th>DYS390</th>\n",
       "      <th>DYS391</th>\n",
       "      <th>DYS392</th>\n",
       "      <th>DYS393</th>\n",
       "    </tr>\n",
       "  </thead>\n",
       "  <tbody>\n",
       "    <tr>\n",
       "      <th>0</th>\n",
       "      <td>Australian21</td>\n",
       "      <td>192</td>\n",
       "      <td>128</td>\n",
       "      <td>253</td>\n",
       "      <td>116</td>\n",
       "      <td>216</td>\n",
       "      <td>284</td>\n",
       "      <td>256</td>\n",
       "      <td>124</td>\n",
       "    </tr>\n",
       "    <tr>\n",
       "      <th>1</th>\n",
       "      <td>Australian23</td>\n",
       "      <td>192</td>\n",
       "      <td>134</td>\n",
       "      <td>249</td>\n",
       "      <td>116</td>\n",
       "      <td>212</td>\n",
       "      <td>284</td>\n",
       "      <td>250</td>\n",
       "      <td>124</td>\n",
       "    </tr>\n",
       "    <tr>\n",
       "      <th>2</th>\n",
       "      <td>Australian25</td>\n",
       "      <td>196</td>\n",
       "      <td>131</td>\n",
       "      <td>249</td>\n",
       "      <td>124</td>\n",
       "      <td>220</td>\n",
       "      <td>284</td>\n",
       "      <td>250</td>\n",
       "      <td>120</td>\n",
       "    </tr>\n",
       "    <tr>\n",
       "      <th>3</th>\n",
       "      <td>Australian26</td>\n",
       "      <td>196</td>\n",
       "      <td>131</td>\n",
       "      <td>249</td>\n",
       "      <td>124</td>\n",
       "      <td>220</td>\n",
       "      <td>284</td>\n",
       "      <td>250</td>\n",
       "      <td>120</td>\n",
       "    </tr>\n",
       "    <tr>\n",
       "      <th>4</th>\n",
       "      <td>Australian27</td>\n",
       "      <td>196</td>\n",
       "      <td>131</td>\n",
       "      <td>249</td>\n",
       "      <td>124</td>\n",
       "      <td>220</td>\n",
       "      <td>284</td>\n",
       "      <td>250</td>\n",
       "      <td>120</td>\n",
       "    </tr>\n",
       "    <tr>\n",
       "      <th>...</th>\n",
       "      <td>...</td>\n",
       "      <td>...</td>\n",
       "      <td>...</td>\n",
       "      <td>...</td>\n",
       "      <td>...</td>\n",
       "      <td>...</td>\n",
       "      <td>...</td>\n",
       "      <td>...</td>\n",
       "      <td>...</td>\n",
       "    </tr>\n",
       "    <tr>\n",
       "      <th>440</th>\n",
       "      <td>Zulu47</td>\n",
       "      <td>200</td>\n",
       "      <td>128</td>\n",
       "      <td>253</td>\n",
       "      <td>120</td>\n",
       "      <td>204</td>\n",
       "      <td>284</td>\n",
       "      <td>253</td>\n",
       "      <td>132</td>\n",
       "    </tr>\n",
       "    <tr>\n",
       "      <th>441</th>\n",
       "      <td>Zulu49</td>\n",
       "      <td>200</td>\n",
       "      <td>128</td>\n",
       "      <td>253</td>\n",
       "      <td>120</td>\n",
       "      <td>204</td>\n",
       "      <td>284</td>\n",
       "      <td>250</td>\n",
       "      <td>132</td>\n",
       "    </tr>\n",
       "    <tr>\n",
       "      <th>442</th>\n",
       "      <td>Zulu77</td>\n",
       "      <td>200</td>\n",
       "      <td>128</td>\n",
       "      <td>253</td>\n",
       "      <td>120</td>\n",
       "      <td>204</td>\n",
       "      <td>284</td>\n",
       "      <td>253</td>\n",
       "      <td>132</td>\n",
       "    </tr>\n",
       "    <tr>\n",
       "      <th>443</th>\n",
       "      <td>Zulu80</td>\n",
       "      <td>192</td>\n",
       "      <td>128</td>\n",
       "      <td>257</td>\n",
       "      <td>116</td>\n",
       "      <td>220</td>\n",
       "      <td>284</td>\n",
       "      <td>250</td>\n",
       "      <td>124</td>\n",
       "    </tr>\n",
       "    <tr>\n",
       "      <th>444</th>\n",
       "      <td>Zulu82</td>\n",
       "      <td>192</td>\n",
       "      <td>122</td>\n",
       "      <td>253</td>\n",
       "      <td>124</td>\n",
       "      <td>216</td>\n",
       "      <td>284</td>\n",
       "      <td>250</td>\n",
       "      <td>124</td>\n",
       "    </tr>\n",
       "  </tbody>\n",
       "</table>\n",
       "<p>445 rows × 9 columns</p>\n",
       "</div>"
      ],
      "text/plain": [
       "           Sample  DYS19  DYS388  DYS389a  DYS389c  DYS390  DYS391  DYS392  \\\n",
       "0    Australian21    192     128      253      116     216     284     256   \n",
       "1    Australian23    192     134      249      116     212     284     250   \n",
       "2    Australian25    196     131      249      124     220     284     250   \n",
       "3    Australian26    196     131      249      124     220     284     250   \n",
       "4    Australian27    196     131      249      124     220     284     250   \n",
       "..            ...    ...     ...      ...      ...     ...     ...     ...   \n",
       "440        Zulu47    200     128      253      120     204     284     253   \n",
       "441        Zulu49    200     128      253      120     204     284     250   \n",
       "442        Zulu77    200     128      253      120     204     284     253   \n",
       "443        Zulu80    192     128      257      116     220     284     250   \n",
       "444        Zulu82    192     122      253      124     216     284     250   \n",
       "\n",
       "     DYS393  \n",
       "0       124  \n",
       "1       124  \n",
       "2       120  \n",
       "3       120  \n",
       "4       120  \n",
       "..      ...  \n",
       "440     132  \n",
       "441     132  \n",
       "442     132  \n",
       "443     124  \n",
       "444     124  \n",
       "\n",
       "[445 rows x 9 columns]"
      ]
     },
     "execution_count": 1,
     "metadata": {},
     "output_type": "execute_result"
    }
   ],
   "source": [
    "import pandas as pd\n",
    "\n",
    "ms = pd.read_csv(\"../15/microsatellites.txt\"); ms"
   ]
  },
  {
   "cell_type": "markdown",
   "metadata": {},
   "source": [
    "## Simulating the evolution of microsatellites\n",
    "\n",
    "As we discussed last lecture, our model of microsatellite evolution is:\n",
    "\n",
    "$$p' = \\begin{cases}p+1,&\\text{w.p. }\\mu/2\\\\\n",
    "p-1,&\\text{w.p. }\\mu/2\\\\\n",
    "p,&\\text{otherwise}.\n",
    "\\end{cases}\n",
    "$$\n",
    "\n",
    "Where $p$ is the number of repeats in the current generation, and $p'$ is the number of repeats in the next generation."
   ]
  },
  {
   "cell_type": "markdown",
   "metadata": {
    "slideshow": {
     "slide_type": "notes"
    }
   },
   "source": [
    "We are going to need to compute the transition density over long stretches of time (1000s of generations). So, well set up a CTMC that models the evolution, and use matrix exponentiation."
   ]
  },
  {
   "cell_type": "markdown",
   "metadata": {
    "slideshow": {
     "slide_type": "slide"
    }
   },
   "source": [
    "The rate matrix $Q$ corresponding to the above Markov chain is \n",
    "\n",
    "$$Q_{ij} = \\begin{cases}\\mu/2, &j=i\\pm 1\\\\\n",
    "\\mu,&i=j\\\\\n",
    "0,&\\text{otherwise.}\n",
    "\\end{cases}\n",
    "$$"
   ]
  },
  {
   "cell_type": "markdown",
   "metadata": {
    "slideshow": {
     "slide_type": "notes"
    }
   },
   "source": [
    "Note that we need to make a special definition in the case where $j=0$. And we also need to close the system by selecting some upper bound on the number of copies. We will simply bound the process below by 0 and above by some $M$."
   ]
  },
  {
   "cell_type": "code",
   "execution_count": 32,
   "metadata": {
    "slideshow": {
     "slide_type": "slide"
    }
   },
   "outputs": [
    {
     "data": {
      "application/javascript": [
       "\n",
       "            setTimeout(function() {\n",
       "                var nbb_cell_id = 32;\n",
       "                var nbb_unformatted_code = \"def rate_matrix(mu, M):\\n    u = np.full(M - 1, mu)\\n    Q = np.diag(u, 1) + np.diag(u, -1)\\n    return Q + np.diag(-Q.sum(1))\";\n",
       "                var nbb_formatted_code = \"def rate_matrix(mu, M):\\n    u = np.full(M - 1, mu)\\n    Q = np.diag(u, 1) + np.diag(u, -1)\\n    return Q + np.diag(-Q.sum(1))\";\n",
       "                var nbb_cells = Jupyter.notebook.get_cells();\n",
       "                for (var i = 0; i < nbb_cells.length; ++i) {\n",
       "                    if (nbb_cells[i].input_prompt_number == nbb_cell_id) {\n",
       "                        if (nbb_cells[i].get_text() == nbb_unformatted_code) {\n",
       "                             nbb_cells[i].set_text(nbb_formatted_code);\n",
       "                        }\n",
       "                        break;\n",
       "                    }\n",
       "                }\n",
       "            }, 500);\n",
       "            "
      ],
      "text/plain": [
       "<IPython.core.display.Javascript object>"
      ]
     },
     "metadata": {},
     "output_type": "display_data"
    }
   ],
   "source": [
    "def rate_matrix(mu, M):\n",
    "    u = np.full(M - 1, mu)\n",
    "    Q = np.diag(u, 1) + np.diag(u, -1)\n",
    "    return Q + np.diag(-Q.sum(1))"
   ]
  },
  {
   "cell_type": "code",
   "execution_count": 610,
   "metadata": {},
   "outputs": [
    {
     "data": {
      "text/plain": [
       "array([[-1,  1,  0,  0,  0],\n",
       "       [ 1, -2,  1,  0,  0],\n",
       "       [ 0,  1, -2,  1,  0],\n",
       "       [ 0,  0,  1, -2,  1],\n",
       "       [ 0,  0,  0,  1, -1]])"
      ]
     },
     "execution_count": 610,
     "metadata": {},
     "output_type": "execute_result"
    },
    {
     "data": {
      "application/javascript": [
       "\n",
       "            setTimeout(function() {\n",
       "                var nbb_cell_id = 610;\n",
       "                var nbb_unformatted_code = \"Q = rate_matrix(1, 5)\\nQ\";\n",
       "                var nbb_formatted_code = \"Q = rate_matrix(1, 5)\\nQ\";\n",
       "                var nbb_cells = Jupyter.notebook.get_cells();\n",
       "                for (var i = 0; i < nbb_cells.length; ++i) {\n",
       "                    if (nbb_cells[i].input_prompt_number == nbb_cell_id) {\n",
       "                        if (nbb_cells[i].get_text() == nbb_unformatted_code) {\n",
       "                             nbb_cells[i].set_text(nbb_formatted_code);\n",
       "                        }\n",
       "                        break;\n",
       "                    }\n",
       "                }\n",
       "            }, 500);\n",
       "            "
      ],
      "text/plain": [
       "<IPython.core.display.Javascript object>"
      ]
     },
     "metadata": {},
     "output_type": "display_data"
    }
   ],
   "source": [
    "Q = rate_matrix(1, 5)\n",
    "Q"
   ]
  },
  {
   "cell_type": "markdown",
   "metadata": {
    "slideshow": {
     "slide_type": "slide"
    }
   },
   "source": [
    "To compute the transition function from this rate matrix, we use matrix exponentiation:"
   ]
  },
  {
   "cell_type": "code",
   "execution_count": 611,
   "metadata": {},
   "outputs": [
    {
     "data": {
      "text/plain": [
       "array([[0.52377811, 0.30851249, 0.12206441, 0.03590355, 0.00974145],\n",
       "       [0.30851249, 0.33733003, 0.22235163, 0.0959023 , 0.03590355],\n",
       "       [0.12206441, 0.22235163, 0.31116793, 0.22235163, 0.12206441],\n",
       "       [0.03590355, 0.0959023 , 0.22235163, 0.33733003, 0.30851249],\n",
       "       [0.00974145, 0.03590355, 0.12206441, 0.30851249, 0.52377811]])"
      ]
     },
     "execution_count": 611,
     "metadata": {},
     "output_type": "execute_result"
    },
    {
     "data": {
      "application/javascript": [
       "\n",
       "            setTimeout(function() {\n",
       "                var nbb_cell_id = 611;\n",
       "                var nbb_unformatted_code = \"from scipy.linalg import expm\\n\\nexpm(1.0 * Q)\";\n",
       "                var nbb_formatted_code = \"from scipy.linalg import expm\\n\\nexpm(1.0 * Q)\";\n",
       "                var nbb_cells = Jupyter.notebook.get_cells();\n",
       "                for (var i = 0; i < nbb_cells.length; ++i) {\n",
       "                    if (nbb_cells[i].input_prompt_number == nbb_cell_id) {\n",
       "                        if (nbb_cells[i].get_text() == nbb_unformatted_code) {\n",
       "                             nbb_cells[i].set_text(nbb_formatted_code);\n",
       "                        }\n",
       "                        break;\n",
       "                    }\n",
       "                }\n",
       "            }, 500);\n",
       "            "
      ],
      "text/plain": [
       "<IPython.core.display.Javascript object>"
      ]
     },
     "metadata": {},
     "output_type": "display_data"
    }
   ],
   "source": [
    "from scipy.linalg import expm\n",
    "\n",
    "expm(1.0 * Q)"
   ]
  },
  {
   "cell_type": "markdown",
   "metadata": {
    "slideshow": {
     "slide_type": "slide"
    }
   },
   "source": [
    "## Simulating the process along a tree\n",
    "Next, we want to run this model along the edges of a tree. Here is such a tree:"
   ]
  },
  {
   "cell_type": "code",
   "execution_count": 612,
   "metadata": {},
   "outputs": [
    {
     "data": {
      "image/svg+xml": [
       "<svg xmlns=\"http://www.w3.org/2000/svg\" xmlns:ev=\"http://www.w3.org/2001/xml-events\" xmlns:xlink=\"http://www.w3.org/1999/xlink\" baseProfile=\"full\" height=\"200\" version=\"1.1\" width=\"200\"><defs><style type=\"text/css\"><![CDATA[.axis {font-weight: bold}.tree, .axis {font-size: 14px; text-anchor:middle}.edge {stroke: black; fill: none}.node > .sym {fill: black; stroke: none}.tree text {dominant-baseline: middle}.tree .lab.lft {text-anchor: end}.tree .lab.rgt {text-anchor: start}.mut {fill: red; font-style: italic}]]></style></defs><g class=\"tree t0\"><g class=\"node n4 p0 root\" transform=\"translate(111.25 30.0)\"><g class=\"a4 leaf node n2 p0 sample\" transform=\"translate(33.75 140.0)\"><path class=\"edge\" d=\"M 0 0 V -140.0 H -33.75\"/><circle class=\"sym\" cx=\"0\" cy=\"0\" r=\"3\"/><text class=\"lab\" transform=\"translate(0 12)\">2</text></g><g class=\"a4 node n3 p0\" transform=\"translate(-33.75 131.245)\"><g class=\"a3 leaf node n0 p0 sample\" transform=\"translate(-22.5 8.75472)\"><path class=\"edge\" d=\"M 0 0 V -8.75472 H 22.5\"/><circle class=\"sym\" cx=\"0\" cy=\"0\" r=\"3\"/><text class=\"lab\" transform=\"translate(0 12)\">0</text></g><g class=\"a3 leaf node n1 p0 sample\" transform=\"translate(22.5 8.75472)\"><path class=\"edge\" d=\"M 0 0 V -8.75472 H -22.5\"/><circle class=\"sym\" cx=\"0\" cy=\"0\" r=\"3\"/><text class=\"lab\" transform=\"translate(0 12)\">1</text></g><path class=\"edge\" d=\"M 0 0 V -131.245 H 33.75\"/><circle class=\"sym\" cx=\"0\" cy=\"0\" r=\"3\"/><text class=\"lab lft\" transform=\"translate(-3 -6)\">3</text></g><circle class=\"sym\" cx=\"0\" cy=\"0\" r=\"3\"/><text class=\"lab\" transform=\"translate(0 -10)\">4</text></g></g></svg>"
      ],
      "text/plain": [
       "<IPython.core.display.SVG object>"
      ]
     },
     "execution_count": 612,
     "metadata": {},
     "output_type": "execute_result"
    },
    {
     "data": {
      "application/javascript": [
       "\n",
       "            setTimeout(function() {\n",
       "                var nbb_cell_id = 612;\n",
       "                var nbb_unformatted_code = \"simple_tree = msp.simulate(sample_size=3, random_seed=1).first()\\nSVG(simple_tree.draw())\";\n",
       "                var nbb_formatted_code = \"simple_tree = msp.simulate(sample_size=3, random_seed=1).first()\\nSVG(simple_tree.draw())\";\n",
       "                var nbb_cells = Jupyter.notebook.get_cells();\n",
       "                for (var i = 0; i < nbb_cells.length; ++i) {\n",
       "                    if (nbb_cells[i].input_prompt_number == nbb_cell_id) {\n",
       "                        if (nbb_cells[i].get_text() == nbb_unformatted_code) {\n",
       "                             nbb_cells[i].set_text(nbb_formatted_code);\n",
       "                        }\n",
       "                        break;\n",
       "                    }\n",
       "                }\n",
       "            }, 500);\n",
       "            "
      ],
      "text/plain": [
       "<IPython.core.display.Javascript object>"
      ]
     },
     "metadata": {},
     "output_type": "display_data"
    }
   ],
   "source": [
    "simple_tree = msp.simulate(sample_size=3, random_seed=1).first()\n",
    "SVG(simple_tree.draw())"
   ]
  },
  {
   "cell_type": "markdown",
   "metadata": {
    "slideshow": {
     "slide_type": "slide"
    }
   },
   "source": [
    "To do this we will perform a *preorder* traversal of the nodes. This returns a list of nodes with the property that the parent of any node appears earlier in the list than the child:"
   ]
  },
  {
   "cell_type": "code",
   "execution_count": 87,
   "metadata": {},
   "outputs": [
    {
     "data": {
      "text/plain": [
       "[4, 2, 3, 0, 1]"
      ]
     },
     "execution_count": 87,
     "metadata": {},
     "output_type": "execute_result"
    },
    {
     "data": {
      "application/javascript": [
       "\n",
       "            setTimeout(function() {\n",
       "                var nbb_cell_id = 87;\n",
       "                var nbb_unformatted_code = \"list(simple_tree.nodes(order=\\\"preorder\\\"))\";\n",
       "                var nbb_formatted_code = \"list(simple_tree.nodes(order=\\\"preorder\\\"))\";\n",
       "                var nbb_cells = Jupyter.notebook.get_cells();\n",
       "                for (var i = 0; i < nbb_cells.length; ++i) {\n",
       "                    if (nbb_cells[i].input_prompt_number == nbb_cell_id) {\n",
       "                        if (nbb_cells[i].get_text() == nbb_unformatted_code) {\n",
       "                             nbb_cells[i].set_text(nbb_formatted_code);\n",
       "                        }\n",
       "                        break;\n",
       "                    }\n",
       "                }\n",
       "            }, 500);\n",
       "            "
      ],
      "text/plain": [
       "<IPython.core.display.Javascript object>"
      ]
     },
     "metadata": {},
     "output_type": "display_data"
    }
   ],
   "source": [
    "list(simple_tree.nodes(order=\"preorder\"))"
   ]
  },
  {
   "cell_type": "markdown",
   "metadata": {
    "slideshow": {
     "slide_type": "slide"
    }
   },
   "source": [
    "Thus, to simulate along the tree, we can iterate over the preorder list from left to right, assigning states as we go."
   ]
  },
  {
   "cell_type": "code",
   "execution_count": 105,
   "metadata": {},
   "outputs": [
    {
     "data": {
      "application/javascript": [
       "\n",
       "            setTimeout(function() {\n",
       "                var nbb_cell_id = 105;\n",
       "                var nbb_unformatted_code = \"# sample from process running along tree\\ndef sim_ms(tree, ancestral_state, theta, M):\\n    Q = rate_matrix(theta, M)\\n\\n    def eQ(t):\\n        return scipy.linalg.expm(t * Q)\\n\\n    nodes = tree.nodes(order=\\\"preorder\\\")\\n    root = next(nodes)  # root occurs first in preorder traversal\\n    states = {root: ancestral_state}\\n    for node in nodes:\\n        # sample from distribution at node given parental state\\n        t = tree.get_branch_length(node)  # branch length from node to parent\\n        p = eQ(t)[states[tree.get_parent(node)]]\\n        states[node] = np.random.choice(M, p=p)\\n    return states\";\n",
       "                var nbb_formatted_code = \"# sample from process running along tree\\ndef sim_ms(tree, ancestral_state, theta, M):\\n    Q = rate_matrix(theta, M)\\n\\n    def eQ(t):\\n        return scipy.linalg.expm(t * Q)\\n\\n    nodes = tree.nodes(order=\\\"preorder\\\")\\n    root = next(nodes)  # root occurs first in preorder traversal\\n    states = {root: ancestral_state}\\n    for node in nodes:\\n        # sample from distribution at node given parental state\\n        t = tree.get_branch_length(node)  # branch length from node to parent\\n        p = eQ(t)[states[tree.get_parent(node)]]\\n        states[node] = np.random.choice(M, p=p)\\n    return states\";\n",
       "                var nbb_cells = Jupyter.notebook.get_cells();\n",
       "                for (var i = 0; i < nbb_cells.length; ++i) {\n",
       "                    if (nbb_cells[i].input_prompt_number == nbb_cell_id) {\n",
       "                        if (nbb_cells[i].get_text() == nbb_unformatted_code) {\n",
       "                             nbb_cells[i].set_text(nbb_formatted_code);\n",
       "                        }\n",
       "                        break;\n",
       "                    }\n",
       "                }\n",
       "            }, 500);\n",
       "            "
      ],
      "text/plain": [
       "<IPython.core.display.Javascript object>"
      ]
     },
     "metadata": {},
     "output_type": "display_data"
    }
   ],
   "source": [
    "# sample from process running along tree\n",
    "def sim_ms(tree, ancestral_state, theta, M):\n",
    "    Q = rate_matrix(theta, M)\n",
    "\n",
    "    def eQ(t):\n",
    "        return scipy.linalg.expm(t * Q)\n",
    "\n",
    "    nodes = tree.nodes(order=\"preorder\")\n",
    "    root = next(nodes)  # root occurs first in preorder traversal\n",
    "    states = {root: ancestral_state}\n",
    "    for node in nodes:\n",
    "        # sample from distribution at node given parental state\n",
    "        t = tree.get_branch_length(node)  # branch length from node to parent\n",
    "        p = eQ(t)[states[tree.get_parent(node)]]\n",
    "        states[node] = np.random.choice(M, p=p)\n",
    "    return states"
   ]
  },
  {
   "cell_type": "code",
   "execution_count": 106,
   "metadata": {
    "slideshow": {
     "slide_type": "slide"
    }
   },
   "outputs": [
    {
     "data": {
      "text/plain": [
       "{4: 100, 2: 122, 3: 88, 0: 87, 1: 73}"
      ]
     },
     "execution_count": 106,
     "metadata": {},
     "output_type": "execute_result"
    },
    {
     "data": {
      "application/javascript": [
       "\n",
       "            setTimeout(function() {\n",
       "                var nbb_cell_id = 106;\n",
       "                var nbb_unformatted_code = \"sim_ms(simple_tree, ancestral_state=100, theta=51, M=200)\";\n",
       "                var nbb_formatted_code = \"sim_ms(simple_tree, ancestral_state=100, theta=51, M=200)\";\n",
       "                var nbb_cells = Jupyter.notebook.get_cells();\n",
       "                for (var i = 0; i < nbb_cells.length; ++i) {\n",
       "                    if (nbb_cells[i].input_prompt_number == nbb_cell_id) {\n",
       "                        if (nbb_cells[i].get_text() == nbb_unformatted_code) {\n",
       "                             nbb_cells[i].set_text(nbb_formatted_code);\n",
       "                        }\n",
       "                        break;\n",
       "                    }\n",
       "                }\n",
       "            }, 500);\n",
       "            "
      ],
      "text/plain": [
       "<IPython.core.display.Javascript object>"
      ]
     },
     "metadata": {},
     "output_type": "display_data"
    }
   ],
   "source": [
    "sim_ms(simple_tree, ancestral_state=100, theta=51, M=200)"
   ]
  },
  {
   "cell_type": "markdown",
   "metadata": {
    "slideshow": {
     "slide_type": "slide"
    }
   },
   "source": [
    "## Optimizations"
   ]
  },
  {
   "cell_type": "markdown",
   "metadata": {},
   "source": [
    "This code is correct, but slow. Let's try it on a realistic-sized example of a tree with 445 leaves:"
   ]
  },
  {
   "cell_type": "code",
   "execution_count": 94,
   "metadata": {
    "slideshow": {
     "slide_type": "slide"
    }
   },
   "outputs": [
    {
     "name": "stdout",
     "output_type": "stream",
     "text": [
      "CPU times: user 1min 11s, sys: 45.9 s, total: 1min 57s\n",
      "Wall time: 8.51 s\n"
     ]
    },
    {
     "data": {
      "application/javascript": [
       "\n",
       "            setTimeout(function() {\n",
       "                var nbb_cell_id = 94;\n",
       "                var nbb_unformatted_code = \"%%time\\nlarge_tree = msp.simulate(sample_size=445).first()\\nstates = sim_ms(large_tree, ancestral_state=100, theta=51, M=200);\";\n",
       "                var nbb_formatted_code = \"%%time\\nlarge_tree = msp.simulate(sample_size=445).first()\\nstates = sim_ms(large_tree, ancestral_state=100, theta=51, M=200);\";\n",
       "                var nbb_cells = Jupyter.notebook.get_cells();\n",
       "                for (var i = 0; i < nbb_cells.length; ++i) {\n",
       "                    if (nbb_cells[i].input_prompt_number == nbb_cell_id) {\n",
       "                        if (nbb_cells[i].get_text() == nbb_unformatted_code) {\n",
       "                             nbb_cells[i].set_text(nbb_formatted_code);\n",
       "                        }\n",
       "                        break;\n",
       "                    }\n",
       "                }\n",
       "            }, 500);\n",
       "            "
      ],
      "text/plain": [
       "<IPython.core.display.Javascript object>"
      ]
     },
     "metadata": {},
     "output_type": "display_data"
    }
   ],
   "source": [
    "%%time\n",
    "large_tree = msp.simulate(sample_size=445).first()\n",
    "states = sim_ms(large_tree, ancestral_state=100, theta=51, M=200);"
   ]
  },
  {
   "cell_type": "markdown",
   "metadata": {
    "slideshow": {
     "slide_type": "slide"
    }
   },
   "source": [
    "How can me make it faster? You might be able to look at the code and know where the bottleneck is. But if not, you can try profiling:"
   ]
  },
  {
   "cell_type": "code",
   "execution_count": 78,
   "metadata": {},
   "outputs": [
    {
     "data": {
      "application/javascript": [
       "\n",
       "            setTimeout(function() {\n",
       "                var nbb_cell_id = 78;\n",
       "                var nbb_unformatted_code = \"# !pip install line_profiler\\n%load_ext line_profiler\\n%lprun -f simulate_microsatellite simulate_microsatellite(tree, ancestral_state=100, theta=51, M=200);\";\n",
       "                var nbb_formatted_code = \"# !pip install line_profiler\\n%load_ext line_profiler\\n%lprun -f simulate_microsatellite simulate_microsatellite(tree, ancestral_state=100, theta=51, M=200);\";\n",
       "                var nbb_cells = Jupyter.notebook.get_cells();\n",
       "                for (var i = 0; i < nbb_cells.length; ++i) {\n",
       "                    if (nbb_cells[i].input_prompt_number == nbb_cell_id) {\n",
       "                        if (nbb_cells[i].get_text() == nbb_unformatted_code) {\n",
       "                             nbb_cells[i].set_text(nbb_formatted_code);\n",
       "                        }\n",
       "                        break;\n",
       "                    }\n",
       "                }\n",
       "            }, 500);\n",
       "            "
      ],
      "text/plain": [
       "<IPython.core.display.Javascript object>"
      ]
     },
     "metadata": {},
     "output_type": "display_data"
    }
   ],
   "source": [
    "# !pip install line_profiler\n",
    "# %load_ext line_profiler\n",
    "%lprun -f sim_ms sim_ms(tree, ancestral_state=100, theta=51, M=200);"
   ]
  },
  {
   "cell_type": "markdown",
   "metadata": {
    "slideshow": {
     "slide_type": "slide"
    }
   },
   "source": [
    "To speed up the matrix exponentiation, we can use the fact that if $Q = P D P^{-1}$, then \n",
    "\n",
    "$$\\mathrm{expm}(Q) = P e^D P^{-1},$$\n",
    "\n",
    "where $e^D$ is a diagonal matrix with $(e^D)_{ii} = e^{D_{ii}}$."
   ]
  },
  {
   "cell_type": "code",
   "execution_count": 107,
   "metadata": {
    "slideshow": {
     "slide_type": "slide"
    }
   },
   "outputs": [
    {
     "data": {
      "application/javascript": [
       "\n",
       "            setTimeout(function() {\n",
       "                var nbb_cell_id = 107;\n",
       "                var nbb_unformatted_code = \"def sim_ms_v2(tree, ancestral_state, theta, M):\\n    Q = rate_matrix(theta, M)\\n    d, P = np.linalg.eig(Q)\\n    Pinv = np.linalg.inv(P)\\n\\n    def eQ(t):\\n        return (P * np.exp(t * d[None, :])) @ Pinv\\n\\n    nodes = tree.nodes(order=\\\"preorder\\\")\\n    root = next(nodes)  # root occurs first in preorder traversal\\n    states = {root: ancestral_state}\\n    for node in nodes:\\n        # sample from distribution at node given parental state\\n        t = tree.get_branch_length(node)  # branch length from node to parent\\n        p = eQ(t)[states[tree.get_parent(node)]]\\n        states[node] = np.random.choice(M, p=p)\\n    return states\";\n",
       "                var nbb_formatted_code = \"def sim_ms_v2(tree, ancestral_state, theta, M):\\n    Q = rate_matrix(theta, M)\\n    d, P = np.linalg.eig(Q)\\n    Pinv = np.linalg.inv(P)\\n\\n    def eQ(t):\\n        return (P * np.exp(t * d[None, :])) @ Pinv\\n\\n    nodes = tree.nodes(order=\\\"preorder\\\")\\n    root = next(nodes)  # root occurs first in preorder traversal\\n    states = {root: ancestral_state}\\n    for node in nodes:\\n        # sample from distribution at node given parental state\\n        t = tree.get_branch_length(node)  # branch length from node to parent\\n        p = eQ(t)[states[tree.get_parent(node)]]\\n        states[node] = np.random.choice(M, p=p)\\n    return states\";\n",
       "                var nbb_cells = Jupyter.notebook.get_cells();\n",
       "                for (var i = 0; i < nbb_cells.length; ++i) {\n",
       "                    if (nbb_cells[i].input_prompt_number == nbb_cell_id) {\n",
       "                        if (nbb_cells[i].get_text() == nbb_unformatted_code) {\n",
       "                             nbb_cells[i].set_text(nbb_formatted_code);\n",
       "                        }\n",
       "                        break;\n",
       "                    }\n",
       "                }\n",
       "            }, 500);\n",
       "            "
      ],
      "text/plain": [
       "<IPython.core.display.Javascript object>"
      ]
     },
     "metadata": {},
     "output_type": "display_data"
    }
   ],
   "source": [
    "def sim_ms_v2(tree, ancestral_state, theta, M):\n",
    "    Q = rate_matrix(theta, M)\n",
    "    d, P = np.linalg.eig(Q)\n",
    "    Pinv = np.linalg.inv(P)\n",
    "\n",
    "    def eQ(t):\n",
    "        return (P * np.exp(t * d[None, :])) @ Pinv\n",
    "\n",
    "    nodes = tree.nodes(order=\"preorder\")\n",
    "    root = next(nodes)  # root occurs first in preorder traversal\n",
    "    states = {root: ancestral_state}\n",
    "    for node in nodes:\n",
    "        # sample from distribution at node given parental state\n",
    "        t = tree.get_branch_length(node)  # branch length from node to parent\n",
    "        p = eQ(t)[states[tree.get_parent(node)]]\n",
    "        states[node] = np.random.choice(M, p=p)\n",
    "    return states"
   ]
  },
  {
   "cell_type": "markdown",
   "metadata": {
    "slideshow": {
     "slide_type": "slide"
    }
   },
   "source": [
    "Let's first check that these return the same answers:"
   ]
  },
  {
   "cell_type": "code",
   "execution_count": 127,
   "metadata": {},
   "outputs": [
    {
     "name": "stdout",
     "output_type": "stream",
     "text": [
      "{4: 10, 2: 7, 3: 14, 0: 13, 1: 14}\n",
      "{4: 10, 2: 16, 3: 10, 0: 10, 1: 10}\n"
     ]
    },
    {
     "data": {
      "application/javascript": [
       "\n",
       "            setTimeout(function() {\n",
       "                var nbb_cell_id = 127;\n",
       "                var nbb_unformatted_code = \"for f in sim_ms, sim_ms_v2:\\n    # what happened?\\n    print(f(simple_tree, 10, 1., 20))\";\n",
       "                var nbb_formatted_code = \"for f in sim_ms, sim_ms_v2:\\n    # what happened?\\n    print(f(simple_tree, 10, 1.0, 20))\";\n",
       "                var nbb_cells = Jupyter.notebook.get_cells();\n",
       "                for (var i = 0; i < nbb_cells.length; ++i) {\n",
       "                    if (nbb_cells[i].input_prompt_number == nbb_cell_id) {\n",
       "                        if (nbb_cells[i].get_text() == nbb_unformatted_code) {\n",
       "                             nbb_cells[i].set_text(nbb_formatted_code);\n",
       "                        }\n",
       "                        break;\n",
       "                    }\n",
       "                }\n",
       "            }, 500);\n",
       "            "
      ],
      "text/plain": [
       "<IPython.core.display.Javascript object>"
      ]
     },
     "metadata": {},
     "output_type": "display_data"
    }
   ],
   "source": [
    "for f in sim_ms, sim_ms_v2:\n",
    "    # what happened?\n",
    "    print(f(simple_tree, 10, 1.0, 20))"
   ]
  },
  {
   "cell_type": "markdown",
   "metadata": {
    "slideshow": {
     "slide_type": "slide"
    }
   },
   "source": [
    "Next let's try on a larger example:"
   ]
  },
  {
   "cell_type": "code",
   "execution_count": 129,
   "metadata": {},
   "outputs": [
    {
     "name": "stdout",
     "output_type": "stream",
     "text": [
      "{4: 100, 2: 98, 3: 87, 0: 88, 1: 88}\n"
     ]
    },
    {
     "ename": "ValueError",
     "evalue": "probabilities are not non-negative",
     "output_type": "error",
     "traceback": [
      "\u001b[0;31m---------------------------------------------------------------------------\u001b[0m",
      "\u001b[0;31mValueError\u001b[0m                                Traceback (most recent call last)",
      "\u001b[0;32m~/Dropbox/Michigan/Teaching/STATS/701/f20/stats701f20/lectures/init.py\u001b[0m in \u001b[0;36m<module>\u001b[0;34m\u001b[0m\n\u001b[1;32m      1\u001b[0m \u001b[0;32mfor\u001b[0m \u001b[0mf\u001b[0m \u001b[0;32min\u001b[0m \u001b[0msim_ms\u001b[0m\u001b[0;34m,\u001b[0m \u001b[0msim_ms_v2\u001b[0m\u001b[0;34m:\u001b[0m\u001b[0;34m\u001b[0m\u001b[0;34m\u001b[0m\u001b[0m\n\u001b[1;32m      2\u001b[0m     \u001b[0;31m# what happened?\u001b[0m\u001b[0;34m\u001b[0m\u001b[0;34m\u001b[0m\u001b[0;34m\u001b[0m\u001b[0m\n\u001b[0;32m----> 3\u001b[0;31m     \u001b[0mprint\u001b[0m\u001b[0;34m(\u001b[0m\u001b[0mf\u001b[0m\u001b[0;34m(\u001b[0m\u001b[0msimple_tree\u001b[0m\u001b[0;34m,\u001b[0m \u001b[0;36m100\u001b[0m\u001b[0;34m,\u001b[0m \u001b[0;36m10.0\u001b[0m\u001b[0;34m,\u001b[0m \u001b[0;36m200\u001b[0m\u001b[0;34m)\u001b[0m\u001b[0;34m)\u001b[0m\u001b[0;34m\u001b[0m\u001b[0;34m\u001b[0m\u001b[0m\n\u001b[0m",
      "\u001b[0;32m~/Dropbox/Michigan/Teaching/STATS/701/f20/stats701f20/lectures/init.py\u001b[0m in \u001b[0;36msim_ms_v2\u001b[0;34m(tree, ancestral_state, theta, M)\u001b[0m\n\u001b[1;32m     14\u001b[0m         \u001b[0mt\u001b[0m \u001b[0;34m=\u001b[0m \u001b[0mtree\u001b[0m\u001b[0;34m.\u001b[0m\u001b[0mget_branch_length\u001b[0m\u001b[0;34m(\u001b[0m\u001b[0mnode\u001b[0m\u001b[0;34m)\u001b[0m  \u001b[0;31m# branch length from node to parent\u001b[0m\u001b[0;34m\u001b[0m\u001b[0;34m\u001b[0m\u001b[0m\n\u001b[1;32m     15\u001b[0m         \u001b[0mp\u001b[0m \u001b[0;34m=\u001b[0m \u001b[0meQ\u001b[0m\u001b[0;34m(\u001b[0m\u001b[0mt\u001b[0m\u001b[0;34m)\u001b[0m\u001b[0;34m[\u001b[0m\u001b[0mstates\u001b[0m\u001b[0;34m[\u001b[0m\u001b[0mtree\u001b[0m\u001b[0;34m.\u001b[0m\u001b[0mget_parent\u001b[0m\u001b[0;34m(\u001b[0m\u001b[0mnode\u001b[0m\u001b[0;34m)\u001b[0m\u001b[0;34m]\u001b[0m\u001b[0;34m]\u001b[0m\u001b[0;34m\u001b[0m\u001b[0;34m\u001b[0m\u001b[0m\n\u001b[0;32m---> 16\u001b[0;31m         \u001b[0mstates\u001b[0m\u001b[0;34m[\u001b[0m\u001b[0mnode\u001b[0m\u001b[0;34m]\u001b[0m \u001b[0;34m=\u001b[0m \u001b[0mnp\u001b[0m\u001b[0;34m.\u001b[0m\u001b[0mrandom\u001b[0m\u001b[0;34m.\u001b[0m\u001b[0mchoice\u001b[0m\u001b[0;34m(\u001b[0m\u001b[0mM\u001b[0m\u001b[0;34m,\u001b[0m \u001b[0mp\u001b[0m\u001b[0;34m=\u001b[0m\u001b[0mp\u001b[0m\u001b[0;34m)\u001b[0m\u001b[0;34m\u001b[0m\u001b[0;34m\u001b[0m\u001b[0m\n\u001b[0m\u001b[1;32m     17\u001b[0m     \u001b[0;32mreturn\u001b[0m \u001b[0mstates\u001b[0m\u001b[0;34m\u001b[0m\u001b[0;34m\u001b[0m\u001b[0m\n",
      "\u001b[0;32mmtrand.pyx\u001b[0m in \u001b[0;36mnumpy.random.mtrand.RandomState.choice\u001b[0;34m()\u001b[0m\n",
      "\u001b[0;31mValueError\u001b[0m: probabilities are not non-negative"
     ]
    },
    {
     "data": {
      "application/javascript": [
       "\n",
       "            setTimeout(function() {\n",
       "                var nbb_cell_id = 129;\n",
       "                var nbb_unformatted_code = \"for f in sim_ms, sim_ms_v2:\\n    # what happened?\\n    print(f(simple_tree, 100, 10.0, 200))\";\n",
       "                var nbb_formatted_code = \"for f in sim_ms, sim_ms_v2:\\n    # what happened?\\n    print(f(simple_tree, 100, 10.0, 200))\";\n",
       "                var nbb_cells = Jupyter.notebook.get_cells();\n",
       "                for (var i = 0; i < nbb_cells.length; ++i) {\n",
       "                    if (nbb_cells[i].input_prompt_number == nbb_cell_id) {\n",
       "                        if (nbb_cells[i].get_text() == nbb_unformatted_code) {\n",
       "                             nbb_cells[i].set_text(nbb_formatted_code);\n",
       "                        }\n",
       "                        break;\n",
       "                    }\n",
       "                }\n",
       "            }, 500);\n",
       "            "
      ],
      "text/plain": [
       "<IPython.core.display.Javascript object>"
      ]
     },
     "metadata": {},
     "output_type": "display_data"
    }
   ],
   "source": [
    "for f in sim_ms, sim_ms_v2:\n",
    "    # what happened?\n",
    "    print(f(simple_tree, 100, 10.0, 200))"
   ]
  },
  {
   "cell_type": "code",
   "execution_count": null,
   "metadata": {
    "slideshow": {
     "slide_type": "slide"
    }
   },
   "outputs": [],
   "source": [
    "# %debug"
   ]
  },
  {
   "cell_type": "markdown",
   "metadata": {
    "slideshow": {
     "slide_type": "slide"
    }
   },
   "source": [
    "We see that $p$ has lots of small, negative entries. We can simply threshold them:\n",
    "\n",
    "```\n",
    "p = np.maximum(0., eQ(t)[states[tree.get_parent(node)]])\n",
    "```"
   ]
  },
  {
   "cell_type": "code",
   "execution_count": 131,
   "metadata": {
    "slideshow": {
     "slide_type": "slide"
    }
   },
   "outputs": [
    {
     "data": {
      "application/javascript": [
       "\n",
       "            setTimeout(function() {\n",
       "                var nbb_cell_id = 131;\n",
       "                var nbb_unformatted_code = \"def sim_ms_v3(tree, ancestral_state, theta, M):\\n    Q = rate_matrix(theta, M)\\n    d, P = np.linalg.eig(Q)\\n    Pinv = np.linalg.inv(P)\\n\\n    def eQ(t):\\n        return (P * np.exp(t * d[None, :])) @ Pinv\\n\\n    nodes = tree.nodes(order=\\\"preorder\\\")\\n    root = next(nodes)  # root occurs first in preorder traversal\\n    states = {root: ancestral_state}\\n    for node in nodes:\\n        # sample from distribution at node given parental state\\n        t = tree.get_branch_length(node)  # branch length from node to parent\\n        p = np.clip(eQ(t)[states[tree.get_parent(node)]], 0.0, 1.0)\\n        states[node] = np.random.choice(M, p=p)\\n    return states\";\n",
       "                var nbb_formatted_code = \"def sim_ms_v3(tree, ancestral_state, theta, M):\\n    Q = rate_matrix(theta, M)\\n    d, P = np.linalg.eig(Q)\\n    Pinv = np.linalg.inv(P)\\n\\n    def eQ(t):\\n        return (P * np.exp(t * d[None, :])) @ Pinv\\n\\n    nodes = tree.nodes(order=\\\"preorder\\\")\\n    root = next(nodes)  # root occurs first in preorder traversal\\n    states = {root: ancestral_state}\\n    for node in nodes:\\n        # sample from distribution at node given parental state\\n        t = tree.get_branch_length(node)  # branch length from node to parent\\n        p = np.clip(eQ(t)[states[tree.get_parent(node)]], 0.0, 1.0)\\n        states[node] = np.random.choice(M, p=p)\\n    return states\";\n",
       "                var nbb_cells = Jupyter.notebook.get_cells();\n",
       "                for (var i = 0; i < nbb_cells.length; ++i) {\n",
       "                    if (nbb_cells[i].input_prompt_number == nbb_cell_id) {\n",
       "                        if (nbb_cells[i].get_text() == nbb_unformatted_code) {\n",
       "                             nbb_cells[i].set_text(nbb_formatted_code);\n",
       "                        }\n",
       "                        break;\n",
       "                    }\n",
       "                }\n",
       "            }, 500);\n",
       "            "
      ],
      "text/plain": [
       "<IPython.core.display.Javascript object>"
      ]
     },
     "metadata": {},
     "output_type": "display_data"
    }
   ],
   "source": [
    "def sim_ms_v3(tree, ancestral_state, theta, M):\n",
    "    Q = rate_matrix(theta, M)\n",
    "    d, P = np.linalg.eig(Q)\n",
    "    Pinv = np.linalg.inv(P)\n",
    "\n",
    "    def eQ(t):\n",
    "        return (P * np.exp(t * d[None, :])) @ Pinv\n",
    "\n",
    "    nodes = tree.nodes(order=\"preorder\")\n",
    "    root = next(nodes)  # root occurs first in preorder traversal\n",
    "    states = {root: ancestral_state}\n",
    "    for node in nodes:\n",
    "        # sample from distribution at node given parental state\n",
    "        t = tree.get_branch_length(node)  # branch length from node to parent\n",
    "        p = np.clip(eQ(t)[states[tree.get_parent(node)]], 0.0, 1.0)\n",
    "        states[node] = np.random.choice(M, p=p)\n",
    "    return states"
   ]
  },
  {
   "cell_type": "code",
   "execution_count": 137,
   "metadata": {
    "slideshow": {
     "slide_type": "slide"
    }
   },
   "outputs": [
    {
     "name": "stdout",
     "output_type": "stream",
     "text": [
      "{4: 10, 2: 9, 3: 12, 0: 8, 1: 12}\n",
      "{4: 10, 2: 9, 3: 12, 0: 8, 1: 12}\n"
     ]
    },
    {
     "data": {
      "application/javascript": [
       "\n",
       "            setTimeout(function() {\n",
       "                var nbb_cell_id = 137;\n",
       "                var nbb_unformatted_code = \"for f in sim_ms, sim_ms_v3:\\n    # what happened?\\n    np.random.seed(1)\\n    print(f(simple_tree, 10, 1.0, 20))\";\n",
       "                var nbb_formatted_code = \"for f in sim_ms, sim_ms_v3:\\n    # what happened?\\n    np.random.seed(1)\\n    print(f(simple_tree, 10, 1.0, 20))\";\n",
       "                var nbb_cells = Jupyter.notebook.get_cells();\n",
       "                for (var i = 0; i < nbb_cells.length; ++i) {\n",
       "                    if (nbb_cells[i].input_prompt_number == nbb_cell_id) {\n",
       "                        if (nbb_cells[i].get_text() == nbb_unformatted_code) {\n",
       "                             nbb_cells[i].set_text(nbb_formatted_code);\n",
       "                        }\n",
       "                        break;\n",
       "                    }\n",
       "                }\n",
       "            }, 500);\n",
       "            "
      ],
      "text/plain": [
       "<IPython.core.display.Javascript object>"
      ]
     },
     "metadata": {},
     "output_type": "display_data"
    }
   ],
   "source": [
    "for f in sim_ms, sim_ms_v3:\n",
    "    np.random.seed(1)\n",
    "    print(f(simple_tree, 10, 1.0, 20))"
   ]
  },
  {
   "cell_type": "markdown",
   "metadata": {
    "slideshow": {
     "slide_type": "slide"
    }
   },
   "source": [
    "## Don't invert that matrix\n",
    "In general, in scientific computing applications, you want to [avoid inverting matrices](https://www.johndcook.com/blog/2010/01/19/dont-invert-that-matrix/) wherever possible. It's both expensive, and numerically unstable."
   ]
  },
  {
   "cell_type": "markdown",
   "metadata": {
    "slideshow": {
     "slide_type": "slide"
    }
   },
   "source": [
    "In our application, we are doing the following:\n",
    " \n",
    "$$p = (e^{tQ})^Te_a = e^{tQ^T}e_a = (P^{-1})^T e^{tD} P^T e_a$$\n",
    "\n",
    "where $a$ is the ancestral state ($a=100$ in our examples) and $e_i$ is the $i$th unit vector. Equivalently,\n",
    "\n",
    "$$P^T p = P_{a,:} e^{tD},$$\n",
    "\n",
    "so that $p$ is the solution to a linear system."
   ]
  },
  {
   "cell_type": "code",
   "execution_count": 139,
   "metadata": {
    "slideshow": {
     "slide_type": "slide"
    }
   },
   "outputs": [
    {
     "data": {
      "application/javascript": [
       "\n",
       "            setTimeout(function() {\n",
       "                var nbb_cell_id = 139;\n",
       "                var nbb_unformatted_code = \"def sim_ms_v3(tree, ancestral_state, theta, M):\\n    Q = rate_matrix(theta, M)\\n    d, P = np.linalg.eig(Q)\\n\\n    def eQ(t, a):\\n        return np.linalg.solve(P.T, P[a] * np.exp(t * d))\\n\\n    nodes = tree.nodes(order=\\\"preorder\\\")\\n    root = next(nodes)  # root occurs first in preorder traversal\\n    states = {root: ancestral_state}\\n    for node in nodes:\\n        # sample from distribution at node given parental state\\n        t = tree.get_branch_length(node)  # branch length from node to parent\\n        a = states[tree.get_parent(node)]\\n        p = np.clip(eQ(t, a), 0., 1.)\\n        states[node] = np.random.choice(M, p=p)\\n    return states\";\n",
       "                var nbb_formatted_code = \"def sim_ms_v3(tree, ancestral_state, theta, M):\\n    Q = rate_matrix(theta, M)\\n    d, P = np.linalg.eig(Q)\\n\\n    def eQ(t, a):\\n        return np.linalg.solve(P.T, P[a] * np.exp(t * d))\\n\\n    nodes = tree.nodes(order=\\\"preorder\\\")\\n    root = next(nodes)  # root occurs first in preorder traversal\\n    states = {root: ancestral_state}\\n    for node in nodes:\\n        # sample from distribution at node given parental state\\n        t = tree.get_branch_length(node)  # branch length from node to parent\\n        a = states[tree.get_parent(node)]\\n        p = np.clip(eQ(t, a), 0.0, 1.0)\\n        states[node] = np.random.choice(M, p=p)\\n    return states\";\n",
       "                var nbb_cells = Jupyter.notebook.get_cells();\n",
       "                for (var i = 0; i < nbb_cells.length; ++i) {\n",
       "                    if (nbb_cells[i].input_prompt_number == nbb_cell_id) {\n",
       "                        if (nbb_cells[i].get_text() == nbb_unformatted_code) {\n",
       "                             nbb_cells[i].set_text(nbb_formatted_code);\n",
       "                        }\n",
       "                        break;\n",
       "                    }\n",
       "                }\n",
       "            }, 500);\n",
       "            "
      ],
      "text/plain": [
       "<IPython.core.display.Javascript object>"
      ]
     },
     "metadata": {},
     "output_type": "display_data"
    }
   ],
   "source": [
    "def sim_ms_v3(tree, ancestral_state, theta, M):\n",
    "    Q = rate_matrix(theta, M)\n",
    "    d, P = np.linalg.eig(Q)\n",
    "\n",
    "    def eQ(t, a):\n",
    "        return np.linalg.solve(P.T, P[a] * np.exp(t * d))\n",
    "\n",
    "    nodes = tree.nodes(order=\"preorder\")\n",
    "    root = next(nodes)  # root occurs first in preorder traversal\n",
    "    states = {root: ancestral_state}\n",
    "    for node in nodes:\n",
    "        # sample from distribution at node given parental state\n",
    "        t = tree.get_branch_length(node)  # branch length from node to parent\n",
    "        a = states[tree.get_parent(node)]\n",
    "        p = np.clip(eQ(t, a), 0.0, 1.0)\n",
    "        states[node] = np.random.choice(M, p=p)\n",
    "    return states"
   ]
  },
  {
   "cell_type": "code",
   "execution_count": 613,
   "metadata": {
    "slideshow": {
     "slide_type": "slide"
    }
   },
   "outputs": [
    {
     "name": "stdout",
     "output_type": "stream",
     "text": [
      "{4: 10, 2: 9, 3: 12, 0: 8, 1: 12}\n",
      "{4: 10, 2: 9, 3: 12, 0: 8, 1: 12}\n"
     ]
    },
    {
     "data": {
      "application/javascript": [
       "\n",
       "            setTimeout(function() {\n",
       "                var nbb_cell_id = 613;\n",
       "                var nbb_unformatted_code = \"for f in sim_ms, sim_ms_v3:\\n    np.random.seed(1)\\n    print(f(simple_tree, 10, 1.0, 20))\";\n",
       "                var nbb_formatted_code = \"for f in sim_ms, sim_ms_v3:\\n    np.random.seed(1)\\n    print(f(simple_tree, 10, 1.0, 20))\";\n",
       "                var nbb_cells = Jupyter.notebook.get_cells();\n",
       "                for (var i = 0; i < nbb_cells.length; ++i) {\n",
       "                    if (nbb_cells[i].input_prompt_number == nbb_cell_id) {\n",
       "                        if (nbb_cells[i].get_text() == nbb_unformatted_code) {\n",
       "                             nbb_cells[i].set_text(nbb_formatted_code);\n",
       "                        }\n",
       "                        break;\n",
       "                    }\n",
       "                }\n",
       "            }, 500);\n",
       "            "
      ],
      "text/plain": [
       "<IPython.core.display.Javascript object>"
      ]
     },
     "metadata": {},
     "output_type": "display_data"
    }
   ],
   "source": [
    "for f in sim_ms, sim_ms_v3:\n",
    "    np.random.seed(1)\n",
    "    print(f(simple_tree, 10, 1.0, 20))"
   ]
  },
  {
   "cell_type": "markdown",
   "metadata": {
    "slideshow": {
     "slide_type": "slide"
    }
   },
   "source": [
    "Let's see how we did speed-wise:"
   ]
  },
  {
   "cell_type": "code",
   "execution_count": 614,
   "metadata": {},
   "outputs": [
    {
     "name": "stdout",
     "output_type": "stream",
     "text": [
      "CPU times: user 2.47 s, sys: 296 ms, total: 2.76 s\n",
      "Wall time: 349 ms\n"
     ]
    },
    {
     "data": {
      "application/javascript": [
       "\n",
       "            setTimeout(function() {\n",
       "                var nbb_cell_id = 614;\n",
       "                var nbb_unformatted_code = \"%%time\\nstates = sim_ms_v3(large_tree, ancestral_state=100, theta=51, M=200);\";\n",
       "                var nbb_formatted_code = \"%%time\\nstates = sim_ms_v3(large_tree, ancestral_state=100, theta=51, M=200);\";\n",
       "                var nbb_cells = Jupyter.notebook.get_cells();\n",
       "                for (var i = 0; i < nbb_cells.length; ++i) {\n",
       "                    if (nbb_cells[i].input_prompt_number == nbb_cell_id) {\n",
       "                        if (nbb_cells[i].get_text() == nbb_unformatted_code) {\n",
       "                             nbb_cells[i].set_text(nbb_formatted_code);\n",
       "                        }\n",
       "                        break;\n",
       "                    }\n",
       "                }\n",
       "            }, 500);\n",
       "            "
      ],
      "text/plain": [
       "<IPython.core.display.Javascript object>"
      ]
     },
     "metadata": {},
     "output_type": "display_data"
    }
   ],
   "source": [
    "%%time\n",
    "states = sim_ms_v3(large_tree, ancestral_state=100, theta=51, M=200);"
   ]
  },
  {
   "cell_type": "markdown",
   "metadata": {},
   "source": [
    "So, about $25\\times$ faster."
   ]
  },
  {
   "cell_type": "markdown",
   "metadata": {
    "slideshow": {
     "slide_type": "slide"
    }
   },
   "source": [
    "Can we do even better? Yes. It turns out that, if solving the linear system $Ax=b$ repeatedly, many of the computations can be recycled."
   ]
  },
  {
   "cell_type": "code",
   "execution_count": 617,
   "metadata": {
    "slideshow": {
     "slide_type": "slide"
    }
   },
   "outputs": [
    {
     "data": {
      "application/javascript": [
       "\n",
       "            setTimeout(function() {\n",
       "                var nbb_cell_id = 617;\n",
       "                var nbb_unformatted_code = \"from scipy.linalg import lu_factor, lu_solve\\n\\n\\ndef sim_ms_v4(tree, ancestral_state, theta, M):\\n    Q = rate_matrix(theta, M)\\n    d, P = np.linalg.eig(Q)\\n    lu, piv = lu_factor(P.T)\\n\\n    def eQ(t, a):\\n        return lu_solve((lu, piv), P[a] * np.exp(t * d))\\n\\n    nodes = tree.nodes(order=\\\"preorder\\\")\\n    root = next(nodes)  # root occurs first in preorder traversal\\n    states = {root: ancestral_state}\\n    for node in nodes:\\n        # sample from distribution at node given parental state\\n        t = tree.get_branch_length(node)  # branch length from node to parent\\n        a = states[tree.get_parent(node)]\\n        p = np.clip(eQ(t, a), 0.0, 1.0)\\n        states[node] = np.random.choice(M, p=p)\\n    return states\";\n",
       "                var nbb_formatted_code = \"from scipy.linalg import lu_factor, lu_solve\\n\\n\\ndef sim_ms_v4(tree, ancestral_state, theta, M):\\n    Q = rate_matrix(theta, M)\\n    d, P = np.linalg.eig(Q)\\n    lu, piv = lu_factor(P.T)\\n\\n    def eQ(t, a):\\n        return lu_solve((lu, piv), P[a] * np.exp(t * d))\\n\\n    nodes = tree.nodes(order=\\\"preorder\\\")\\n    root = next(nodes)  # root occurs first in preorder traversal\\n    states = {root: ancestral_state}\\n    for node in nodes:\\n        # sample from distribution at node given parental state\\n        t = tree.get_branch_length(node)  # branch length from node to parent\\n        a = states[tree.get_parent(node)]\\n        p = np.clip(eQ(t, a), 0.0, 1.0)\\n        states[node] = np.random.choice(M, p=p)\\n    return states\";\n",
       "                var nbb_cells = Jupyter.notebook.get_cells();\n",
       "                for (var i = 0; i < nbb_cells.length; ++i) {\n",
       "                    if (nbb_cells[i].input_prompt_number == nbb_cell_id) {\n",
       "                        if (nbb_cells[i].get_text() == nbb_unformatted_code) {\n",
       "                             nbb_cells[i].set_text(nbb_formatted_code);\n",
       "                        }\n",
       "                        break;\n",
       "                    }\n",
       "                }\n",
       "            }, 500);\n",
       "            "
      ],
      "text/plain": [
       "<IPython.core.display.Javascript object>"
      ]
     },
     "metadata": {},
     "output_type": "display_data"
    }
   ],
   "source": [
    "from scipy.linalg import lu_factor, lu_solve\n",
    "\n",
    "\n",
    "def sim_ms_v4(tree, ancestral_state, theta, M):\n",
    "    Q = rate_matrix(theta, M)\n",
    "    d, P = np.linalg.eig(Q)\n",
    "    lu, piv = lu_factor(P.T)\n",
    "\n",
    "    def eQ(t, a):\n",
    "        return lu_solve((lu, piv), P[a] * np.exp(t * d))\n",
    "\n",
    "    nodes = tree.nodes(order=\"preorder\")\n",
    "    root = next(nodes)  # root occurs first in preorder traversal\n",
    "    states = {root: ancestral_state}\n",
    "    for node in nodes:\n",
    "        # sample from distribution at node given parental state\n",
    "        t = tree.get_branch_length(node)  # branch length from node to parent\n",
    "        a = states[tree.get_parent(node)]\n",
    "        p = np.clip(eQ(t, a), 0.0, 1.0)\n",
    "        states[node] = np.random.choice(M, p=p)\n",
    "    return states"
   ]
  },
  {
   "cell_type": "markdown",
   "metadata": {
    "slideshow": {
     "slide_type": "slide"
    }
   },
   "source": [
    "Always a good idea to check accuracy:"
   ]
  },
  {
   "cell_type": "code",
   "execution_count": 618,
   "metadata": {},
   "outputs": [
    {
     "name": "stdout",
     "output_type": "stream",
     "text": [
      "{4: 10, 2: 9, 3: 12, 0: 8, 1: 12}\n",
      "{4: 10, 2: 9, 3: 12, 0: 8, 1: 12}\n"
     ]
    },
    {
     "data": {
      "application/javascript": [
       "\n",
       "            setTimeout(function() {\n",
       "                var nbb_cell_id = 618;\n",
       "                var nbb_unformatted_code = \"for f in sim_ms_v3, sim_ms_v4:\\n    np.random.seed(1)\\n    print(f(simple_tree, 10, 1.0, 20))\";\n",
       "                var nbb_formatted_code = \"for f in sim_ms_v3, sim_ms_v4:\\n    np.random.seed(1)\\n    print(f(simple_tree, 10, 1.0, 20))\";\n",
       "                var nbb_cells = Jupyter.notebook.get_cells();\n",
       "                for (var i = 0; i < nbb_cells.length; ++i) {\n",
       "                    if (nbb_cells[i].input_prompt_number == nbb_cell_id) {\n",
       "                        if (nbb_cells[i].get_text() == nbb_unformatted_code) {\n",
       "                             nbb_cells[i].set_text(nbb_formatted_code);\n",
       "                        }\n",
       "                        break;\n",
       "                    }\n",
       "                }\n",
       "            }, 500);\n",
       "            "
      ],
      "text/plain": [
       "<IPython.core.display.Javascript object>"
      ]
     },
     "metadata": {},
     "output_type": "display_data"
    }
   ],
   "source": [
    "for f in sim_ms_v3, sim_ms_v4:\n",
    "    np.random.seed(1)\n",
    "    print(f(simple_tree, 10, 1.0, 20))"
   ]
  },
  {
   "cell_type": "markdown",
   "metadata": {
    "slideshow": {
     "slide_type": "slide"
    }
   },
   "source": [
    "And speed:"
   ]
  },
  {
   "cell_type": "code",
   "execution_count": 619,
   "metadata": {},
   "outputs": [
    {
     "name": "stdout",
     "output_type": "stream",
     "text": [
      "CPU times: user 1.31 s, sys: 452 ms, total: 1.77 s\n",
      "Wall time: 136 ms\n"
     ]
    },
    {
     "data": {
      "application/javascript": [
       "\n",
       "            setTimeout(function() {\n",
       "                var nbb_cell_id = 619;\n",
       "                var nbb_unformatted_code = \"%%time\\nstates = sim_ms_v4(large_tree, ancestral_state=100, theta=51, M=200);\";\n",
       "                var nbb_formatted_code = \"%%time\\nstates = sim_ms_v4(large_tree, ancestral_state=100, theta=51, M=200);\";\n",
       "                var nbb_cells = Jupyter.notebook.get_cells();\n",
       "                for (var i = 0; i < nbb_cells.length; ++i) {\n",
       "                    if (nbb_cells[i].input_prompt_number == nbb_cell_id) {\n",
       "                        if (nbb_cells[i].get_text() == nbb_unformatted_code) {\n",
       "                             nbb_cells[i].set_text(nbb_formatted_code);\n",
       "                        }\n",
       "                        break;\n",
       "                    }\n",
       "                }\n",
       "            }, 500);\n",
       "            "
      ],
      "text/plain": [
       "<IPython.core.display.Javascript object>"
      ]
     },
     "metadata": {},
     "output_type": "display_data"
    }
   ],
   "source": [
    "%%time\n",
    "states = sim_ms_v4(large_tree, ancestral_state=100, theta=51, M=200);"
   ]
  },
  {
   "cell_type": "markdown",
   "metadata": {},
   "source": [
    "Another $\\sim 3\\times$ speedup, for a total of about $70\\times$ over the naive approach."
   ]
  },
  {
   "cell_type": "markdown",
   "metadata": {
    "slideshow": {
     "slide_type": "slide"
    }
   },
   "source": [
    "## Back to the problem at hand"
   ]
  },
  {
   "cell_type": "markdown",
   "metadata": {},
   "source": [
    "> All 445 individuals were typed at each of eight Y chromosome microsatellite markers: two trinucleotide repeats, DYS388 and DYS392, and six tetranucleotide repeats, DYS19, DYS389I, DYS389II, DYS390, DYS391, and DYS393 ... we replaced the fragment size DYS389II by (DYS389II 􏰄 DYS389I) in our analysis."
   ]
  },
  {
   "cell_type": "code",
   "execution_count": 577,
   "metadata": {},
   "outputs": [
    {
     "name": "stdout",
     "output_type": "stream",
     "text": [
      "Index(['DYS19', 'DYS388', 'DYS389a', 'DYS389c', 'DYS390', 'DYS391', 'DYS392',\n",
      "       'DYS393'],\n",
      "      dtype='object')\n"
     ]
    },
    {
     "data": {
      "application/javascript": [
       "\n",
       "            setTimeout(function() {\n",
       "                var nbb_cell_id = 577;\n",
       "                var nbb_unformatted_code = \"print(ms.columns[1:])\";\n",
       "                var nbb_formatted_code = \"print(ms.columns[1:])\";\n",
       "                var nbb_cells = Jupyter.notebook.get_cells();\n",
       "                for (var i = 0; i < nbb_cells.length; ++i) {\n",
       "                    if (nbb_cells[i].input_prompt_number == nbb_cell_id) {\n",
       "                        if (nbb_cells[i].get_text() == nbb_unformatted_code) {\n",
       "                             nbb_cells[i].set_text(nbb_formatted_code);\n",
       "                        }\n",
       "                        break;\n",
       "                    }\n",
       "                }\n",
       "            }, 500);\n",
       "            "
      ],
      "text/plain": [
       "<IPython.core.display.Javascript object>"
      ]
     },
     "metadata": {},
     "output_type": "display_data"
    }
   ],
   "source": [
    "print(ms.columns[1:])"
   ]
  },
  {
   "cell_type": "code",
   "execution_count": 578,
   "metadata": {},
   "outputs": [
    {
     "data": {
      "application/javascript": [
       "\n",
       "            setTimeout(function() {\n",
       "                var nbb_cell_id = 578;\n",
       "                var nbb_unformatted_code = \"repeat_lengths = [4, 3, 4, 4, 4, 4, 3, 4]\\noffsets = [0, -2, -1, 0, 0, 0, -1, 0]\";\n",
       "                var nbb_formatted_code = \"repeat_lengths = [4, 3, 4, 4, 4, 4, 3, 4]\\noffsets = [0, -2, -1, 0, 0, 0, -1, 0]\";\n",
       "                var nbb_cells = Jupyter.notebook.get_cells();\n",
       "                for (var i = 0; i < nbb_cells.length; ++i) {\n",
       "                    if (nbb_cells[i].input_prompt_number == nbb_cell_id) {\n",
       "                        if (nbb_cells[i].get_text() == nbb_unformatted_code) {\n",
       "                             nbb_cells[i].set_text(nbb_formatted_code);\n",
       "                        }\n",
       "                        break;\n",
       "                    }\n",
       "                }\n",
       "            }, 500);\n",
       "            "
      ],
      "text/plain": [
       "<IPython.core.display.Javascript object>"
      ]
     },
     "metadata": {},
     "output_type": "display_data"
    }
   ],
   "source": [
    "repeat_lengths = [4, 3, 4, 4, 4, 4, 3, 4]\n",
    "offsets = [0, -2, -1, 0, 0, 0, -1, 0]"
   ]
  },
  {
   "cell_type": "code",
   "execution_count": 579,
   "metadata": {},
   "outputs": [
    {
     "data": {
      "application/javascript": [
       "\n",
       "            setTimeout(function() {\n",
       "                var nbb_cell_id = 579;\n",
       "                var nbb_unformatted_code = \"haps = ms.drop(columns=\\\"Sample\\\").to_numpy()\\n# haps[:, 2] -= haps[:, 3]\\nH = ((haps + offsets) // repeat_lengths).T\\n# H[2] -= H[3]\";\n",
       "                var nbb_formatted_code = \"haps = ms.drop(columns=\\\"Sample\\\").to_numpy()\\n# haps[:, 2] -= haps[:, 3]\\nH = ((haps + offsets) // repeat_lengths).T\\n# H[2] -= H[3]\";\n",
       "                var nbb_cells = Jupyter.notebook.get_cells();\n",
       "                for (var i = 0; i < nbb_cells.length; ++i) {\n",
       "                    if (nbb_cells[i].input_prompt_number == nbb_cell_id) {\n",
       "                        if (nbb_cells[i].get_text() == nbb_unformatted_code) {\n",
       "                             nbb_cells[i].set_text(nbb_formatted_code);\n",
       "                        }\n",
       "                        break;\n",
       "                    }\n",
       "                }\n",
       "            }, 500);\n",
       "            "
      ],
      "text/plain": [
       "<IPython.core.display.Javascript object>"
      ]
     },
     "metadata": {},
     "output_type": "display_data"
    }
   ],
   "source": [
    "haps = ms.drop(columns=\"Sample\").to_numpy()\n",
    "# haps[:, 2] -= haps[:, 3]\n",
    "H = ((haps + offsets) // repeat_lengths).T\n",
    "# H[2] -= H[3]"
   ]
  },
  {
   "cell_type": "markdown",
   "metadata": {
    "slideshow": {
     "slide_type": "slide"
    }
   },
   "source": [
    "Verify the summary statistics from paper:\n",
    "\n",
    "> In the overall sample, there were between 6 and 11 alleles at each locus. The mean heterozygosity (per locus) was 0.636, and the mean variance across loci in the number of repeat units was 1.149. \n",
    "\n",
    "And the number of unique haps in world was 316."
   ]
  },
  {
   "cell_type": "code",
   "execution_count": 575,
   "metadata": {
    "slideshow": {
     "slide_type": "slide"
    }
   },
   "outputs": [
    {
     "data": {
      "application/javascript": [
       "\n",
       "            setTimeout(function() {\n",
       "                var nbb_cell_id = 575;\n",
       "                var nbb_unformatted_code = \"# haps is a [445, 8] dimensional matrix\\n\\n\\ndef afs(haps):\\n    \\\"allele frequency spectrum\\\"\\n    return np.bincount(np.bincount(haps), minlength=445)[1:]\\n\\n\\ndef het(haps):\\n    \\\"heterzygosity across all haps\\\"\\n    eta = afs(haps)\\n    n = 1 + len(eta)\\n    i = np.arange(1, n)\\n    omega = n - i\\n    return (i * eta * omega).sum() / omega.sum() / 2\";\n",
       "                var nbb_formatted_code = \"# haps is a [445, 8] dimensional matrix\\n\\n\\ndef afs(haps):\\n    \\\"allele frequency spectrum\\\"\\n    return np.bincount(np.bincount(haps), minlength=445)[1:]\\n\\n\\ndef het(haps):\\n    \\\"heterzygosity across all haps\\\"\\n    eta = afs(haps)\\n    n = 1 + len(eta)\\n    i = np.arange(1, n)\\n    omega = n - i\\n    return (i * eta * omega).sum() / omega.sum() / 2\";\n",
       "                var nbb_cells = Jupyter.notebook.get_cells();\n",
       "                for (var i = 0; i < nbb_cells.length; ++i) {\n",
       "                    if (nbb_cells[i].input_prompt_number == nbb_cell_id) {\n",
       "                        if (nbb_cells[i].get_text() == nbb_unformatted_code) {\n",
       "                             nbb_cells[i].set_text(nbb_formatted_code);\n",
       "                        }\n",
       "                        break;\n",
       "                    }\n",
       "                }\n",
       "            }, 500);\n",
       "            "
      ],
      "text/plain": [
       "<IPython.core.display.Javascript object>"
      ]
     },
     "metadata": {},
     "output_type": "display_data"
    }
   ],
   "source": [
    "# haps is a [445, 8] dimensional matrix\n",
    "\n",
    "\n",
    "def afs(haps):\n",
    "    \"allele frequency spectrum\"\n",
    "    return np.bincount(np.bincount(haps), minlength=445)[1:]\n"
   ]
  },
  {
   "cell_type": "markdown",
   "metadata": {
    "slideshow": {
     "slide_type": "slide"
    }
   },
   "source": [
    "Recall the heterozygosity is the probability that a randomly sampled pair of haplotypes are the same:\n",
    "    \n",
    "$$\\pi = \\binom{n}{2}^{-1} \\sum_{i<j} \\pi_{ij},$$\n",
    "\n",
    "where $\\pi_{ij}$ indicates whether haps $i$ and $j$ are the same."
   ]
  },
  {
   "cell_type": "markdown",
   "metadata": {
    "slideshow": {
     "slide_type": "slide"
    }
   },
   "source": [
    "This costs $O(n^2)$ and I am impatient. We can use the identity (why?) that \n",
    "\n",
    "$$\\pi = \\frac{1}{\\sum_{i=1}^{n-1} \\omega_i} \\sum_{i=1}^{n-1} \\omega_i i \\eta_i,$$\n",
    "\n",
    "where $\\eta \\in \\mathbb{R}^{n-1}$ is the allele frequency spectrum, and $\\omega_i = n-i$. "
   ]
  },
  {
   "cell_type": "code",
   "execution_count": null,
   "metadata": {
    "slideshow": {
     "slide_type": "slide"
    }
   },
   "outputs": [],
   "source": [
    "def het(haps):\n",
    "    \"heterzygosity across all haps\"\n",
    "    eta = afs(haps)\n",
    "    n = 1 + len(eta)\n",
    "    i = np.arange(1, n)\n",
    "    omega = n - i\n",
    "    return (i * eta * omega).sum() / omega.sum() / 2"
   ]
  },
  {
   "cell_type": "markdown",
   "metadata": {
    "slideshow": {
     "slide_type": "slide"
    }
   },
   "source": [
    "Lastly, the vector of summary statistics used in the paper is:"
   ]
  },
  {
   "cell_type": "code",
   "execution_count": 620,
   "metadata": {
    "slideshow": {
     "slide_type": "-"
    }
   },
   "outputs": [
    {
     "data": {
      "application/javascript": [
       "\n",
       "            setTimeout(function() {\n",
       "                var nbb_cell_id = 620;\n",
       "                var nbb_unformatted_code = \"\\ndef S(H):\\n    \\\"vector of summary statistics\\\"\\n    return np.array(\\n        [\\n            np.var(H, axis=1).mean(),\\n            np.mean([het(h) for h in H]),\\n            np.unique(H, axis=1).shape[1],\\n        ]\\n    )\";\n",
       "                var nbb_formatted_code = \"def S(H):\\n    \\\"vector of summary statistics\\\"\\n    return np.array(\\n        [\\n            np.var(H, axis=1).mean(),\\n            np.mean([het(h) for h in H]),\\n            np.unique(H, axis=1).shape[1],\\n        ]\\n    )\";\n",
       "                var nbb_cells = Jupyter.notebook.get_cells();\n",
       "                for (var i = 0; i < nbb_cells.length; ++i) {\n",
       "                    if (nbb_cells[i].input_prompt_number == nbb_cell_id) {\n",
       "                        if (nbb_cells[i].get_text() == nbb_unformatted_code) {\n",
       "                             nbb_cells[i].set_text(nbb_formatted_code);\n",
       "                        }\n",
       "                        break;\n",
       "                    }\n",
       "                }\n",
       "            }, 500);\n",
       "            "
      ],
      "text/plain": [
       "<IPython.core.display.Javascript object>"
      ]
     },
     "metadata": {},
     "output_type": "display_data"
    }
   ],
   "source": [
    "def S(H):\n",
    "    \"vector of summary statistics\"\n",
    "    return np.array(\n",
    "        [\n",
    "            np.var(H, axis=1).mean(),\n",
    "            np.mean([het(h) for h in H]),\n",
    "            np.unique(H, axis=1).shape[1],\n",
    "        ]\n",
    "    )"
   ]
  },
  {
   "cell_type": "code",
   "execution_count": 580,
   "metadata": {
    "slideshow": {
     "slide_type": "slide"
    }
   },
   "outputs": [
    {
     "data": {
      "text/plain": [
       "array([  1.15735892,   0.63579816, 316.        ])"
      ]
     },
     "execution_count": 580,
     "metadata": {},
     "output_type": "execute_result"
    },
    {
     "data": {
      "application/javascript": [
       "\n",
       "            setTimeout(function() {\n",
       "                var nbb_cell_id = 580;\n",
       "                var nbb_unformatted_code = \"def S(H):\\n    \\\"vector of summary statistics\\\"\\n    return np.array(\\n        [\\n            np.var(H, axis=1).mean(),\\n            np.mean([het(h) for h in H]),\\n            np.unique(H, axis=1).shape[1],\\n        ]\\n    )\\n\\n\\nS(H)\";\n",
       "                var nbb_formatted_code = \"def S(H):\\n    \\\"vector of summary statistics\\\"\\n    return np.array(\\n        [\\n            np.var(H, axis=1).mean(),\\n            np.mean([het(h) for h in H]),\\n            np.unique(H, axis=1).shape[1],\\n        ]\\n    )\\n\\n\\nS(H)\";\n",
       "                var nbb_cells = Jupyter.notebook.get_cells();\n",
       "                for (var i = 0; i < nbb_cells.length; ++i) {\n",
       "                    if (nbb_cells[i].input_prompt_number == nbb_cell_id) {\n",
       "                        if (nbb_cells[i].get_text() == nbb_unformatted_code) {\n",
       "                             nbb_cells[i].set_text(nbb_formatted_code);\n",
       "                        }\n",
       "                        break;\n",
       "                    }\n",
       "                }\n",
       "            }, 500);\n",
       "            "
      ],
      "text/plain": [
       "<IPython.core.display.Javascript object>"
      ]
     },
     "metadata": {},
     "output_type": "display_data"
    }
   ],
   "source": [
    "S(H)"
   ]
  },
  {
   "cell_type": "markdown",
   "metadata": {
    "slideshow": {
     "slide_type": "slide"
    }
   },
   "source": [
    "## Priors\n",
    "The priors used by Pritchard et al were:"
   ]
  },
  {
   "cell_type": "code",
   "execution_count": 488,
   "metadata": {},
   "outputs": [
    {
     "data": {
      "text/plain": [
       "(0.0006651755813902052,\n",
       " 1.8906040259248784,\n",
       " 323.57454208847906,\n",
       " 0.002078672475879453,\n",
       " 8299.298661888595)"
      ]
     },
     "execution_count": 488,
     "metadata": {},
     "output_type": "execute_result"
    },
    {
     "data": {
      "application/javascript": [
       "\n",
       "            setTimeout(function() {\n",
       "                var nbb_cell_id = 488;\n",
       "                var nbb_unformatted_code = \"def prior():\\n    mu = np.random.gamma(10, 1.0 / 12.5e3)\\n    sigma2 = 1 + np.random.exponential()\\n    Na = np.random.lognormal(8.5, 2)\\n    r = np.random.exponential(5e-3)\\n    t0 = np.random.exponential(2e4)\\n    return (mu, sigma2, Na, r, t0)\\n\\nprior()\";\n",
       "                var nbb_formatted_code = \"def prior():\\n    mu = np.random.gamma(10, 1.0 / 12.5e3)\\n    sigma2 = 1 + np.random.exponential()\\n    Na = np.random.lognormal(8.5, 2)\\n    r = np.random.exponential(5e-3)\\n    t0 = np.random.exponential(2e4)\\n    return (mu, sigma2, Na, r, t0)\\n\\n\\nprior()\";\n",
       "                var nbb_cells = Jupyter.notebook.get_cells();\n",
       "                for (var i = 0; i < nbb_cells.length; ++i) {\n",
       "                    if (nbb_cells[i].input_prompt_number == nbb_cell_id) {\n",
       "                        if (nbb_cells[i].get_text() == nbb_unformatted_code) {\n",
       "                             nbb_cells[i].set_text(nbb_formatted_code);\n",
       "                        }\n",
       "                        break;\n",
       "                    }\n",
       "                }\n",
       "            }, 500);\n",
       "            "
      ],
      "text/plain": [
       "<IPython.core.display.Javascript object>"
      ]
     },
     "metadata": {},
     "output_type": "display_data"
    }
   ],
   "source": [
    "def prior():\n",
    "    mu = np.random.gamma(10, 1.0 / 12.5e3)\n",
    "    sigma2 = 1 + np.random.exponential()\n",
    "    Na = np.random.lognormal(8.5, 2)\n",
    "    r = np.random.exponential(5e-3)\n",
    "    t0 = np.random.exponential(2e4)\n",
    "    return (mu, sigma2, Na, r, t0)\n",
    "\n",
    "\n",
    "prior()"
   ]
  },
  {
   "cell_type": "markdown",
   "metadata": {
    "slideshow": {
     "slide_type": "slide"
    }
   },
   "source": [
    "## The core ABC loop\n",
    "We need to parametrize our simulator in such a way that the sampled haplotypes look \"close\" to the data. Let's check thtat this holds, approximately, for reasonable values."
   ]
  },
  {
   "cell_type": "code",
   "execution_count": 506,
   "metadata": {
    "slideshow": {
     "slide_type": "slide"
    }
   },
   "outputs": [
    {
     "data": {
      "application/javascript": [
       "\n",
       "            setTimeout(function() {\n",
       "                var nbb_cell_id = 506;\n",
       "                var nbb_unformatted_code = \"ancestral_alleles, _ = scipy.stats.mode(H, axis=1)\\nancestral_alleles = ancestral_alleles.reshape(-1)\";\n",
       "                var nbb_formatted_code = \"ancestral_alleles, _ = scipy.stats.mode(H, axis=1)\\nancestral_alleles = ancestral_alleles.reshape(-1)\";\n",
       "                var nbb_cells = Jupyter.notebook.get_cells();\n",
       "                for (var i = 0; i < nbb_cells.length; ++i) {\n",
       "                    if (nbb_cells[i].input_prompt_number == nbb_cell_id) {\n",
       "                        if (nbb_cells[i].get_text() == nbb_unformatted_code) {\n",
       "                             nbb_cells[i].set_text(nbb_formatted_code);\n",
       "                        }\n",
       "                        break;\n",
       "                    }\n",
       "                }\n",
       "            }, 500);\n",
       "            "
      ],
      "text/plain": [
       "<IPython.core.display.Javascript object>"
      ]
     },
     "metadata": {},
     "output_type": "display_data"
    }
   ],
   "source": [
    "ancestral_alleles, _ = scipy.stats.mode(H, axis=1)\n",
    "ancestral_alleles = ancestral_alleles.reshape(-1)"
   ]
  },
  {
   "cell_type": "code",
   "execution_count": 604,
   "metadata": {
    "slideshow": {
     "slide_type": "slide"
    }
   },
   "outputs": [
    {
     "data": {
      "application/javascript": [
       "\n",
       "            setTimeout(function() {\n",
       "                var nbb_cell_id = 604;\n",
       "                var nbb_unformatted_code = \"def sim_haps(Na, t, r, mu):\\n    de = [\\n        msp.PopulationParametersChange(\\n            time=0, initial_size=Na * np.exp(t * r), growth_rate=r\\n        ),\\n        msp.PopulationParametersChange(time=t, growth_rate=0.0),\\n    ]\\n    sim = msp.simulate(\\n        sample_size=445,\\n        demographic_events=de,\\n    )\\n    tree = sim.first()\\n    haps = [\\n        sim_ms_v4(tree, ancestral_state=aa, theta=mu, M=2 * aa)\\n        for aa in ancestral_alleles\\n    ]\\n    return np.array([[h[i] for i in range(445)] for h in haps])\";\n",
       "                var nbb_formatted_code = \"def sim_haps(Na, t, r, mu):\\n    de = [\\n        msp.PopulationParametersChange(\\n            time=0, initial_size=Na * np.exp(t * r), growth_rate=r\\n        ),\\n        msp.PopulationParametersChange(time=t, growth_rate=0.0),\\n    ]\\n    sim = msp.simulate(\\n        sample_size=445,\\n        demographic_events=de,\\n    )\\n    tree = sim.first()\\n    haps = [\\n        sim_ms_v4(tree, ancestral_state=aa, theta=mu, M=2 * aa)\\n        for aa in ancestral_alleles\\n    ]\\n    return np.array([[h[i] for i in range(445)] for h in haps])\";\n",
       "                var nbb_cells = Jupyter.notebook.get_cells();\n",
       "                for (var i = 0; i < nbb_cells.length; ++i) {\n",
       "                    if (nbb_cells[i].input_prompt_number == nbb_cell_id) {\n",
       "                        if (nbb_cells[i].get_text() == nbb_unformatted_code) {\n",
       "                             nbb_cells[i].set_text(nbb_formatted_code);\n",
       "                        }\n",
       "                        break;\n",
       "                    }\n",
       "                }\n",
       "            }, 500);\n",
       "            "
      ],
      "text/plain": [
       "<IPython.core.display.Javascript object>"
      ]
     },
     "metadata": {},
     "output_type": "display_data"
    }
   ],
   "source": [
    "def sim_haps(Na, t, r, mu):\n",
    "    de = [\n",
    "        msp.PopulationParametersChange(\n",
    "            time=0, initial_size=Na * np.exp(t * r), growth_rate=r\n",
    "        ),\n",
    "        msp.PopulationParametersChange(time=t, growth_rate=0.0),\n",
    "    ]\n",
    "    sim = msp.simulate(\n",
    "        sample_size=445,\n",
    "        demographic_events=de,\n",
    "    )\n",
    "    tree = sim.first()\n",
    "    haps = [\n",
    "        sim_ms_v4(tree, ancestral_state=aa, theta=mu, M=2 * aa)\n",
    "        for aa in ancestral_alleles\n",
    "    ]\n",
    "    return np.array([[h[i] for i in range(445)] for h in haps])"
   ]
  },
  {
   "cell_type": "code",
   "execution_count": 624,
   "metadata": {
    "slideshow": {
     "slide_type": "slide"
    }
   },
   "outputs": [
    {
     "data": {
      "text/plain": [
       "array([ 27.8862631 ,   0.90176384, 280.        ])"
      ]
     },
     "execution_count": 624,
     "metadata": {},
     "output_type": "execute_result"
    },
    {
     "data": {
      "application/javascript": [
       "\n",
       "            setTimeout(function() {\n",
       "                var nbb_cell_id = 624;\n",
       "                var nbb_unformatted_code = \"S(sim_haps(2000, 1000, 1e-3, 1e-3))\";\n",
       "                var nbb_formatted_code = \"S(sim_haps(2000, 1000, 1e-3, 1e-3))\";\n",
       "                var nbb_cells = Jupyter.notebook.get_cells();\n",
       "                for (var i = 0; i < nbb_cells.length; ++i) {\n",
       "                    if (nbb_cells[i].input_prompt_number == nbb_cell_id) {\n",
       "                        if (nbb_cells[i].get_text() == nbb_unformatted_code) {\n",
       "                             nbb_cells[i].set_text(nbb_formatted_code);\n",
       "                        }\n",
       "                        break;\n",
       "                    }\n",
       "                }\n",
       "            }, 500);\n",
       "            "
      ],
      "text/plain": [
       "<IPython.core.display.Javascript object>"
      ]
     },
     "metadata": {},
     "output_type": "display_data"
    }
   ],
   "source": [
    "S(sim_haps(2000, 1000, 1e-3, 1e-3))"
   ]
  },
  {
   "cell_type": "code",
   "execution_count": 625,
   "metadata": {
    "slideshow": {
     "slide_type": "slide"
    }
   },
   "outputs": [
    {
     "ename": "KeyboardInterrupt",
     "evalue": "",
     "output_type": "error",
     "traceback": [
      "\u001b[0;31m---------------------------------------------------------------------------\u001b[0m",
      "\u001b[0;31mKeyboardInterrupt\u001b[0m                         Traceback (most recent call last)",
      "\u001b[0;32m~/Dropbox/Michigan/Teaching/STATS/701/f20/stats701f20/lectures/init.py\u001b[0m in \u001b[0;36m<module>\u001b[0;34m\u001b[0m\n\u001b[1;32m      5\u001b[0m     \u001b[0mmu\u001b[0m\u001b[0;34m,\u001b[0m \u001b[0msigma2\u001b[0m\u001b[0;34m,\u001b[0m \u001b[0mNa\u001b[0m\u001b[0;34m,\u001b[0m \u001b[0mr\u001b[0m\u001b[0;34m,\u001b[0m \u001b[0mt0\u001b[0m \u001b[0;34m=\u001b[0m \u001b[0mparams\u001b[0m \u001b[0;34m=\u001b[0m \u001b[0mprior\u001b[0m\u001b[0;34m(\u001b[0m\u001b[0;34m)\u001b[0m\u001b[0;34m\u001b[0m\u001b[0;34m\u001b[0m\u001b[0m\n\u001b[1;32m      6\u001b[0m     \u001b[0mt\u001b[0m \u001b[0;34m=\u001b[0m \u001b[0mt0\u001b[0m \u001b[0;34m/\u001b[0m \u001b[0;36m20.0\u001b[0m  \u001b[0;31m# g = 20\u001b[0m\u001b[0;34m\u001b[0m\u001b[0;34m\u001b[0m\u001b[0m\n\u001b[0;32m----> 7\u001b[0;31m     \u001b[0mH_star\u001b[0m \u001b[0;34m=\u001b[0m \u001b[0msim_haps\u001b[0m\u001b[0;34m(\u001b[0m\u001b[0mNa\u001b[0m\u001b[0;34m,\u001b[0m \u001b[0mt\u001b[0m\u001b[0;34m,\u001b[0m \u001b[0mr\u001b[0m\u001b[0;34m,\u001b[0m \u001b[0mmu\u001b[0m\u001b[0;34m)\u001b[0m\u001b[0;34m\u001b[0m\u001b[0;34m\u001b[0m\u001b[0m\n\u001b[0m\u001b[1;32m      8\u001b[0m     \u001b[0mS_star\u001b[0m \u001b[0;34m=\u001b[0m \u001b[0mS\u001b[0m\u001b[0;34m(\u001b[0m\u001b[0mH_star\u001b[0m\u001b[0;34m)\u001b[0m\u001b[0;34m\u001b[0m\u001b[0;34m\u001b[0m\u001b[0m\n\u001b[1;32m      9\u001b[0m     \u001b[0;32mif\u001b[0m \u001b[0mmax\u001b[0m\u001b[0;34m(\u001b[0m\u001b[0mabs\u001b[0m\u001b[0;34m(\u001b[0m\u001b[0mS_bar\u001b[0m \u001b[0;34m-\u001b[0m \u001b[0mS_star\u001b[0m\u001b[0;34m)\u001b[0m \u001b[0;34m/\u001b[0m \u001b[0mS_bar\u001b[0m\u001b[0;34m)\u001b[0m \u001b[0;34m<\u001b[0m \u001b[0;36m0.1\u001b[0m\u001b[0;34m:\u001b[0m\u001b[0;34m\u001b[0m\u001b[0;34m\u001b[0m\u001b[0m\n",
      "\u001b[0;32m~/Dropbox/Michigan/Teaching/STATS/701/f20/stats701f20/lectures/init.py\u001b[0m in \u001b[0;36msim_haps\u001b[0;34m(Na, t, r, mu)\u001b[0m\n\u001b[1;32m     11\u001b[0m     )\n\u001b[1;32m     12\u001b[0m     \u001b[0mtree\u001b[0m \u001b[0;34m=\u001b[0m \u001b[0msim\u001b[0m\u001b[0;34m.\u001b[0m\u001b[0mfirst\u001b[0m\u001b[0;34m(\u001b[0m\u001b[0;34m)\u001b[0m\u001b[0;34m\u001b[0m\u001b[0;34m\u001b[0m\u001b[0m\n\u001b[0;32m---> 13\u001b[0;31m     haps = [\n\u001b[0m\u001b[1;32m     14\u001b[0m         \u001b[0msim_ms_v4\u001b[0m\u001b[0;34m(\u001b[0m\u001b[0mtree\u001b[0m\u001b[0;34m,\u001b[0m \u001b[0mancestral_state\u001b[0m\u001b[0;34m=\u001b[0m\u001b[0maa\u001b[0m\u001b[0;34m,\u001b[0m \u001b[0mtheta\u001b[0m\u001b[0;34m=\u001b[0m\u001b[0mmu\u001b[0m\u001b[0;34m,\u001b[0m \u001b[0mM\u001b[0m\u001b[0;34m=\u001b[0m\u001b[0;36m2\u001b[0m \u001b[0;34m*\u001b[0m \u001b[0maa\u001b[0m\u001b[0;34m)\u001b[0m\u001b[0;34m\u001b[0m\u001b[0;34m\u001b[0m\u001b[0m\n\u001b[1;32m     15\u001b[0m         \u001b[0;32mfor\u001b[0m \u001b[0maa\u001b[0m \u001b[0;32min\u001b[0m \u001b[0mancestral_alleles\u001b[0m\u001b[0;34m\u001b[0m\u001b[0;34m\u001b[0m\u001b[0m\n",
      "\u001b[0;32m~/Dropbox/Michigan/Teaching/STATS/701/f20/stats701f20/lectures/init.py\u001b[0m in \u001b[0;36m<listcomp>\u001b[0;34m(.0)\u001b[0m\n\u001b[1;32m     12\u001b[0m     \u001b[0mtree\u001b[0m \u001b[0;34m=\u001b[0m \u001b[0msim\u001b[0m\u001b[0;34m.\u001b[0m\u001b[0mfirst\u001b[0m\u001b[0;34m(\u001b[0m\u001b[0;34m)\u001b[0m\u001b[0;34m\u001b[0m\u001b[0;34m\u001b[0m\u001b[0m\n\u001b[1;32m     13\u001b[0m     haps = [\n\u001b[0;32m---> 14\u001b[0;31m         \u001b[0msim_ms_v4\u001b[0m\u001b[0;34m(\u001b[0m\u001b[0mtree\u001b[0m\u001b[0;34m,\u001b[0m \u001b[0mancestral_state\u001b[0m\u001b[0;34m=\u001b[0m\u001b[0maa\u001b[0m\u001b[0;34m,\u001b[0m \u001b[0mtheta\u001b[0m\u001b[0;34m=\u001b[0m\u001b[0mmu\u001b[0m\u001b[0;34m,\u001b[0m \u001b[0mM\u001b[0m\u001b[0;34m=\u001b[0m\u001b[0;36m2\u001b[0m \u001b[0;34m*\u001b[0m \u001b[0maa\u001b[0m\u001b[0;34m)\u001b[0m\u001b[0;34m\u001b[0m\u001b[0;34m\u001b[0m\u001b[0m\n\u001b[0m\u001b[1;32m     15\u001b[0m         \u001b[0;32mfor\u001b[0m \u001b[0maa\u001b[0m \u001b[0;32min\u001b[0m \u001b[0mancestral_alleles\u001b[0m\u001b[0;34m\u001b[0m\u001b[0;34m\u001b[0m\u001b[0m\n\u001b[1;32m     16\u001b[0m     ]\n",
      "\u001b[0;32m~/Dropbox/Michigan/Teaching/STATS/701/f20/stats701f20/lectures/init.py\u001b[0m in \u001b[0;36msim_ms_v4\u001b[0;34m(tree, ancestral_state, theta, M)\u001b[0m\n\u001b[1;32m     17\u001b[0m         \u001b[0mt\u001b[0m \u001b[0;34m=\u001b[0m \u001b[0mtree\u001b[0m\u001b[0;34m.\u001b[0m\u001b[0mget_branch_length\u001b[0m\u001b[0;34m(\u001b[0m\u001b[0mnode\u001b[0m\u001b[0;34m)\u001b[0m  \u001b[0;31m# branch length from node to parent\u001b[0m\u001b[0;34m\u001b[0m\u001b[0;34m\u001b[0m\u001b[0m\n\u001b[1;32m     18\u001b[0m         \u001b[0ma\u001b[0m \u001b[0;34m=\u001b[0m \u001b[0mstates\u001b[0m\u001b[0;34m[\u001b[0m\u001b[0mtree\u001b[0m\u001b[0;34m.\u001b[0m\u001b[0mget_parent\u001b[0m\u001b[0;34m(\u001b[0m\u001b[0mnode\u001b[0m\u001b[0;34m)\u001b[0m\u001b[0;34m]\u001b[0m\u001b[0;34m\u001b[0m\u001b[0;34m\u001b[0m\u001b[0m\n\u001b[0;32m---> 19\u001b[0;31m         \u001b[0mp\u001b[0m \u001b[0;34m=\u001b[0m \u001b[0mnp\u001b[0m\u001b[0;34m.\u001b[0m\u001b[0mclip\u001b[0m\u001b[0;34m(\u001b[0m\u001b[0meQ\u001b[0m\u001b[0;34m(\u001b[0m\u001b[0mt\u001b[0m\u001b[0;34m,\u001b[0m \u001b[0ma\u001b[0m\u001b[0;34m)\u001b[0m\u001b[0;34m,\u001b[0m \u001b[0;36m0.0\u001b[0m\u001b[0;34m,\u001b[0m \u001b[0;36m1.0\u001b[0m\u001b[0;34m)\u001b[0m\u001b[0;34m\u001b[0m\u001b[0;34m\u001b[0m\u001b[0m\n\u001b[0m\u001b[1;32m     20\u001b[0m         \u001b[0mstates\u001b[0m\u001b[0;34m[\u001b[0m\u001b[0mnode\u001b[0m\u001b[0;34m]\u001b[0m \u001b[0;34m=\u001b[0m \u001b[0mnp\u001b[0m\u001b[0;34m.\u001b[0m\u001b[0mrandom\u001b[0m\u001b[0;34m.\u001b[0m\u001b[0mchoice\u001b[0m\u001b[0;34m(\u001b[0m\u001b[0mM\u001b[0m\u001b[0;34m,\u001b[0m \u001b[0mp\u001b[0m\u001b[0;34m=\u001b[0m\u001b[0mp\u001b[0m\u001b[0;34m)\u001b[0m\u001b[0;34m\u001b[0m\u001b[0;34m\u001b[0m\u001b[0m\n\u001b[1;32m     21\u001b[0m     \u001b[0;32mreturn\u001b[0m \u001b[0mstates\u001b[0m\u001b[0;34m\u001b[0m\u001b[0;34m\u001b[0m\u001b[0m\n",
      "\u001b[0;32m<__array_function__ internals>\u001b[0m in \u001b[0;36mclip\u001b[0;34m(*args, **kwargs)\u001b[0m\n",
      "\u001b[0;32m~/opt/py38/lib/python3.8/site-packages/numpy/core/fromnumeric.py\u001b[0m in \u001b[0;36mclip\u001b[0;34m(a, a_min, a_max, out, **kwargs)\u001b[0m\n\u001b[1;32m   2095\u001b[0m \u001b[0;34m\u001b[0m\u001b[0m\n\u001b[1;32m   2096\u001b[0m     \"\"\"\n\u001b[0;32m-> 2097\u001b[0;31m     \u001b[0;32mreturn\u001b[0m \u001b[0m_wrapfunc\u001b[0m\u001b[0;34m(\u001b[0m\u001b[0ma\u001b[0m\u001b[0;34m,\u001b[0m \u001b[0;34m'clip'\u001b[0m\u001b[0;34m,\u001b[0m \u001b[0ma_min\u001b[0m\u001b[0;34m,\u001b[0m \u001b[0ma_max\u001b[0m\u001b[0;34m,\u001b[0m \u001b[0mout\u001b[0m\u001b[0;34m=\u001b[0m\u001b[0mout\u001b[0m\u001b[0;34m,\u001b[0m \u001b[0;34m**\u001b[0m\u001b[0mkwargs\u001b[0m\u001b[0;34m)\u001b[0m\u001b[0;34m\u001b[0m\u001b[0;34m\u001b[0m\u001b[0m\n\u001b[0m\u001b[1;32m   2098\u001b[0m \u001b[0;34m\u001b[0m\u001b[0m\n\u001b[1;32m   2099\u001b[0m \u001b[0;34m\u001b[0m\u001b[0m\n",
      "\u001b[0;32m~/opt/py38/lib/python3.8/site-packages/numpy/core/fromnumeric.py\u001b[0m in \u001b[0;36m_wrapfunc\u001b[0;34m(obj, method, *args, **kwds)\u001b[0m\n\u001b[1;32m     56\u001b[0m \u001b[0;34m\u001b[0m\u001b[0m\n\u001b[1;32m     57\u001b[0m     \u001b[0;32mtry\u001b[0m\u001b[0;34m:\u001b[0m\u001b[0;34m\u001b[0m\u001b[0;34m\u001b[0m\u001b[0m\n\u001b[0;32m---> 58\u001b[0;31m         \u001b[0;32mreturn\u001b[0m \u001b[0mbound\u001b[0m\u001b[0;34m(\u001b[0m\u001b[0;34m*\u001b[0m\u001b[0margs\u001b[0m\u001b[0;34m,\u001b[0m \u001b[0;34m**\u001b[0m\u001b[0mkwds\u001b[0m\u001b[0;34m)\u001b[0m\u001b[0;34m\u001b[0m\u001b[0;34m\u001b[0m\u001b[0m\n\u001b[0m\u001b[1;32m     59\u001b[0m     \u001b[0;32mexcept\u001b[0m \u001b[0mTypeError\u001b[0m\u001b[0;34m:\u001b[0m\u001b[0;34m\u001b[0m\u001b[0;34m\u001b[0m\u001b[0m\n\u001b[1;32m     60\u001b[0m         \u001b[0;31m# A TypeError occurs if the object does have such a method in its\u001b[0m\u001b[0;34m\u001b[0m\u001b[0;34m\u001b[0m\u001b[0;34m\u001b[0m\u001b[0m\n",
      "\u001b[0;31mKeyboardInterrupt\u001b[0m: "
     ]
    },
    {
     "data": {
      "application/javascript": [
       "\n",
       "            setTimeout(function() {\n",
       "                var nbb_cell_id = 625;\n",
       "                var nbb_unformatted_code = \"accepted = []\\nS_bar = S(H)\\n\\nwhile len(accepted) < 10 ** 3:\\n    mu, sigma2, Na, r, t0 = params = prior()\\n    t = t0 / 20.0  # g = 20\\n    H_star = sim_haps(Na, t, r, mu)\\n    S_star = S(H_star)\\n    if max(abs(S_bar - S_star) / S_bar) < 0.1:\\n        accepted.append(params)\\n        print(len(accepted))\";\n",
       "                var nbb_formatted_code = \"accepted = []\\nS_bar = S(H)\\n\\nwhile len(accepted) < 10 ** 3:\\n    mu, sigma2, Na, r, t0 = params = prior()\\n    t = t0 / 20.0  # g = 20\\n    H_star = sim_haps(Na, t, r, mu)\\n    S_star = S(H_star)\\n    if max(abs(S_bar - S_star) / S_bar) < 0.1:\\n        accepted.append(params)\\n        print(len(accepted))\";\n",
       "                var nbb_cells = Jupyter.notebook.get_cells();\n",
       "                for (var i = 0; i < nbb_cells.length; ++i) {\n",
       "                    if (nbb_cells[i].input_prompt_number == nbb_cell_id) {\n",
       "                        if (nbb_cells[i].get_text() == nbb_unformatted_code) {\n",
       "                             nbb_cells[i].set_text(nbb_formatted_code);\n",
       "                        }\n",
       "                        break;\n",
       "                    }\n",
       "                }\n",
       "            }, 500);\n",
       "            "
      ],
      "text/plain": [
       "<IPython.core.display.Javascript object>"
      ]
     },
     "metadata": {},
     "output_type": "display_data"
    }
   ],
   "source": [
    "accepted = []\n",
    "S_bar = S(H)\n",
    "\n",
    "while len(accepted) < 10 ** 3:\n",
    "    mu, sigma2, Na, r, t0 = params = prior()\n",
    "    t = t0 / 20.0  # g = 20\n",
    "    H_star = sim_haps(Na, t, r, mu)\n",
    "    S_star = S(H_star)\n",
    "    if max(abs(S_bar - S_star) / S_bar) < 0.1:\n",
    "        accepted.append(params)\n",
    "        print(len(accepted))"
   ]
  },
  {
   "cell_type": "markdown",
   "metadata": {},
   "source": [
    "## Subpopulation analysis"
   ]
  },
  {
   "cell_type": "code",
   "execution_count": 311,
   "metadata": {},
   "outputs": [
    {
     "name": "stdout",
     "output_type": "stream",
     "text": [
      "East/Central Africa (EAFR) (113): Bench (8), Berta (8), CAR Pygmy (20), Dasenech (5), Dizi (4), Hamar (5), Konso (8), Majangir (10), Lissongo (4), Nyangatom (11), Ongota (9), Surma (11), Tsamako (5), Zaire Pygmy (5)\n",
      "East/Central Africa (EAFR) (113)\n",
      " Southern Africa (SAFR) (85): San (29), Sotho (17), Swazi (5), Tswana (12), Xhosa (7), Zulu (15)\n",
      "Southern Africa (SAFR) (85)\n",
      " Western Africa (WAFR) (31): Bozo (4), Dogon (7), Peulh (6), Songhai (5), Tuareg (9).\n",
      "Western Africa (WAFR) (31)\n",
      "Non-Africans (NonAFR) (216): Americas (AMER) (40): Colombia (5), Karitiana (9), Maya (7), Moskoke (3), Quechua (4), Surui (4), Ticuna (8)\n"
     ]
    },
    {
     "ename": "ValueError",
     "evalue": "too many values to unpack (expected 2)",
     "output_type": "error",
     "traceback": [
      "\u001b[0;31m---------------------------------------------------------------------------\u001b[0m",
      "\u001b[0;31mValueError\u001b[0m                                Traceback (most recent call last)",
      "\u001b[0;32m~/Dropbox/Michigan/Teaching/STATS/701/f20/stats701f20/lectures/init.py\u001b[0m in \u001b[0;36m<module>\u001b[0;34m\u001b[0m\n\u001b[1;32m      8\u001b[0m     \u001b[0;32mfor\u001b[0m \u001b[0msubpop\u001b[0m \u001b[0;32min\u001b[0m \u001b[0msuperpop\u001b[0m\u001b[0;34m.\u001b[0m\u001b[0msplit\u001b[0m\u001b[0;34m(\u001b[0m\u001b[0;34m\";\"\u001b[0m\u001b[0;34m)\u001b[0m\u001b[0;34m:\u001b[0m\u001b[0;34m\u001b[0m\u001b[0;34m\u001b[0m\u001b[0m\n\u001b[1;32m      9\u001b[0m         \u001b[0mprint\u001b[0m\u001b[0;34m(\u001b[0m\u001b[0msubpop\u001b[0m\u001b[0;34m)\u001b[0m\u001b[0;34m\u001b[0m\u001b[0;34m\u001b[0m\u001b[0m\n\u001b[0;32m---> 10\u001b[0;31m         \u001b[0mlabel\u001b[0m\u001b[0;34m,\u001b[0m \u001b[0mpops\u001b[0m \u001b[0;34m=\u001b[0m \u001b[0msubpop\u001b[0m\u001b[0;34m.\u001b[0m\u001b[0mstrip\u001b[0m\u001b[0;34m(\u001b[0m\u001b[0;34m\".\\n \"\u001b[0m\u001b[0;34m)\u001b[0m\u001b[0;34m.\u001b[0m\u001b[0msplit\u001b[0m\u001b[0;34m(\u001b[0m\u001b[0;34m\":\"\u001b[0m\u001b[0;34m)\u001b[0m\u001b[0;34m\u001b[0m\u001b[0;34m\u001b[0m\u001b[0m\n\u001b[0m\u001b[1;32m     11\u001b[0m         \u001b[0mprint\u001b[0m\u001b[0;34m(\u001b[0m\u001b[0mlabel\u001b[0m\u001b[0;34m)\u001b[0m\u001b[0;34m\u001b[0m\u001b[0;34m\u001b[0m\u001b[0m\n",
      "\u001b[0;31mValueError\u001b[0m: too many values to unpack (expected 2)"
     ]
    },
    {
     "data": {
      "application/javascript": [
       "\n",
       "            setTimeout(function() {\n",
       "                var nbb_cell_id = 311;\n",
       "                var nbb_unformatted_code = \"## parse populations, the lazy way!\\ntext = \\\"\\\"\\\"\\nEast/Central Africa (EAFR) (113): Bench (8), Berta (8), CAR Pygmy (20), Dasenech (5), Dizi (4), Hamar (5), Konso (8), Majangir (10), Lissongo (4), Nyangatom (11), Ongota (9), Surma (11), Tsamako (5), Zaire Pygmy (5); Southern Africa (SAFR) (85): San (29), Sotho (17), Swazi (5), Tswana (12), Xhosa (7), Zulu (15); Western Africa (WAFR) (31): Bozo (4), Dogon (7), Peulh (6), Songhai (5), Tuareg (9).\\nNon-Africans (NonAFR) (216): Americas (AMER) (40): Colombia (5), Karitiana (9), Maya (7), Moskoke (3), Quechua (4), Surui (4), Ticuna (8); East Asia (EAS- IA) (46): Cambodia (16), China (4), Japan (10), Taiwan (15), Okinawa (1); Europe (EUR) (46): Basque (27), Catalan (14), Italian (2), German (3); Oceania (OCEAN) (24): Australia (6), Melanesia (6), New Guinea (12); West Asia (WASIA) (60): Baluchi (6), Brahui (6), Burushaski (24), Pathan (9), Sindhi (15).\\n\\\"\\\"\\\"\\n\\nfor superpop in text.strip().split(\\\"\\\\n\\\"):\\n    for subpop in superpop.split(\\\";\\\"):\\n        print(subpop)\\n        label, pops = subpop.strip(\\\".\\\\n \\\").split(\\\":\\\")\\n        print(label)\";\n",
       "                var nbb_formatted_code = \"## parse populations, the lazy way!\\ntext = \\\"\\\"\\\"\\nEast/Central Africa (EAFR) (113): Bench (8), Berta (8), CAR Pygmy (20), Dasenech (5), Dizi (4), Hamar (5), Konso (8), Majangir (10), Lissongo (4), Nyangatom (11), Ongota (9), Surma (11), Tsamako (5), Zaire Pygmy (5); Southern Africa (SAFR) (85): San (29), Sotho (17), Swazi (5), Tswana (12), Xhosa (7), Zulu (15); Western Africa (WAFR) (31): Bozo (4), Dogon (7), Peulh (6), Songhai (5), Tuareg (9).\\nNon-Africans (NonAFR) (216): Americas (AMER) (40): Colombia (5), Karitiana (9), Maya (7), Moskoke (3), Quechua (4), Surui (4), Ticuna (8); East Asia (EAS- IA) (46): Cambodia (16), China (4), Japan (10), Taiwan (15), Okinawa (1); Europe (EUR) (46): Basque (27), Catalan (14), Italian (2), German (3); Oceania (OCEAN) (24): Australia (6), Melanesia (6), New Guinea (12); West Asia (WASIA) (60): Baluchi (6), Brahui (6), Burushaski (24), Pathan (9), Sindhi (15).\\n\\\"\\\"\\\"\\n\\nfor superpop in text.strip().split(\\\"\\\\n\\\"):\\n    for subpop in superpop.split(\\\";\\\"):\\n        print(subpop)\\n        label, pops = subpop.strip(\\\".\\\\n \\\").split(\\\":\\\")\\n        print(label)\";\n",
       "                var nbb_cells = Jupyter.notebook.get_cells();\n",
       "                for (var i = 0; i < nbb_cells.length; ++i) {\n",
       "                    if (nbb_cells[i].input_prompt_number == nbb_cell_id) {\n",
       "                        if (nbb_cells[i].get_text() == nbb_unformatted_code) {\n",
       "                             nbb_cells[i].set_text(nbb_formatted_code);\n",
       "                        }\n",
       "                        break;\n",
       "                    }\n",
       "                }\n",
       "            }, 500);\n",
       "            "
      ],
      "text/plain": [
       "<IPython.core.display.Javascript object>"
      ]
     },
     "metadata": {},
     "output_type": "display_data"
    }
   ],
   "source": [
    "## parse populations, the lazy way!\n",
    "text = \"\"\"\n",
    "East/Central Africa (EAFR) (113): Bench (8), Berta (8), CAR Pygmy (20), Dasenech (5), Dizi (4), Hamar (5), Konso (8), Majangir (10), Lissongo (4), Nyangatom (11), Ongota (9), Surma (11), Tsamako (5), Zaire Pygmy (5); Southern Africa (SAFR) (85): San (29), Sotho (17), Swazi (5), Tswana (12), Xhosa (7), Zulu (15); Western Africa (WAFR) (31): Bozo (4), Dogon (7), Peulh (6), Songhai (5), Tuareg (9).\n",
    "Non-Africans (NonAFR) (216): Americas (AMER) (40): Colombia (5), Karitiana (9), Maya (7), Moskoke (3), Quechua (4), Surui (4), Ticuna (8); East Asia (EAS- IA) (46): Cambodia (16), China (4), Japan (10), Taiwan (15), Okinawa (1); Europe (EUR) (46): Basque (27), Catalan (14), Italian (2), German (3); Oceania (OCEAN) (24): Australia (6), Melanesia (6), New Guinea (12); West Asia (WASIA) (60): Baluchi (6), Brahui (6), Burushaski (24), Pathan (9), Sindhi (15).\n",
    "\"\"\"\n",
    "\n",
    "for superpop in text.strip().split(\"\\n\"):\n",
    "    for subpop in superpop.split(\";\"):\n",
    "        print(subpop)\n",
    "        label, pops = subpop.strip(\".\\n \").split(\":\")\n",
    "        print(label)"
   ]
  }
 ],
 "metadata": {
  "celltoolbar": "Slideshow",
  "kernelspec": {
   "display_name": "Python 3",
   "language": "python",
   "name": "python3"
  },
  "language_info": {
   "codemirror_mode": {
    "name": "ipython",
    "version": 3
   },
   "file_extension": ".py",
   "mimetype": "text/x-python",
   "name": "python",
   "nbconvert_exporter": "python",
   "pygments_lexer": "ipython3",
   "version": "3.8.6"
  }
 },
 "nbformat": 4,
 "nbformat_minor": 4
}
