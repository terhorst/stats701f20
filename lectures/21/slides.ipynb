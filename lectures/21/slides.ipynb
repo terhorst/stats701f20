{
 "cells": [
  {
   "cell_type": "markdown",
   "metadata": {
    "slideshow": {
     "slide_type": "slide"
    }
   },
   "source": [
    "# Lecture 20\n",
    "## Phylodynamics of Infectious Disease Epidemics\n",
    "### Zhe Zhao"
   ]
  },
  {
   "cell_type": "markdown",
   "metadata": {
    "slideshow": {
     "slide_type": "slide"
    }
   },
   "source": [
    "## Backgroud\n",
    "### Infectious disease\n",
    "1. Infectious rate\n",
    "2. Recovery rate\n",
    "3. Number of infection events at time t\n",
    "\n",
    "The first two questions are concerns for epidemiology model, and the last question relates to the coalescence model."
   ]
  },
  {
   "cell_type": "markdown",
   "metadata": {
    "slideshow": {
     "slide_type": "slide"
    }
   },
   "source": [
    "## SIR Model\n",
    "Consider a population $N$, consists of\n",
    "1. susceptible group $\\mathcal{S}$, assume $S = |\\mathcal{S}|/N$\n",
    "2. Infected group $\\mathcal{I}$, assume $I = |\\mathcal{I}|/N$\n",
    "3. Recovered group $\\mathcal{R}$, assume $R = |\\mathcal{R}|/N$\n",
    "The dynamics of above groups across time $t$ are:\n",
    "1. $f_{SI}(t)=\\beta S(t)I(t)$, $\\beta$ is the infection rate for each individual in $I$\n",
    "2. $f_{IR}(t)=\\gamma I(t)$, $\\gamma$ is the the recovery rate"
   ]
  },
  {
   "cell_type": "markdown",
   "metadata": {
    "slideshow": {
     "slide_type": "slide"
    }
   },
   "source": [
    "## Coalescent Rate\n",
    "The coalescent events in the geneaology correspond to birth (transmission) event between hosts. \n",
    "- $A(t)$ is the number of lineages at time $t$\n",
    "- Probability of a transmission event coalesce is ${A(t) \\choose 2}/{I(t) \\choose 2}\\approx{2{A(t) \\choose 2}/{I^2(t)}}$\n",
    "- Note that it's the coalescence among transmission events. The probability of transmission is $f_{SI}(t)$\n",
    "- Above yields the coalescent rate for $A(t)$ extant lineages: \n",
    "\n",
    "$$\\lambda_A(t)={A(t) \\choose 2}\\frac{2f_{SI}(t)}{I^2(t)}$$"
   ]
  },
  {
   "cell_type": "markdown",
   "metadata": {
    "slideshow": {
     "slide_type": "slide"
    }
   },
   "source": [
    "## Coalescent Likelihoods\n",
    "Given the genealogy, we partition the genealogy by $\\Delta{t}$ time step interval. We calculate the likelihood over each interval and multiply them together. \n",
    "- Assume $t=1$ denote the most ancient time, and $t=T$ denote the sampling events time\n",
    "- The total number of coalescent events observed is porprotional to the total number of lineages. Assume $1\\lt\\tau\\lt{T}$, the fraction of coalescent events happened is:\n",
    "$$F(\\tau)=\\frac{A(1)-A(\\tau)}{A(1)-A(T)}$$"
   ]
  },
  {
   "cell_type": "markdown",
   "metadata": {
    "slideshow": {
     "slide_type": "slide"
    }
   },
   "source": [
    "## Coalescent Likelihoods\n",
    "The desity function is therefore:\n",
    "$$\\frac{dF}{dt}=-\\frac{A'}{A(1)-A(T)}$$\n",
    "\n",
    "Suppose we subdivide the genealogy into $n$ intervals, $\\tau = t_i$, where $i = 1, 2, ..., n-1$. The log likelihood of coalesent events given a geneaolgy is:\n",
    "\n",
    "$$\n",
    "\\begin{aligned}\n",
    "\\ell(t_1,...,t_{n-1}|\\theta) &= \\sum_{i=1}^{n-1}log(-\\frac{A'(t_i)}{A(1)-A(T)})\\\\\n",
    " &= -(n-1)log(A(1)-A(T))+\\sum_{i=1}^{n-1}{log(A'(t_i))}\n",
    "\\end{aligned}\n",
    "$$\n",
    "\n",
    "$\\theta$ denotes the parameters from SIR model. We link the SIR model and coalescent model through the term $A'(t_i)$"
   ]
  },
  {
   "cell_type": "markdown",
   "metadata": {
    "slideshow": {
     "slide_type": "slide"
    }
   },
   "source": [
    "## Comparison with Skyline Estimations\n",
    "The coalescent rate of a transimmision event under skyline model is $\\lambda'_2(t)=1/I(t)$\n",
    "\n",
    "The coalescent rate for two extant lineages for SIR model: $\\lambda_2(t)=\\frac{2S\\beta}{I^{1-\\alpha}(t)}$, where $\\alpha$ is a growth factor. When $\\alpha$ is 0, the population grows exponentially and the $\\lambda_2(t)$ is the one we estimated from the standard SIR model\n",
    "\n",
    "The ratio between two coalescent rates is: $r_{\\lambda}=2\\beta{S}\\frac{1}{I^{-\\alpha}(t)}$\n",
    "\n",
    "We wanna see if the skyline coalescent rate is linear to the SIR coalescent rate."
   ]
  },
  {
   "cell_type": "markdown",
   "metadata": {
    "slideshow": {
     "slide_type": "slide"
    }
   },
   "source": [
    "## Comparison with Skyline Estimations\n",
    "\n",
    "At the early stage of the pandemic, $S\\approx1$ and if $\\alpha = 0$, the ratio $r_{\\lambda}\\approx{2\\beta}$. The ratio $r_{\\lambda}$ does not depend on $I(t)$ and it corresponds to $S$ after being normalized.\n",
    "\n",
    "If $\\alpha\\gt{0}$, the population is growing faster than exponential (FTE), and the ratio $r_{\\lambda}$ will increase with the $I(t)$.\n",
    "\n",
    "If $\\alpha\\lt{0}$, the population is growing slower than exponential (STE), and the ratio $r_{\\lambda}$ will decrease with the $I(t)$."
   ]
  },
  {
   "cell_type": "markdown",
   "metadata": {
    "slideshow": {
     "slide_type": "slide"
    }
   },
   "source": [
    "![figure 1](figures/figure_1.png)"
   ]
  },
  {
   "cell_type": "markdown",
   "metadata": {
    "slideshow": {
     "slide_type": "slide"
    }
   },
   "source": [
    "## Comparison with Skyline Estimations\n",
    "The author simulated geneologies for exponential growing and FTE population. \n",
    "\n",
    "Skyline estimation for $N_e$ during the interval of $\\Delta{t}$ is $\\hat{N_e}=\\Delta{t}{A(t) \\choose 2}$, which is estimating the harmonic mean of $N_e$. If the coalescent rate is $\\lambda_A(t)$, $\\hat{N_e}$ is actually estimating $\\frac{I^{1-\\alpha}}{2\\beta}$\n",
    "\n",
    "If $\\alpha = 0$, when there is exponential growth, $\\hat{N_e}(t)$ is linear realated to $I(t)$ by scale $\\frac{1}{2\\beta}$;\n",
    "\n",
    "If $\\alpha \\gt 0$, $\\hat{N_e}(t)$ will underestimate the the population size at time t since $\\lambda_2\\gt\\lambda^{'}_2$\n"
   ]
  },
  {
   "cell_type": "markdown",
   "metadata": {
    "slideshow": {
     "slide_type": "slide"
    }
   },
   "source": [
    "![figure 2](figures/figure2.png)"
   ]
  },
  {
   "cell_type": "markdown",
   "metadata": {
    "slideshow": {
     "slide_type": "slide"
    }
   },
   "source": [
    "## Detect the exponential growth\n",
    "$A(t)$ is also called the number of lineages as a function of time (NLFT).\n",
    "\n",
    "$$\n",
    "\\frac{d}{dt}A(t)=-\\lambda_{A}=-{A(t) \\choose 2}\\frac{2f(t)}{I^2(t)}\n",
    "$$\n",
    "\n",
    "If we only consider the pure birth process with $\\frac{d}{dt}I(t)=\\beta I^{1-\\alpha}(t)$, the above formula can be calculated by: \n",
    "\n",
    "$$\n",
    "\\frac{d}{dt}A(t)={-{A(t) \\choose 2}\\frac{2\\beta}{I^{1-\\alpha}(t)}}\n",
    "$$\n"
   ]
  },
  {
   "cell_type": "markdown",
   "metadata": {
    "slideshow": {
     "slide_type": "slide"
    }
   },
   "source": [
    "## Detect the exponential growth\n",
    "Solve the differential equation in the previous slide, we have:\n",
    "\n",
    "$$\n",
    "A(t)=\\frac{I(0)A(0)}{I(0)+A(0)(e^{t\\beta}-1)}\n",
    "$$\n",
    "\n",
    "define the inverse function $m(A)$ by solving $A(t)$ for $t$:\n",
    "\n",
    "$$\n",
    "m(A)=\\frac{1}{\\beta}log(1+I(0)\\frac{A(0)-A(t)}{A(0)A(t)})\n",
    "$$\n",
    "\n",
    "Plot $m(A)$ against $t$ to see if they have linear relation."
   ]
  },
  {
   "cell_type": "markdown",
   "metadata": {
    "slideshow": {
     "slide_type": "slide"
    }
   },
   "source": [
    "## Extension to Structured Population\n",
    "### Two population SIR model:\n",
    "![formula1](figures/formula1.png)"
   ]
  },
  {
   "cell_type": "markdown",
   "metadata": {
    "slideshow": {
     "slide_type": "slide"
    }
   },
   "source": [
    "## Extension to Structured Population\n",
    "### Two population SIR model:\n",
    "![figure3](figures/figure3.png)"
   ]
  },
  {
   "cell_type": "markdown",
   "metadata": {
    "slideshow": {
     "slide_type": "slide"
    }
   },
   "source": [
    "## HIV Data\n",
    "The dataset contains 437 HIV-1 subtype B sequences collected from 2004 and 2011 in Detroit, Michigan. The goal is to estimate transmission rates at three-stages $\\beta_E$, $\\beta_C$, $\\beta_A$, and the incidence scailing parameter $\\alpha$\n",
    "\n",
    "The author reconstructed time-scaled genealogies in BEAST using a relaxed molecular clock. Then the SIR model is fitted to 10 genealogies to take into account uncertainties. The particle marginal Metropolis-Hastings (PMMH) algorithm was run to estimate the posterior of the parameters.\n",
    "\n",
    "The key question is that to what extent that the early-stage transmission rate affect the overall HIV incidence. Whether most new cases of HIV resulted from recently infected people. "
   ]
  },
  {
   "cell_type": "markdown",
   "metadata": {
    "slideshow": {
     "slide_type": "slide"
    }
   },
   "source": [
    "![figure4](figures/figure4.png)"
   ]
  }
 ],
 "metadata": {
  "celltoolbar": "Slideshow",
  "kernelspec": {
   "display_name": "Python 3",
   "language": "python",
   "name": "python3"
  },
  "language_info": {
   "codemirror_mode": {
    "name": "ipython",
    "version": 3
   },
   "file_extension": ".py",
   "mimetype": "text/x-python",
   "name": "python",
   "nbconvert_exporter": "python",
   "pygments_lexer": "ipython3",
   "version": "3.8.6"
  }
 },
 "nbformat": 4,
 "nbformat_minor": 4
}
