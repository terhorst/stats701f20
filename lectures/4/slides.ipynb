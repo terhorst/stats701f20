{
 "cells": [
  {
   "cell_type": "code",
   "execution_count": 136,
   "metadata": {
    "slideshow": {
     "slide_type": "notes"
    }
   },
   "outputs": [
    {
     "name": "stdout",
     "output_type": "stream",
     "text": [
      "The nb_black extension is already loaded. To reload it, use:\n",
      "  %reload_ext nb_black\n"
     ]
    },
    {
     "data": {
      "application/javascript": [
       "\n",
       "            setTimeout(function() {\n",
       "                var nbb_cell_id = 136;\n",
       "                var nbb_unformatted_code = \"%load_ext nb_black\\nimport matplotlib.pyplot as plt\\nfrom IPython.display import set_matplotlib_formats\\n\\n%matplotlib inline\\nset_matplotlib_formats(\\\"png\\\")\\nplt.style.use(\\\"seaborn-white\\\")\\nimport numpy as np\\nimport seaborn as sns\\nfrom IPython.display import SVG\";\n",
       "                var nbb_formatted_code = \"%load_ext nb_black\\nimport matplotlib.pyplot as plt\\nfrom IPython.display import set_matplotlib_formats\\n\\n%matplotlib inline\\nset_matplotlib_formats(\\\"png\\\")\\nplt.style.use(\\\"seaborn-white\\\")\\nimport numpy as np\\nimport seaborn as sns\\nfrom IPython.display import SVG\";\n",
       "                var nbb_cells = Jupyter.notebook.get_cells();\n",
       "                for (var i = 0; i < nbb_cells.length; ++i) {\n",
       "                    if (nbb_cells[i].input_prompt_number == nbb_cell_id) {\n",
       "                        if (nbb_cells[i].get_text() == nbb_unformatted_code) {\n",
       "                             nbb_cells[i].set_text(nbb_formatted_code);\n",
       "                        }\n",
       "                        break;\n",
       "                    }\n",
       "                }\n",
       "            }, 500);\n",
       "            "
      ],
      "text/plain": [
       "<IPython.core.display.Javascript object>"
      ]
     },
     "metadata": {},
     "output_type": "display_data"
    }
   ],
   "source": [
    "%load_ext nb_black\n",
    "import matplotlib.pyplot as plt\n",
    "from IPython.display import set_matplotlib_formats\n",
    "\n",
    "%matplotlib inline\n",
    "set_matplotlib_formats(\"png\")\n",
    "plt.style.use(\"seaborn-white\")\n",
    "import numpy as np\n",
    "import seaborn as sns\n",
    "from IPython.display import SVG"
   ]
  },
  {
   "cell_type": "markdown",
   "metadata": {
    "slideshow": {
     "slide_type": "slide"
    }
   },
   "source": [
    "# Lecture 4\n",
    "\n",
    "Ewen's sampling formula has one parameter $\\theta$. What is $\\theta$ and how do we estimate it?\n",
    "\n",
    "Let $K_n=\\sum_{i=1}^n a_i$ be the number of different alleles found in the sample.\n",
    "\n",
    "**Theorem**. $\\mathbb{E}K_n \\sim \\theta \\log n$ and $\\operatorname{Var} K_n \\sim \\theta \\log n$.\n",
    "\n",
    "Here, I used the notation $\\sim$ to \"asymptotic to\", i.e. $a_n\\sim b_n \\iff \\lim_n a_n / b_n = 1$."
   ]
  },
  {
   "cell_type": "markdown",
   "metadata": {
    "slideshow": {
     "slide_type": "slide"
    }
   },
   "source": [
    "*Proof*. Thinking back to Hoppe's urn, $K_n$ is the number of times that we add a new colored ball. Let $\\eta_i=1$ if the $i$th ball added is of a new color, so $$\\mathbb{E}K_n=\\sum_{i=1}^n \\mathbb{E} \\eta_i = \\sum_{i=1}^n \\mathbb{P}(\\eta_i=1).$$"
   ]
  },
  {
   "cell_type": "markdown",
   "metadata": {
    "slideshow": {
     "slide_type": "slide"
    }
   },
   "source": [
    "From the definition of the urn, we know that $\\mathbb{P}(\\eta_i=1)=\\theta/(\\theta+i-1)$. Thus, $$\\mathbb{E}K_n = \\theta \\sum_{i=1}^n \\frac{1}{\\theta+i-1}.$$ This sum is  $$\\approx \\int_\\theta^{\\theta+n}\\frac{dx}{x} = \\log(\\theta+n)-\\log(\\theta) \\sim \\log n.$$\n",
    "\n"
   ]
  },
  {
   "cell_type": "markdown",
   "metadata": {
    "slideshow": {
     "slide_type": "notes"
    }
   },
   "source": [
    "The variance computation is similar: since the $\\eta_i$ are independent,\n",
    "$$\\operatorname{Var}K_n = \\sum_{i=1}^n \\operatorname{Var}\\eta_i = \\theta \\sum_{i=1}^n \\frac{i-1}{(\\theta+i-1)^2}=\\theta \\sum_{i=1}^n \\frac{1}{\\theta+i-1}[1+o(1)],$$\n",
    "so $\\operatorname{Var}K_n \\sim \\theta \\log n$ as well."
   ]
  },
  {
   "cell_type": "markdown",
   "metadata": {
    "slideshow": {
     "slide_type": "slide"
    }
   },
   "source": [
    "## Watterson's estimator\n",
    "\n",
    "Hence, $K_n/\\log n$ is an unbiased estimator of $\\theta$, known as *Watterson's* estimator after its discoverer  and in fact it's asymptotically normal (by the Lindeberg-Feller CLT). But the asymptotic s.d. of $K_n/\\log n$ is $1/\\sqrt{\\log n}$, which is much larger than the $1/\\sqrt{n}$ rate we would like."
   ]
  },
  {
   "cell_type": "markdown",
   "metadata": {
    "slideshow": {
     "slide_type": "notes"
    }
   },
   "source": [
    "$K_n$ is a moment estimator. You might think we could do better by using the full distribution of $\\mathbf{a}$, i.e. by maximizing $\\mathbb{P}_\\theta(\\mathbf{a})$ using Ewen's formula. However, it turns out that $K_n$ is sufficient for $\\theta$, so $\\mathbf{a}$ contains no additional information about $\\theta$ once you condition on its sum. See Durrett §1.3.2 for details."
   ]
  },
  {
   "cell_type": "markdown",
   "metadata": {
    "slideshow": {
     "slide_type": "slide"
    }
   },
   "source": [
    "## Estimating $\\theta$ in humans\n",
    "Now we are going to estimate $\\theta$ using real data on humans. Recall from the last lecture that $\\theta/2$ is the rate at which mutations occur in our coalescent process. Since we are scaling time in units of $2N$, where $N$ is the population size, we have that $\\theta/2 = 2N\\mu$, where $\\mu$ is the number of mutations that occur each generation. From other biological evidence, we know that $\\mu \\approx 1.25\\times 10^{-8}$ per nucleotide. So, by estimating $\\theta$, we can estimate $\\hat{N} = \\hat{\\theta} / (4 \\times \\mu)$."
   ]
  },
  {
   "cell_type": "markdown",
   "metadata": {
    "slideshow": {
     "slide_type": "notes"
    }
   },
   "source": [
    "In the process of estimating $\\theta$, we will learn how to load and examine human data.\n",
    "The data set we will use is a great resource called the [1000 Genomes Project](https://www.internationalgenome.org). This is a public dataset of almost 3,000 genomes collected from people around the world."
   ]
  },
  {
   "cell_type": "markdown",
   "metadata": {
    "slideshow": {
     "slide_type": "slide"
    }
   },
   "source": [
    "### The raw data\n",
    "For our purposes, the raw data consists of the gene sequences for each person, something like this:\n",
    "\n",
    "    > JonathanTerhorst ACGTGCAGTGCTAGCAGCATGACCTTA...\n",
    "    > CalebKi          ACGTGCAGTGCTAGCAGCGTGACCTTA...\n",
    "    > EnesDilber       ACGTGCCGTGCAAGCAGCCTGACCTTA...\n",
    "    > RogerFederer     ACGTGCAGTGCAAGCAGCATGACCTTA...\n",
    "    \n",
    "Each string would have about 3.3 billion characters."
   ]
  },
  {
   "cell_type": "markdown",
   "metadata": {
    "slideshow": {
     "slide_type": "notes"
    }
   },
   "source": [
    "However, this is a very wasteful way to represent the data. You'll notice that the sequences are all identical except in a few positions. In real data, people are only different in about 1 out of every 1,000 positions. So we're 99.9% genetically similar."
   ]
  },
  {
   "cell_type": "markdown",
   "metadata": {
    "slideshow": {
     "slide_type": "slide"
    }
   },
   "source": [
    "For this reason, scientists have created a human [\"reference\" sequence](https://www.ncbi.nlm.nih.gov/genome/guide/human/), which is a \"typical\" sequence share by most humans. To exchange data, we just need to track the differences (called *variants*) between an individual genome and the reference sequence."
   ]
  },
  {
   "cell_type": "markdown",
   "metadata": {
    "slideshow": {
     "slide_type": "slide"
    }
   },
   "source": [
    "### Aside: Reference bias\n",
    "The original human reference sequence was created from 13 anonymous donors living in Buffalo, NY, with most of it coming from one person. So, the reference sequence is biased towards people of European ancestry. This has created equity issues in genetics. For example, bioinformatics tools which rely on the reference sequence don't work as well when applied to data from people of African descent. See for example [this paper](https://www.nature.com/articles/s41588-018-0273-y)."
   ]
  },
  {
   "cell_type": "markdown",
   "metadata": {
    "slideshow": {
     "slide_type": "slide"
    }
   },
   "source": [
    "### VCF format\n",
    "The predominant method for exchanging genetic data is the VCF format. Essentially this a big tab-separated spreadsheet. Each row corresponds to a genetic variant, and the columns contain metadata, plus the genotypes of the samples."
   ]
  },
  {
   "cell_type": "markdown",
   "metadata": {
    "slideshow": {
     "slide_type": "notes"
    }
   },
   "source": [
    "Here is one row of the data:"
   ]
  },
  {
   "cell_type": "code",
   "execution_count": 1,
   "metadata": {},
   "outputs": [
    {
     "name": "stdout",
     "output_type": "stream",
     "text": [
      "1\t100000012\trs10875231\tG\tT\t100\tPASS\tAC=0;AF=0.301118;AN=2;NS=2504;DP=17508;EAS_AF=0.3224;AMR_AF=0.2478;AFR_AF=0.3691;EUR_AF=0.2465;SAS_AF=0.2812;AA=G|||;VT=SNP\tGT\t0|0\n",
      "\n",
      "chrom:1 ref:G alt:['T'] gts:[[0, 0, True]]\n"
     ]
    }
   ],
   "source": [
    "import cyvcf2\n",
    "\n",
    "v = next(cyvcf2.VCF(\"na12878.bcf\"))\n",
    "print(v)\n",
    "print(f\"chrom:{v.CHROM} ref:{v.REF} alt:{v.ALT} gts:{v.genotypes}\")"
   ]
  },
  {
   "cell_type": "markdown",
   "metadata": {
    "slideshow": {
     "slide_type": "slide"
    }
   },
   "source": [
    "## A better format\n",
    "VCF is a legacy format which is somewhat inefficient. To represent all the data for a chromosome takes:"
   ]
  },
  {
   "cell_type": "code",
   "execution_count": 168,
   "metadata": {},
   "outputs": [
    {
     "name": "stdout",
     "output_type": "stream",
     "text": [
      "-rw-rw-r-- 1 terhorst research 1007M Aug 10 12:48 /scratch/1kg/bcfs/ALL.chr1.phase3_shapeit2_mvncall_integrated_v5a.20130502.genotypes.bcf\r\n"
     ]
    },
    {
     "data": {
      "application/javascript": [
       "\n",
       "            setTimeout(function() {\n",
       "                var nbb_cell_id = 168;\n",
       "                var nbb_unformatted_code = \"!ls -lh /scratch/1kg/bcfs/ALL.chr1.phase3_shapeit2_mvncall_integrated_v5a.20130502.genotypes.bcf\";\n",
       "                var nbb_formatted_code = \"!ls -lh /scratch/1kg/bcfs/ALL.chr1.phase3_shapeit2_mvncall_integrated_v5a.20130502.genotypes.bcf\";\n",
       "                var nbb_cells = Jupyter.notebook.get_cells();\n",
       "                for (var i = 0; i < nbb_cells.length; ++i) {\n",
       "                    if (nbb_cells[i].input_prompt_number == nbb_cell_id) {\n",
       "                        if (nbb_cells[i].get_text() == nbb_unformatted_code) {\n",
       "                             nbb_cells[i].set_text(nbb_formatted_code);\n",
       "                        }\n",
       "                        break;\n",
       "                    }\n",
       "                }\n",
       "            }, 500);\n",
       "            "
      ],
      "text/plain": [
       "<IPython.core.display.Javascript object>"
      ]
     },
     "metadata": {},
     "output_type": "display_data"
    }
   ],
   "source": [
    "!ls -lh /scratch/1kg/bcfs/ALL.chr1.phase3_shapeit2_mvncall_integrated_v5a.20130502.genotypes.bcf"
   ]
  },
  {
   "cell_type": "markdown",
   "metadata": {
    "slideshow": {
     "slide_type": "slide"
    }
   },
   "source": [
    "Instead, we will use a different recent format called a 'tree sequence' which compactly stores the data."
   ]
  },
  {
   "cell_type": "code",
   "execution_count": 169,
   "metadata": {},
   "outputs": [
    {
     "data": {
      "application/javascript": [
       "\n",
       "            setTimeout(function() {\n",
       "                var nbb_cell_id = 169;\n",
       "                var nbb_unformatted_code = \"# !pip install tskit\\n# !wget https://zenodo.org/record/3051855/files/1kg_chr1.trees.tsz\\n# !tsunzip 1kg_chr1.trees.tsz\";\n",
       "                var nbb_formatted_code = \"# !pip install tskit\\n# !wget https://zenodo.org/record/3051855/files/1kg_chr1.trees.tsz\\n# !tsunzip 1kg_chr1.trees.tsz\";\n",
       "                var nbb_cells = Jupyter.notebook.get_cells();\n",
       "                for (var i = 0; i < nbb_cells.length; ++i) {\n",
       "                    if (nbb_cells[i].input_prompt_number == nbb_cell_id) {\n",
       "                        if (nbb_cells[i].get_text() == nbb_unformatted_code) {\n",
       "                             nbb_cells[i].set_text(nbb_formatted_code);\n",
       "                        }\n",
       "                        break;\n",
       "                    }\n",
       "                }\n",
       "            }, 500);\n",
       "            "
      ],
      "text/plain": [
       "<IPython.core.display.Javascript object>"
      ]
     },
     "metadata": {},
     "output_type": "display_data"
    }
   ],
   "source": [
    "# !pip install tskit\n",
    "# !wget https://zenodo.org/record/3051855/files/1kg_chr1.trees.tsz\n",
    "# !tsunzip 1kg_chr1.trees.tsz"
   ]
  },
  {
   "cell_type": "code",
   "execution_count": 170,
   "metadata": {
    "slideshow": {
     "slide_type": "slide"
    }
   },
   "outputs": [
    {
     "data": {
      "application/javascript": [
       "\n",
       "            setTimeout(function() {\n",
       "                var nbb_cell_id = 170;\n",
       "                var nbb_unformatted_code = \"import tskit\\n\\nchr1 = tskit.load(\\\"1kg_chr1.trees\\\")\";\n",
       "                var nbb_formatted_code = \"import tskit\\n\\nchr1 = tskit.load(\\\"1kg_chr1.trees\\\")\";\n",
       "                var nbb_cells = Jupyter.notebook.get_cells();\n",
       "                for (var i = 0; i < nbb_cells.length; ++i) {\n",
       "                    if (nbb_cells[i].input_prompt_number == nbb_cell_id) {\n",
       "                        if (nbb_cells[i].get_text() == nbb_unformatted_code) {\n",
       "                             nbb_cells[i].set_text(nbb_formatted_code);\n",
       "                        }\n",
       "                        break;\n",
       "                    }\n",
       "                }\n",
       "            }, 500);\n",
       "            "
      ],
      "text/plain": [
       "<IPython.core.display.Javascript object>"
      ]
     },
     "metadata": {},
     "output_type": "display_data"
    }
   ],
   "source": [
    "import tskit\n",
    "\n",
    "chr1 = tskit.load(\"1kg_chr1.trees\")"
   ]
  },
  {
   "cell_type": "markdown",
   "metadata": {
    "slideshow": {
     "slide_type": "slide"
    }
   },
   "source": [
    "`chr1` contains all the genetic variation data for chromosome one in ~2500 people:"
   ]
  },
  {
   "cell_type": "code",
   "execution_count": 171,
   "metadata": {},
   "outputs": [
    {
     "data": {
      "text/plain": [
       "5008"
      ]
     },
     "execution_count": 171,
     "metadata": {},
     "output_type": "execute_result"
    },
    {
     "data": {
      "application/javascript": [
       "\n",
       "            setTimeout(function() {\n",
       "                var nbb_cell_id = 171;\n",
       "                var nbb_unformatted_code = \"chr1.get_sample_size()\";\n",
       "                var nbb_formatted_code = \"chr1.get_sample_size()\";\n",
       "                var nbb_cells = Jupyter.notebook.get_cells();\n",
       "                for (var i = 0; i < nbb_cells.length; ++i) {\n",
       "                    if (nbb_cells[i].input_prompt_number == nbb_cell_id) {\n",
       "                        if (nbb_cells[i].get_text() == nbb_unformatted_code) {\n",
       "                             nbb_cells[i].set_text(nbb_formatted_code);\n",
       "                        }\n",
       "                        break;\n",
       "                    }\n",
       "                }\n",
       "            }, 500);\n",
       "            "
      ],
      "text/plain": [
       "<IPython.core.display.Javascript object>"
      ]
     },
     "metadata": {},
     "output_type": "display_data"
    }
   ],
   "source": [
    "chr1.get_sample_size()"
   ]
  },
  {
   "cell_type": "markdown",
   "metadata": {
    "slideshow": {
     "slide_type": "slide"
    }
   },
   "source": [
    "It also contains all the metadata for individuals:"
   ]
  },
  {
   "cell_type": "code",
   "execution_count": 172,
   "metadata": {},
   "outputs": [
    {
     "data": {
      "text/plain": [
       "{'id': 1752, 'flags': 0, 'location': array([], dtype=float64), 'metadata': b'{\"family_id\": \"1463\", \"gender\": \"2\", \"individual_id\": \"NA12878\", \"maternal_id\": \"NA12892\", \"other_comments\": null, \"paternal_id\": \"NA12891\", \"phenotype\": null, \"relationship\": \"mother; child\", \"second_order\": null, \"siblings\": null, \"third_order\": null}', 'nodes': array([3504, 3505], dtype=int32)}"
      ]
     },
     "execution_count": 172,
     "metadata": {},
     "output_type": "execute_result"
    },
    {
     "data": {
      "application/javascript": [
       "\n",
       "            setTimeout(function() {\n",
       "                var nbb_cell_id = 172;\n",
       "                var nbb_unformatted_code = \"import json\\n\\nnext(\\n    ind\\n    for ind in chr1.individuals()\\n    if json.loads(ind.metadata)[\\\"individual_id\\\"] == \\\"NA12878\\\"\\n)\";\n",
       "                var nbb_formatted_code = \"import json\\n\\nnext(\\n    ind\\n    for ind in chr1.individuals()\\n    if json.loads(ind.metadata)[\\\"individual_id\\\"] == \\\"NA12878\\\"\\n)\";\n",
       "                var nbb_cells = Jupyter.notebook.get_cells();\n",
       "                for (var i = 0; i < nbb_cells.length; ++i) {\n",
       "                    if (nbb_cells[i].input_prompt_number == nbb_cell_id) {\n",
       "                        if (nbb_cells[i].get_text() == nbb_unformatted_code) {\n",
       "                             nbb_cells[i].set_text(nbb_formatted_code);\n",
       "                        }\n",
       "                        break;\n",
       "                    }\n",
       "                }\n",
       "            }, 500);\n",
       "            "
      ],
      "text/plain": [
       "<IPython.core.display.Javascript object>"
      ]
     },
     "metadata": {},
     "output_type": "display_data"
    }
   ],
   "source": [
    "import json\n",
    "\n",
    "next(\n",
    "    ind\n",
    "    for ind in chr1.individuals()\n",
    "    if json.loads(ind.metadata)[\"individual_id\"] == \"NA12878\"\n",
    ")"
   ]
  },
  {
   "cell_type": "markdown",
   "metadata": {
    "slideshow": {
     "slide_type": "slide"
    }
   },
   "source": [
    "### Watterson's estimator for `chr1`\n",
    "According to the above result, our estimate for $\\theta$ is the number of alleles $K_n$ divided by the ($\\log$) of the sample size. What constitutes an allele here? Since the chromosome is very large and mutations are very sparse, each new mutation lands at a new site and creates a new allele. So we can approximate $K_n$ by the number of sites with mutations:"
   ]
  },
  {
   "cell_type": "code",
   "execution_count": 173,
   "metadata": {},
   "outputs": [
    {
     "data": {
      "text/plain": [
       "0.00143839946639681"
      ]
     },
     "execution_count": 173,
     "metadata": {},
     "output_type": "execute_result"
    },
    {
     "data": {
      "application/javascript": [
       "\n",
       "            setTimeout(function() {\n",
       "                var nbb_cell_id = 173;\n",
       "                var nbb_unformatted_code = \"theta_W = (\\n    chr1.get_num_sites() / np.log(chr1.get_sample_size()) / chr1.get_sequence_length()\\n)\\ntheta_W\";\n",
       "                var nbb_formatted_code = \"theta_W = (\\n    chr1.get_num_sites() / np.log(chr1.get_sample_size()) / chr1.get_sequence_length()\\n)\\ntheta_W\";\n",
       "                var nbb_cells = Jupyter.notebook.get_cells();\n",
       "                for (var i = 0; i < nbb_cells.length; ++i) {\n",
       "                    if (nbb_cells[i].input_prompt_number == nbb_cell_id) {\n",
       "                        if (nbb_cells[i].get_text() == nbb_unformatted_code) {\n",
       "                             nbb_cells[i].set_text(nbb_formatted_code);\n",
       "                        }\n",
       "                        break;\n",
       "                    }\n",
       "                }\n",
       "            }, 500);\n",
       "            "
      ],
      "text/plain": [
       "<IPython.core.display.Javascript object>"
      ]
     },
     "metadata": {},
     "output_type": "display_data"
    }
   ],
   "source": [
    "theta_W = (\n",
    "    chr1.get_num_sites() / np.log(chr1.get_sample_size()) / chr1.get_sequence_length()\n",
    ")\n",
    "theta_W"
   ]
  },
  {
   "cell_type": "markdown",
   "metadata": {
    "slideshow": {
     "slide_type": "slide"
    }
   },
   "source": [
    "This gives an estimate of "
   ]
  },
  {
   "cell_type": "code",
   "execution_count": 174,
   "metadata": {},
   "outputs": [
    {
     "data": {
      "text/plain": [
       "35959.98665992025"
      ]
     },
     "execution_count": 174,
     "metadata": {},
     "output_type": "execute_result"
    },
    {
     "data": {
      "application/javascript": [
       "\n",
       "            setTimeout(function() {\n",
       "                var nbb_cell_id = 174;\n",
       "                var nbb_unformatted_code = \"theta_W / (4 * 1e-8)\";\n",
       "                var nbb_formatted_code = \"theta_W / (4 * 1e-8)\";\n",
       "                var nbb_cells = Jupyter.notebook.get_cells();\n",
       "                for (var i = 0; i < nbb_cells.length; ++i) {\n",
       "                    if (nbb_cells[i].input_prompt_number == nbb_cell_id) {\n",
       "                        if (nbb_cells[i].get_text() == nbb_unformatted_code) {\n",
       "                             nbb_cells[i].set_text(nbb_formatted_code);\n",
       "                        }\n",
       "                        break;\n",
       "                    }\n",
       "                }\n",
       "            }, 500);\n",
       "            "
      ],
      "text/plain": [
       "<IPython.core.display.Javascript object>"
      ]
     },
     "metadata": {},
     "output_type": "display_data"
    }
   ],
   "source": [
    "theta_W / (4 * 1e-8)"
   ]
  },
  {
   "cell_type": "markdown",
   "metadata": {},
   "source": [
    "for the population size of humans. What's going on?"
   ]
  },
  {
   "cell_type": "markdown",
   "metadata": {
    "slideshow": {
     "slide_type": "slide"
    }
   },
   "source": [
    "### Effective population size\n",
    "If we think back to the Wright-Fisher model, we saw that the expected TMRCA between any two genes in the population was $2N$:\n",
    "\n",
    "$$\\mathbb{E}T_\\text{MRCA} = 2N.$$\n",
    "\n",
    "If we turn this relationship on its head, we get that \n",
    "\n",
    "$$N = \\frac{1}{2\\mathbb{E}T_\\text{MRCA}}.$$"
   ]
  },
  {
   "cell_type": "markdown",
   "metadata": {
    "slideshow": {
     "slide_type": "slide"
    }
   },
   "source": [
    "This relationship assumes a neutral, constant population size model. What sorts of things could cause it to break down?"
   ]
  },
  {
   "cell_type": "markdown",
   "metadata": {
    "slideshow": {
     "slide_type": "slide"
    }
   },
   "source": [
    "Motivated by these phonemona, we define the *effective population size* $N_e$ to satisfy $N_e = 1/(2\\mathbb{E}T_{\\text{MRCA}})$. Note that this is different from the \"census\" population size (the number of people currently living). $N_e$ is always smaller than the census population size.\n",
    "\n",
    "To investigate this further, we'll use simulation software to see how $N_e$ changes in various scenarios."
   ]
  },
  {
   "cell_type": "code",
   "execution_count": 175,
   "metadata": {
    "slideshow": {
     "slide_type": "-"
    }
   },
   "outputs": [
    {
     "data": {
      "image/svg+xml": [
       "<svg baseProfile=\"full\" height=\"200\" version=\"1.1\" width=\"200\" xmlns=\"http://www.w3.org/2000/svg\" xmlns:ev=\"http://www.w3.org/2001/xml-events\" xmlns:xlink=\"http://www.w3.org/1999/xlink\"><defs/><g id=\"tree_0\"><g fill=\"none\" id=\"edges\" stroke=\"black\"><path d=\"M 70.0 170.0 V 30.0 H 100.0\" id=\"edge_0_0\"/><path d=\"M 130.0 170.0 V 30.0 H 100.0\" id=\"edge_0_1\"/></g><g id=\"symbols\"><g class=\"nodes\"><circle cx=\"100.0\" cy=\"30.0\" id=\"node_0_2\" r=\"3\"/><circle cx=\"70.0\" cy=\"170.0\" id=\"node_0_0\" r=\"3\"/><circle cx=\"130.0\" cy=\"170.0\" id=\"node_0_1\" r=\"3\"/></g><g class=\"mutations\" fill=\"red\"/></g><g font-size=\"14\" id=\"labels\"><g class=\"nodes\"><g text-anchor=\"start\"/><g text-anchor=\"middle\"><text x=\"100.0\" y=\"25.0\">2</text><text x=\"70.0\" y=\"190.0\">0</text><text x=\"130.0\" y=\"190.0\">1</text></g><g text-anchor=\"end\"/></g><g class=\"mutations\" font-style=\"italic\"><g text-anchor=\"start\"/><g text-anchor=\"end\"/></g></g></g></svg>"
      ],
      "text/plain": [
       "<IPython.core.display.SVG object>"
      ]
     },
     "execution_count": 175,
     "metadata": {},
     "output_type": "execute_result"
    },
    {
     "data": {
      "application/javascript": [
       "\n",
       "            setTimeout(function() {\n",
       "                var nbb_cell_id = 175;\n",
       "                var nbb_unformatted_code = \"import msprime as msp\\n\\nSVG(next(msp.simulate(sample_size=2).trees()).draw(format=\\\"svg\\\"))\";\n",
       "                var nbb_formatted_code = \"import msprime as msp\\n\\nSVG(next(msp.simulate(sample_size=2).trees()).draw(format=\\\"svg\\\"))\";\n",
       "                var nbb_cells = Jupyter.notebook.get_cells();\n",
       "                for (var i = 0; i < nbb_cells.length; ++i) {\n",
       "                    if (nbb_cells[i].input_prompt_number == nbb_cell_id) {\n",
       "                        if (nbb_cells[i].get_text() == nbb_unformatted_code) {\n",
       "                             nbb_cells[i].set_text(nbb_formatted_code);\n",
       "                        }\n",
       "                        break;\n",
       "                    }\n",
       "                }\n",
       "            }, 500);\n",
       "            "
      ],
      "text/plain": [
       "<IPython.core.display.Javascript object>"
      ]
     },
     "metadata": {},
     "output_type": "display_data"
    }
   ],
   "source": [
    "import msprime as msp\n",
    "\n",
    "SVG(next(msp.simulate(sample_size=2).trees()).draw(format=\"svg\"))"
   ]
  },
  {
   "cell_type": "markdown",
   "metadata": {
    "slideshow": {
     "slide_type": "slide"
    }
   },
   "source": [
    "By default, $N_e=1$. So the height of the trees should be $2N_e=2$ on average:"
   ]
  },
  {
   "cell_type": "code",
   "execution_count": 176,
   "metadata": {},
   "outputs": [
    {
     "data": {
      "text/plain": [
       "2.0230876286886823"
      ]
     },
     "execution_count": 176,
     "metadata": {},
     "output_type": "execute_result"
    },
    {
     "data": {
      "application/javascript": [
       "\n",
       "            setTimeout(function() {\n",
       "                var nbb_cell_id = 176;\n",
       "                var nbb_unformatted_code = \"np.mean([r.get_time(2) for r in msp.simulate(sample_size=2, num_replicates=1000)])\";\n",
       "                var nbb_formatted_code = \"np.mean([r.get_time(2) for r in msp.simulate(sample_size=2, num_replicates=1000)])\";\n",
       "                var nbb_cells = Jupyter.notebook.get_cells();\n",
       "                for (var i = 0; i < nbb_cells.length; ++i) {\n",
       "                    if (nbb_cells[i].input_prompt_number == nbb_cell_id) {\n",
       "                        if (nbb_cells[i].get_text() == nbb_unformatted_code) {\n",
       "                             nbb_cells[i].set_text(nbb_formatted_code);\n",
       "                        }\n",
       "                        break;\n",
       "                    }\n",
       "                }\n",
       "            }, 500);\n",
       "            "
      ],
      "text/plain": [
       "<IPython.core.display.Javascript object>"
      ]
     },
     "metadata": {},
     "output_type": "display_data"
    }
   ],
   "source": [
    "np.mean([r.get_time(2) for r in msp.simulate(sample_size=2, num_replicates=1000)])"
   ]
  },
  {
   "cell_type": "markdown",
   "metadata": {
    "slideshow": {
     "slide_type": "slide"
    }
   },
   "source": [
    "We know that humans expanded rapidly in the very recent past, but before that they had a small effective population size:\n",
    "![human Ne](https://www.genetics.org/content/genetics/205/1/385/F2.large.jpg?width=800&height=600&carousel=1)\n",
    "Source: https://www.genetics.org/content/205/1/385"
   ]
  },
  {
   "cell_type": "markdown",
   "metadata": {
    "slideshow": {
     "slide_type": "slide"
    }
   },
   "source": [
    "Let's use msprime to study the effect of population growth on $N_e$. To do this we need to define a series of demographic events. We'll use a simple approximation to the above plot:"
   ]
  },
  {
   "cell_type": "code",
   "execution_count": 177,
   "metadata": {
    "slideshow": {
     "slide_type": "-"
    }
   },
   "outputs": [
    {
     "data": {
      "application/javascript": [
       "\n",
       "            setTimeout(function() {\n",
       "                var nbb_cell_id = 177;\n",
       "                var nbb_unformatted_code = \"g = 30  # generation time of humans\\ndemographic_events = [\\n    msp.PopulationParametersChange(time=0, initial_size=1_000_000),\\n    msp.PopulationParametersChange(time=10_000 / g, initial_size=10_000),\\n    msp.PopulationParametersChange(time=100_000 / g, initial_size=40_000),\\n]\";\n",
       "                var nbb_formatted_code = \"g = 30  # generation time of humans\\ndemographic_events = [\\n    msp.PopulationParametersChange(time=0, initial_size=1_000_000),\\n    msp.PopulationParametersChange(time=10_000 / g, initial_size=10_000),\\n    msp.PopulationParametersChange(time=100_000 / g, initial_size=40_000),\\n]\";\n",
       "                var nbb_cells = Jupyter.notebook.get_cells();\n",
       "                for (var i = 0; i < nbb_cells.length; ++i) {\n",
       "                    if (nbb_cells[i].input_prompt_number == nbb_cell_id) {\n",
       "                        if (nbb_cells[i].get_text() == nbb_unformatted_code) {\n",
       "                             nbb_cells[i].set_text(nbb_formatted_code);\n",
       "                        }\n",
       "                        break;\n",
       "                    }\n",
       "                }\n",
       "            }, 500);\n",
       "            "
      ],
      "text/plain": [
       "<IPython.core.display.Javascript object>"
      ]
     },
     "metadata": {},
     "output_type": "display_data"
    }
   ],
   "source": [
    "g = 30  # generation time of humans\n",
    "demographic_events = [\n",
    "    msp.PopulationParametersChange(time=0, initial_size=1_000_000),\n",
    "    msp.PopulationParametersChange(time=10_000 / g, initial_size=10_000),\n",
    "    msp.PopulationParametersChange(time=100_000 / g, initial_size=40_000),\n",
    "]"
   ]
  },
  {
   "cell_type": "code",
   "execution_count": 178,
   "metadata": {
    "slideshow": {
     "slide_type": "slide"
    }
   },
   "outputs": [
    {
     "data": {
      "text/plain": [
       "38791.86607044677"
      ]
     },
     "execution_count": 178,
     "metadata": {},
     "output_type": "execute_result"
    },
    {
     "data": {
      "application/javascript": [
       "\n",
       "            setTimeout(function() {\n",
       "                var nbb_cell_id = 178;\n",
       "                var nbb_unformatted_code = \"np.mean(\\n    [\\n        r.get_time(2)\\n        for r in msp.simulate(\\n            sample_size=2, num_replicates=1000, demographic_events=demographic_events\\n        )\\n    ]\\n) / 2\";\n",
       "                var nbb_formatted_code = \"np.mean(\\n    [\\n        r.get_time(2)\\n        for r in msp.simulate(\\n            sample_size=2, num_replicates=1000, demographic_events=demographic_events\\n        )\\n    ]\\n) / 2\";\n",
       "                var nbb_cells = Jupyter.notebook.get_cells();\n",
       "                for (var i = 0; i < nbb_cells.length; ++i) {\n",
       "                    if (nbb_cells[i].input_prompt_number == nbb_cell_id) {\n",
       "                        if (nbb_cells[i].get_text() == nbb_unformatted_code) {\n",
       "                             nbb_cells[i].set_text(nbb_formatted_code);\n",
       "                        }\n",
       "                        break;\n",
       "                    }\n",
       "                }\n",
       "            }, 500);\n",
       "            "
      ],
      "text/plain": [
       "<IPython.core.display.Javascript object>"
      ]
     },
     "metadata": {},
     "output_type": "display_data"
    }
   ],
   "source": [
    "np.mean(\n",
    "    [\n",
    "        r.get_time(2)\n",
    "        for r in msp.simulate(\n",
    "            sample_size=2, num_replicates=1000, demographic_events=demographic_events\n",
    "        )\n",
    "    ]\n",
    ") / 2"
   ]
  },
  {
   "cell_type": "markdown",
   "metadata": {
    "slideshow": {
     "slide_type": "slide"
    }
   },
   "source": [
    "## Another estimator of $\\theta$\n",
    "There are other unbiased estimators of $\\theta$. Given a sample of $n$ genes let $\\pi_{ij}$ be the number of differences between them. For example:"
   ]
  },
  {
   "cell_type": "code",
   "execution_count": 179,
   "metadata": {},
   "outputs": [
    {
     "data": {
      "text/plain": [
       "array([[1, 0, 0, 1, 0, 0, 0, 0, 1, 0],\n",
       "       [0, 0, 1, 0, 0, 0, 0, 0, 0, 0],\n",
       "       [0, 1, 0, 0, 0, 0, 0, 1, 0, 0]], dtype=int8)"
      ]
     },
     "execution_count": 179,
     "metadata": {},
     "output_type": "execute_result"
    },
    {
     "data": {
      "application/javascript": [
       "\n",
       "            setTimeout(function() {\n",
       "                var nbb_cell_id = 179;\n",
       "                var nbb_unformatted_code = \"sim = msp.simulate(sample_size=10, length=100, mutation_rate=0.002, random_seed=1)\\nG = sim.genotype_matrix()\\nG\";\n",
       "                var nbb_formatted_code = \"sim = msp.simulate(sample_size=10, length=100, mutation_rate=0.002, random_seed=1)\\nG = sim.genotype_matrix()\\nG\";\n",
       "                var nbb_cells = Jupyter.notebook.get_cells();\n",
       "                for (var i = 0; i < nbb_cells.length; ++i) {\n",
       "                    if (nbb_cells[i].input_prompt_number == nbb_cell_id) {\n",
       "                        if (nbb_cells[i].get_text() == nbb_unformatted_code) {\n",
       "                             nbb_cells[i].set_text(nbb_formatted_code);\n",
       "                        }\n",
       "                        break;\n",
       "                    }\n",
       "                }\n",
       "            }, 500);\n",
       "            "
      ],
      "text/plain": [
       "<IPython.core.display.Javascript object>"
      ]
     },
     "metadata": {},
     "output_type": "display_data"
    }
   ],
   "source": [
    "sim = msp.simulate(sample_size=10, length=100, mutation_rate=0.002, random_seed=1)\n",
    "G = sim.genotype_matrix()\n",
    "G"
   ]
  },
  {
   "cell_type": "markdown",
   "metadata": {
    "slideshow": {
     "slide_type": "slide"
    }
   },
   "source": [
    "The matrix G has one column per sample, and one row for each mutation."
   ]
  },
  {
   "cell_type": "code",
   "execution_count": 180,
   "metadata": {},
   "outputs": [
    {
     "data": {
      "image/svg+xml": [
       "<svg baseProfile=\"full\" height=\"200\" version=\"1.1\" width=\"200\" xmlns=\"http://www.w3.org/2000/svg\" xmlns:ev=\"http://www.w3.org/2001/xml-events\" xmlns:xlink=\"http://www.w3.org/1999/xlink\"><defs/><g id=\"tree_0\"><g fill=\"none\" id=\"edges\" stroke=\"black\"><path d=\"M 34.54545454545455 150.60655985870392 V 30.0 H 60.36931818181818\" id=\"edge_0_12\"/><path d=\"M 26.363636363636363 170.0 V 150.60655985870392 H 34.54545454545455\" id=\"edge_0_1\"/><path d=\"M 42.72727272727273 170.0 V 150.60655985870392 H 34.54545454545455\" id=\"edge_0_7\"/><path d=\"M 86.19318181818181 74.46825644302604 V 30.0 H 60.36931818181818\" id=\"edge_0_17\"/><path d=\"M 59.09090909090909 170.0 V 74.46825644302604 H 86.19318181818181\" id=\"edge_0_4\"/><path d=\"M 113.29545454545455 98.82365789792294 V 74.46825644302604 H 86.19318181818181\" id=\"edge_0_16\"/><path d=\"M 87.72727272727272 153.1063148247154 V 98.82365789792294 H 113.29545454545455\" id=\"edge_0_11\"/><path d=\"M 75.45454545454545 170.0 V 153.1063148247154 H 87.72727272727272\" id=\"edge_0_8\"/><path d=\"M 100.0 167.6686809705572 V 153.1063148247154 H 87.72727272727272\" id=\"edge_0_10\"/><path d=\"M 91.81818181818181 170.0 V 167.6686809705572 H 100.0\" id=\"edge_0_0\"/><path d=\"M 108.18181818181817 170.0 V 167.6686809705572 H 100.0\" id=\"edge_0_3\"/><path d=\"M 138.86363636363637 123.90234105629361 V 98.82365789792294 H 113.29545454545455\" id=\"edge_0_15\"/><path d=\"M 124.54545454545453 170.0 V 123.90234105629361 H 138.86363636363637\" id=\"edge_0_2\"/><path d=\"M 153.1818181818182 145.4418374958822 V 123.90234105629361 H 138.86363636363637\" id=\"edge_0_14\"/><path d=\"M 140.9090909090909 170.0 V 145.4418374958822 H 153.1818181818182\" id=\"edge_0_6\"/><path d=\"M 165.45454545454547 148.1133373841217 V 145.4418374958822 H 153.1818181818182\" id=\"edge_0_13\"/><path d=\"M 157.27272727272728 170.0 V 148.1133373841217 H 165.45454545454547\" id=\"edge_0_5\"/><path d=\"M 173.63636363636365 170.0 V 148.1133373841217 H 165.45454545454547\" id=\"edge_0_9\"/></g><g id=\"symbols\"><g class=\"nodes\"><circle cx=\"60.36931818181818\" cy=\"30.0\" id=\"node_0_18\" r=\"3\"/><circle cx=\"34.54545454545455\" cy=\"150.60655985870392\" id=\"node_0_12\" r=\"3\"/><circle cx=\"26.363636363636363\" cy=\"170.0\" id=\"node_0_1\" r=\"3\"/><circle cx=\"42.72727272727273\" cy=\"170.0\" id=\"node_0_7\" r=\"3\"/><circle cx=\"86.19318181818181\" cy=\"74.46825644302604\" id=\"node_0_17\" r=\"3\"/><circle cx=\"59.09090909090909\" cy=\"170.0\" id=\"node_0_4\" r=\"3\"/><circle cx=\"113.29545454545455\" cy=\"98.82365789792294\" id=\"node_0_16\" r=\"3\"/><circle cx=\"87.72727272727272\" cy=\"153.1063148247154\" id=\"node_0_11\" r=\"3\"/><circle cx=\"75.45454545454545\" cy=\"170.0\" id=\"node_0_8\" r=\"3\"/><circle cx=\"100.0\" cy=\"167.6686809705572\" id=\"node_0_10\" r=\"3\"/><circle cx=\"91.81818181818181\" cy=\"170.0\" id=\"node_0_0\" r=\"3\"/><circle cx=\"108.18181818181817\" cy=\"170.0\" id=\"node_0_3\" r=\"3\"/><circle cx=\"138.86363636363637\" cy=\"123.90234105629361\" id=\"node_0_15\" r=\"3\"/><circle cx=\"124.54545454545453\" cy=\"170.0\" id=\"node_0_2\" r=\"3\"/><circle cx=\"153.1818181818182\" cy=\"145.4418374958822\" id=\"node_0_14\" r=\"3\"/><circle cx=\"140.9090909090909\" cy=\"170.0\" id=\"node_0_6\" r=\"3\"/><circle cx=\"165.45454545454547\" cy=\"148.1133373841217\" id=\"node_0_13\" r=\"3\"/><circle cx=\"157.27272727272728\" cy=\"170.0\" id=\"node_0_5\" r=\"3\"/><circle cx=\"173.63636363636365\" cy=\"170.0\" id=\"node_0_9\" r=\"3\"/></g><g class=\"mutations\" fill=\"red\"><rect height=\"6\" transform=\"translate(-3, -3)\" width=\"6\" x=\"34.54545454545455\" y=\"90.30327992935196\"/><rect height=\"6\" transform=\"translate(-3, -3)\" width=\"6\" x=\"87.72727272727272\" y=\"125.96498636131918\"/><rect height=\"6\" transform=\"translate(-3, -3)\" width=\"6\" x=\"124.54545454545453\" y=\"146.9511705281468\"/></g></g><g font-size=\"14\" id=\"labels\"><g class=\"nodes\"><g text-anchor=\"start\"><text x=\"91.19318181818181\" y=\"69.46825644302604\">17</text><text x=\"118.29545454545455\" y=\"93.82365789792294\">16</text><text x=\"105.0\" y=\"162.6686809705572\">10</text><text x=\"143.86363636363637\" y=\"118.90234105629361\">15</text><text x=\"158.1818181818182\" y=\"140.4418374958822\">14</text><text x=\"170.45454545454547\" y=\"143.1133373841217\">13</text></g><g text-anchor=\"middle\"><text x=\"60.36931818181818\" y=\"25.0\">18</text><text x=\"26.363636363636363\" y=\"190.0\">1</text><text x=\"42.72727272727273\" y=\"190.0\">7</text><text x=\"59.09090909090909\" y=\"190.0\">4</text><text x=\"75.45454545454545\" y=\"190.0\">8</text><text x=\"91.81818181818181\" y=\"190.0\">0</text><text x=\"108.18181818181817\" y=\"190.0\">3</text><text x=\"124.54545454545453\" y=\"190.0\">2</text><text x=\"140.9090909090909\" y=\"190.0\">6</text><text x=\"157.27272727272728\" y=\"190.0\">5</text><text x=\"173.63636363636365\" y=\"190.0\">9</text></g><g text-anchor=\"end\"><text x=\"29.545454545454547\" y=\"145.60655985870392\">12</text><text x=\"82.72727272727272\" y=\"148.1063148247154\">11</text></g></g><g class=\"mutations\" font-style=\"italic\"><g text-anchor=\"start\"/><g text-anchor=\"end\"><text x=\"29.545454545454547\" y=\"94.30327992935196\">2</text><text x=\"82.72727272727272\" y=\"129.96498636131918\">0</text><text x=\"119.54545454545453\" y=\"150.9511705281468\">1</text></g></g></g></g></svg>"
      ],
      "text/plain": [
       "<IPython.core.display.SVG object>"
      ]
     },
     "execution_count": 180,
     "metadata": {},
     "output_type": "execute_result"
    },
    {
     "data": {
      "application/javascript": [
       "\n",
       "            setTimeout(function() {\n",
       "                var nbb_cell_id = 180;\n",
       "                var nbb_unformatted_code = \"SVG(next(sim.trees()).draw(\\\"svg\\\"))\";\n",
       "                var nbb_formatted_code = \"SVG(next(sim.trees()).draw(\\\"svg\\\"))\";\n",
       "                var nbb_cells = Jupyter.notebook.get_cells();\n",
       "                for (var i = 0; i < nbb_cells.length; ++i) {\n",
       "                    if (nbb_cells[i].input_prompt_number == nbb_cell_id) {\n",
       "                        if (nbb_cells[i].get_text() == nbb_unformatted_code) {\n",
       "                             nbb_cells[i].set_text(nbb_formatted_code);\n",
       "                        }\n",
       "                        break;\n",
       "                    }\n",
       "                }\n",
       "            }, 500);\n",
       "            "
      ],
      "text/plain": [
       "<IPython.core.display.Javascript object>"
      ]
     },
     "metadata": {},
     "output_type": "display_data"
    }
   ],
   "source": [
    "SVG(next(sim.trees()).draw(\"svg\"))"
   ]
  },
  {
   "cell_type": "markdown",
   "metadata": {
    "slideshow": {
     "slide_type": "slide"
    }
   },
   "source": [
    "The pairwise mismatches between any two samples is:"
   ]
  },
  {
   "cell_type": "code",
   "execution_count": 181,
   "metadata": {},
   "outputs": [
    {
     "data": {
      "text/plain": [
       "4"
      ]
     },
     "execution_count": 181,
     "metadata": {},
     "output_type": "execute_result"
    },
    {
     "data": {
      "application/javascript": [
       "\n",
       "            setTimeout(function() {\n",
       "                var nbb_cell_id = 181;\n",
       "                var nbb_unformatted_code = \"sum(abs(G[0] - G[1]))\";\n",
       "                var nbb_formatted_code = \"sum(abs(G[0] - G[1]))\";\n",
       "                var nbb_cells = Jupyter.notebook.get_cells();\n",
       "                for (var i = 0; i < nbb_cells.length; ++i) {\n",
       "                    if (nbb_cells[i].input_prompt_number == nbb_cell_id) {\n",
       "                        if (nbb_cells[i].get_text() == nbb_unformatted_code) {\n",
       "                             nbb_cells[i].set_text(nbb_formatted_code);\n",
       "                        }\n",
       "                        break;\n",
       "                    }\n",
       "                }\n",
       "            }, 500);\n",
       "            "
      ],
      "text/plain": [
       "<IPython.core.display.Javascript object>"
      ]
     },
     "metadata": {},
     "output_type": "display_data"
    }
   ],
   "source": [
    "sum(abs(G[0] - G[1]))"
   ]
  },
  {
   "cell_type": "markdown",
   "metadata": {
    "slideshow": {
     "slide_type": "slide"
    }
   },
   "source": [
    "It's easy to see that $\\mathbb{E}\\pi_{ij} = \\theta$. Thus, $$\\theta_\\pi = \\binom{n}{2}^{-1}\\sum_{i\\neq j} \\pi_{ij}$$ is another unbiased estimator of $\\theta$. This is known an *Tajima's $\\pi$*. "
   ]
  },
  {
   "cell_type": "markdown",
   "metadata": {
    "slideshow": {
     "slide_type": "notes"
    }
   },
   "source": [
    "$\\theta_\\pi$ and $\\theta_W$ are only equal in expectation when they are estimated from data that was generated under the neutral coalescent with constant population size. Tajima exploited this by looking at $D=\\theta_W - \\theta_\\pi$. This can be used to detect patterns of natural selection and population expansion, which we will cover in a later lecture."
   ]
  }
 ],
 "metadata": {
  "celltoolbar": "Slideshow",
  "kernelspec": {
   "display_name": "Python 3",
   "language": "python",
   "name": "python3"
  },
  "language_info": {
   "codemirror_mode": {
    "name": "ipython",
    "version": 3
   },
   "file_extension": ".py",
   "mimetype": "text/x-python",
   "name": "python",
   "nbconvert_exporter": "python",
   "pygments_lexer": "ipython3",
   "version": "3.7.5"
  }
 },
 "nbformat": 4,
 "nbformat_minor": 2
}
