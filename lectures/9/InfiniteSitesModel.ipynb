{
 "cells": [
  {
   "cell_type": "markdown",
   "metadata": {
    "slideshow": {
     "slide_type": "slide"
    }
   },
   "source": [
    "# Infinite Sites Model\n",
    "\n",
    "* Assume there are an infinite number of sites where a mutation can happen.\n",
    "* Assume every new mutation happens at a unique site.\n"
   ]
  },
  {
   "cell_type": "markdown",
   "metadata": {
    "slideshow": {
     "slide_type": "slide"
    }
   },
   "source": [
    "# Coalescent Tree Assumptions\n",
    "* $T_n, ... T_2$ are continuous random variables. $T_i$ represents the next time to coalecents when there are $i$ anscetors. \n",
    "* The ancestral tree in binary; when there are $k$ ancestoral lines, each pair has probability ${k \\choose 2}^{-1}$ of being the next pair to coalesce.\n",
    "* Mutations occur according to a Poisson process of rate $\\theta/2$ along the edges of the tree (conditioned on edge length)."
   ]
  },
  {
   "cell_type": "markdown",
   "metadata": {
    "slideshow": {
     "slide_type": "slide"
    }
   },
   "source": [
    "# Goal\n",
    "Show $q_{n,b}$, the probability that a segregating site has $b$ mutant bases, is:\n",
    "\n",
    "$$\n",
    "q_{n,b} = \\frac{(n-b-1)!(b-1)!\\sum_{k=2}^n k(k-1) {n-k \\choose b-1}E(T_k)}{(n-1)!\\sum_{k=2}^n k E(T_k)}\n",
    "$$\n",
    "\n",
    "For a mutation that happens uniformly at random across the lengths of all branches in the tree, what is the probabiliy it has $b$ descendents?\n",
    "\n",
    "### Why?\n",
    "Comparing these probabilities with what is seen in current DNA samples gives us some intuition on which tree topologies are reasonable. "
   ]
  },
  {
   "cell_type": "markdown",
   "metadata": {
    "slideshow": {
     "slide_type": "slide"
    }
   },
   "source": [
    "## Some definitions\n",
    "\n",
    "* $C(x, b, h)$: the event that there is a mutation with label $U$ in the interval $(x, x+h) \\subseteq (0,1)$ that results in $b$ decendents. Here we consider DNA sequences to be unit intervals, where we assume new mutations to arise in the sample uniformly. Mutations with locations in $(x, x+h)$ arise in a branch of the coaliscent at rate  $\\frac{\\theta h}{2}$\n",
    "* $T$: sequence of waiting times $T_2, ..., T_n$ in the coalescent tree of the sample.\n",
    "* $I_k$: the event that this mutation arises when the sample has $k$ ancestors."
   ]
  },
  {
   "cell_type": "markdown",
   "metadata": {
    "slideshow": {
     "slide_type": "slide"
    }
   },
   "source": [
    "To find $q_{n,b}$ we need to determine \n",
    "* (A) $P(C_h)$: the probabilty of mutation $U$ in $(x, x+h)$ that has $b$ decendends.\n",
    "* (B) $P($there is mutation $U$ in $(x, x+h)$)\n",
    "\n",
    "Then letting $h \\rightarrow 0$, we will have that\n",
    "\n",
    "$$q_{n,b} = \\frac{A}{B}$$\n",
    "\n",
    "\n"
   ]
  },
  {
   "cell_type": "markdown",
   "metadata": {
    "slideshow": {
     "slide_type": "slide"
    }
   },
   "source": [
    "(A)\n",
    "\n",
    "\\begin{align}\n",
    " P(C_h|T) &= \\sum_k P(C_h, I_k |T)\\\\\n",
    " &= \\sum_k p_{n,k}(b) P(I_k, U \\in (x,x+h) |T)\\\\\n",
    " &= \\sum_k p_{n,k}(b) \\left(kT_k \\frac{\\theta}{2}h + o(h)\\right)\n",
    "\\end{align}\n",
    "\n",
    "1. Law of total probability\n",
    "2. $p_{n,k}(b) $: Probability that a lineage of the tree when there are $k$ anscetors will have $b$ descendents. This is independent of  $T$ because it does not matter when the coalescent events happen. $$p_{n,k}(b) = \\frac{{n-b-1 \\choose k-2}}{{n-1 \\choose k-1}}$$\n",
    "3. $\\frac{\\theta h}{2}$ is the rate mutations arise in a branch. $T_k$ the length of the branch for each of the $k$ ancestors. \n"
   ]
  },
  {
   "cell_type": "markdown",
   "metadata": {
    "slideshow": {
     "slide_type": "slide"
    }
   },
   "source": [
    "(A)\n",
    "\n",
    "Averaging over the distribution of $t$ gives:\n",
    "\n",
    "$$P(C_h) \\sim \\frac{\\theta h}{2} \\sum_k k p_{n,k}(b) E(T_k), h \\downarrow 0$$\n",
    "\n",
    "(B)\n",
    "\n",
    "Summing over $b$ gives:\n",
    "\n",
    "$$P(\\text{there is mutation U in } (x, x+h)) \\sim \\frac{\\theta h}{2} \\sum_k k E(T_k)$$"
   ]
  },
  {
   "cell_type": "markdown",
   "metadata": {
    "slideshow": {
     "slide_type": "slide"
    }
   },
   "source": [
    "Dividing the two and letting $h \\rightarrow 0$ we get:\n",
    "\n",
    "\\begin{align}\n",
    "q_{n,b} &= \\frac{\\sum_k k p_{n,k}(b) E(T_k)}{\\sum_k k E(T_k)}, 0<b<n\\\\\n",
    "&= \\frac{\\sum_k k \\frac{{n-b-1 \\choose k-2}}{{n-1 \\choose k-1}} E(T_k)}{\\sum_k k E(T_k)}\\\\\n",
    "&= \\frac{(n-b-1)!(b-1)!\\sum_{k=2}^n k(k-1) {n-k \\choose b-1}E(T_k)}{(n-1)!\\sum_{k=2}^n k E(T_k)}\n",
    "\\end{align}\n",
    "\n"
   ]
  },
  {
   "cell_type": "markdown",
   "metadata": {
    "slideshow": {
     "slide_type": "slide"
    }
   },
   "source": [
    "If $B_{n,k}$ is a random variable with distribution $p_{n,k}(b)$, then\n",
    "\n",
    "$$ E\\left[B_{n,k}\\right] = \\frac{n}{k}, var\\left[B_{n,k}\\right] = \\frac{n(k-1)(n-k)}{k^2(k+1)}$$\n",
    "\n",
    "The mean number $\\mu$ of genes with this mutation is therefore:\n",
    "\n",
    "$$\\mu = n \\frac{\\sum_k E(T_k)}{\\sum_k k E(T_k)}$$\n",
    "\n",
    "Letting $W_n = \\sum_k T_k$ be the time to the most recent common ancestor of the sample, and $G_n = \\sum_k k T_k$ be the total edge length in the coalescent tree, then can express $\\mu$ as\n",
    "\n",
    "$$\\mu = n \\frac{E(W_n)}{ E(G_n)}$$"
   ]
  },
  {
   "cell_type": "markdown",
   "metadata": {
    "slideshow": {
     "slide_type": "slide"
    }
   },
   "source": [
    "## Constant population size\n",
    "\n",
    "Here $E(T_k) = \\frac{2}{k(k-1)}$, $k=n,...,2$, and so\n",
    "\n",
    "$$\\sum_k k p_{n,k}(b) E(T_k) = \\frac{2}{b}$$\n",
    "\n",
    "Recall\n",
    "\n",
    "$$q_{n,b} = \\frac{\\sum_k k p_{n,k}(b) E(T_k)}{\\sum_k k E(T_k)}$$\n",
    "\n",
    "So\n",
    "\n",
    "\\begin{align}\n",
    "q_{n,b} &= \\frac{2/b}{\\sum_k k \\frac{2}{k(k-1)}}\\\\\n",
    "&= \\frac{1/b}{\\sum_{j=1}^{n-1} j^{-1}} && b=1, ..., n-1\n",
    "\\end{align}\n",
    "\n",
    "\n"
   ]
  },
  {
   "cell_type": "markdown",
   "metadata": {
    "slideshow": {
     "slide_type": "slide"
    }
   },
   "source": [
    "The mean and variance for the above distribution are\n",
    "\n",
    "\\begin{align}\n",
    "    \\mu &= (n-1)/\\sum_{j=1}^{n-1}j^{-1}\\\\\n",
    "    \\sigma^2 &= n(n-1)/(2\\sum_{j=1}^{n-1}j^{-1}) - \\left((n-1)/\\sum_{j=1}^{n-1}j^{-1}\\right)^2\n",
    "\\end{align}\n",
    "\n",
    "As $ n \\rightarrow \\infty$,\n",
    "\n",
    "$$\\mu \\sim \\frac{n}{\\log n}, \\sigma^2 \\sim \\frac{n^2}{2\\log n}$$"
   ]
  }
 ],
 "metadata": {
  "celltoolbar": "Slideshow",
  "kernelspec": {
   "display_name": "Python 3",
   "language": "python",
   "name": "python3"
  },
  "language_info": {
   "codemirror_mode": {
    "name": "ipython",
    "version": 3
   },
   "file_extension": ".py",
   "mimetype": "text/x-python",
   "name": "python",
   "nbconvert_exporter": "python",
   "pygments_lexer": "ipython3",
   "version": "3.7.5"
  }
 },
 "nbformat": 4,
 "nbformat_minor": 2
}
